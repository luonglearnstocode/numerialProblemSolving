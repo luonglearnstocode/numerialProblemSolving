{
 "cells": [
  {
   "cell_type": "markdown",
   "metadata": {},
   "source": [
    "# Exercise 02 - Solutions\n",
    "Introduction to Numerical Problem Solving, Spring 2017   \n",
    "4.2.2017, Sakari Lukkarinen   \n",
    "Helsinki Metropolia University of Applied Sciences"
   ]
  },
  {
   "cell_type": "code",
   "execution_count": 76,
   "metadata": {
    "collapsed": true
   },
   "outputs": [],
   "source": [
    "# Initial import statements\n",
    "%matplotlib inline\n",
    "import matplotlib.pyplot as plt\n",
    "import numpy as np\n",
    "from matplotlib.pyplot import *\n",
    "from numpy import *"
   ]
  },
  {
   "cell_type": "markdown",
   "metadata": {},
   "source": [
    "## Problem 3\n",
    "\n",
    "Modify your code to calculate the smallest number xmin, that differs from zero.\n",
    "\n",
    "### Solution\n",
    "\n",
    "We need to work slightly differently when we are looking for the smallest number that differs from zero. If we just test if $eps == 0$, then eps = 0, and we get zero as results, when we multiply by 2. I we test before the division by 2, that if $eps/2 == 0$, and that is true, then eps is the smallest number.\n",
    "\n",
    "There are several options, how to do that, but here is one solution."
   ]
  },
  {
   "cell_type": "code",
   "execution_count": null,
   "metadata": {
    "collapsed": true
   },
   "outputs": [],
   "source": []
  },
  {
   "cell_type": "code",
   "execution_count": 77,
   "metadata": {
    "collapsed": false
   },
   "outputs": [
    {
     "name": "stdout",
     "output_type": "stream",
     "text": [
      "The smallest number that differs from 0 is 5e-324\n"
     ]
    }
   ],
   "source": [
    "eps = 1.0\n",
    "while True:\n",
    "    if eps/2 == 0:\n",
    "        break\n",
    "    eps = eps/2\n",
    "print(\"The smallest number that differs from 0 is\", eps)"
   ]
  },
  {
   "cell_type": "markdown",
   "metadata": {},
   "source": [
    "## Problem 4\n",
    "\n",
    "How does the (epsilon) change, when you increase or decrease the study point ? What is the relationship of the study point and epsilon? Use values that differ several decades.\n",
    "\n",
    "### Solution\n",
    "Let's change the point of study (x) in powers of ten. Then for each value of x, we find out what is the smallest number that differs from the point of study. We use the same logic as in previous problem to find the value of epsilon.\n",
    "\n",
    "Lastly we make a graph, where we have the point of study values at x-axis and the epsilons in y-axis. If we plot the graph in log-log scale we can observe, that the epsilon increases at the same rate as the point of study, e.g. if the point of study is increased 10 times, so is the epsilon."
   ]
  },
  {
   "cell_type": "code",
   "execution_count": 78,
   "metadata": {
    "collapsed": false
   },
   "outputs": [
    {
     "data": {
      "image/png": "[encoded data removed]",
      "text/plain": [
       "<matplotlib.figure.Figure at 0x84e7710>"
      ]
     },
     "metadata": {},
     "output_type": "display_data"
    }
   ],
   "source": [
    "# Number of study points\n",
    "N = 20\n",
    "x = zeros(N)\n",
    "y = zeros(N)\n",
    "\n",
    "for i in range(N):\n",
    "    x[i] = 10**(i-10) # Start from 1e-10 and end to 1e9\n",
    "    eps = 1.0\n",
    "    while True:\n",
    "        if eps/2 + x[i] == x[i]:\n",
    "            break\n",
    "        eps = eps/2\n",
    "    y[i] = eps\n",
    "\n",
    "figure()\n",
    "loglog(x, y, 'o-')\n",
    "xlabel('Point of study')\n",
    "ylabel('epsilon')\n",
    "title('Relationship between the point of study and epsilon')\n",
    "grid()"
   ]
  },
  {
   "cell_type": "markdown",
   "metadata": {},
   "source": [
    "## Problem 5\n",
    "\n",
    "The derivative of $f(x) = 1=(1 - 3x^2)$ is given by $f'(x) = 6x/(1 - 3x^2)^2$. Do you expect to have diffculties evaluating this function at $x = 0.577$? How does the value of the derivative change when you increase the significant figures in your calculations. Try using from 3-digit to 16-digit arithmetics.\n",
    "\n",
    "### Solution\n",
    "\n",
    "We use the Decimal-object and define x as a constant and the derivative as a function, df(x). Then we create a loop where the precision is increased from 3 to 16, the value of the derivative is evaluated and the results are printed.\n",
    "\n",
    "By studing the results we can observe that the df(x) have noticeably different values for 3, 4, and 5-digits, but after 6 digits it starts to be rather stable. We could conclude that 6 to 8 significant figures in arithmetics is rather safe accuracy for this problem. "
   ]
  },
  {
   "cell_type": "code",
   "execution_count": 79,
   "metadata": {
    "collapsed": false
   },
   "outputs": [
    {
     "name": "stdout",
     "output_type": "stream",
     "text": [
      "  3   3460000.0000000000\n",
      "  4   2049000.0000000000\n",
      "  5   2364600.0000000000\n",
      "  6   2352910.0000000000\n",
      "  7   2352911.0000000000\n",
      "  8   2352910.8000000000\n",
      "  9   2352910.7900000000\n",
      " 10   2352910.7930000000\n",
      " 11   2352910.7926000000\n",
      " 12   2352910.7926000000\n",
      " 13   2352910.7926020000\n",
      " 14   2352910.7926020000\n",
      " 15   2352910.7926019900\n",
      " 16   2352910.7926019920\n"
     ]
    }
   ],
   "source": [
    "from decimal import *\n",
    "x = Decimal('0.577')\n",
    "\n",
    "def df(x):\n",
    "    return 6*x/(1 - 3*x**2)**2\n",
    "\n",
    "for n in range(3, 17):\n",
    "    getcontext().prec = n\n",
    "    y = df(x)\n",
    "    print('{0:3d} {1:20.10f}'.format(n, y))"
   ]
  },
  {
   "cell_type": "markdown",
   "metadata": {},
   "source": [
    "## Problem 6\n",
    "\n",
    "Determine the number of terms necessary to approximate cos(x) to 8 significant figures using the Maclaurin series approximation.\n",
    "\n",
    "### Solution\n",
    "\n",
    "First, let's calculate the stop criteria and the true value. The first approximation is $cos(x) = 1$. Then adding more terms iterativel\n",
    "y, maximum 20 terms. Break the loop if the relative true error is less than stop criteria. Lastly print the results."
   ]
  },
  {
   "cell_type": "code",
   "execution_count": 80,
   "metadata": {
    "collapsed": false
   },
   "outputs": [
    {
     "name": "stdout",
     "output_type": "stream",
     "text": [
      "Significant figure:  8\n",
      "Number of terms:     6\n",
      "Estimated value:     0.5877852512720046\n",
      "True value:          0.5877852522924731\n",
      "True error:          0.0000000010204685\n",
      "Relative true error: 0.0000000017361247\n",
      "Stop criteria:       0.0000000050000000\n"
     ]
    }
   ],
   "source": [
    "from scipy.misc import factorial\n",
    "\n",
    "n = 8             # Number of significant figures\n",
    "es = 0.5*10**(-n) # Stop criteria\n",
    "x = 0.3*pi        # Value of x\n",
    "y_true = cos(x)   # True value of cos(x)\n",
    "y = 1             # First term of series approximation\n",
    "i = 1             # Number of terms\n",
    "imax = 20         # Maximum iterations\n",
    "\n",
    "while i < imax:\n",
    "    \n",
    "    # Add next term in series\n",
    "    y = y + (-1)**(i)*x**(2*i)/factorial(2*i)\n",
    "    i = i + 1\n",
    "    \n",
    "    # True error\n",
    "    et = abs(y - y_true)\n",
    "    \n",
    "    # Relative true error\n",
    "    et_rel = et/abs(y_true)\n",
    "    \n",
    "    # Break the loop if criteria fullfilled\n",
    "    if et_rel <= es:\n",
    "        break\n",
    "\n",
    "print(\"Significant figure:  {0:1d}\".format(n))\n",
    "print(\"Number of terms:     {0:1d}\".format(i))\n",
    "print(\"Estimated value:     {0:.16f}\".format(y))\n",
    "print(\"True value:          {0:.16f}\".format(y_true))\n",
    "print(\"True error:          {0:.16f}\".format(et))\n",
    "print(\"Relative true error: {0:.16f}\".format(et_rel)) \n",
    "print(\"Stop criteria:       {0:.16f}\".format(es))"
   ]
  },
  {
   "cell_type": "code",
   "execution_count": null,
   "metadata": {
    "collapsed": true
   },
   "outputs": [],
   "source": []
  }
 ],
 "metadata": {
  "anaconda-cloud": {},
  "kernelspec": {
   "display_name": "Python [Root]",
   "language": "python",
   "name": "Python [Root]"
  },
  "language_info": {
   "codemirror_mode": {
    "name": "ipython",
    "version": 3
   },
   "file_extension": ".py",
   "mimetype": "text/x-python",
   "name": "python",
   "nbconvert_exporter": "python",
   "pygments_lexer": "ipython3",
   "version": "3.5.2"
  }
 },
 "nbformat": 4,
 "nbformat_minor": 0
}
