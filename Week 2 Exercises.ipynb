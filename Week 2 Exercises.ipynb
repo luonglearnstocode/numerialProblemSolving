{
 "cells": [
  {
   "cell_type": "markdown",
   "metadata": {},
   "source": [
    "# Week 2 Exercises\n",
    "Approximations and round-off errors   \n",
    "Luong Nguyen, 31.1.2017"
   ]
  },
  {
   "cell_type": "code",
   "execution_count": 68,
   "metadata": {
    "collapsed": false
   },
   "outputs": [],
   "source": [
    "import numpy as np"
   ]
  },
  {
   "cell_type": "markdown",
   "metadata": {},
   "source": [
    "## Exercise 3"
   ]
  },
  {
   "cell_type": "code",
   "execution_count": 69,
   "metadata": {
    "collapsed": false
   },
   "outputs": [
    {
     "data": {
      "text/plain": [
       "0.0"
      ]
     },
     "execution_count": 69,
     "metadata": {},
     "output_type": "execute_result"
    }
   ],
   "source": [
    "x = 0.0\n",
    "eps = 1.0\n",
    "while (x + eps > x):\n",
    "    eps = eps/2\n",
    "eps*2"
   ]
  },
  {
   "cell_type": "code",
   "execution_count": 70,
   "metadata": {
    "collapsed": false
   },
   "outputs": [
    {
     "data": {
      "text/plain": [
       "5e-324"
      ]
     },
     "execution_count": 70,
     "metadata": {},
     "output_type": "execute_result"
    }
   ],
   "source": [
    "x = 0.0\n",
    "eps = 0.1\n",
    "res = []\n",
    "while (x + eps > x):\n",
    "    eps = eps/2\n",
    "    res.append(eps)\n",
    "res[-2]"
   ]
  },
  {
   "cell_type": "code",
   "execution_count": 71,
   "metadata": {
    "collapsed": false
   },
   "outputs": [
    {
     "data": {
      "text/plain": [
       "True"
      ]
     },
     "execution_count": 71,
     "metadata": {},
     "output_type": "execute_result"
    }
   ],
   "source": [
    "5e-324 + 0.0 > 0.0"
   ]
  },
  {
   "cell_type": "code",
   "execution_count": 72,
   "metadata": {
    "collapsed": false
   },
   "outputs": [
    {
     "data": {
      "text/plain": [
       "4.9406564584124654e-324"
      ]
     },
     "execution_count": 72,
     "metadata": {},
     "output_type": "execute_result"
    }
   ],
   "source": [
    "np.nextafter(0,1)"
   ]
  },
  {
   "cell_type": "code",
   "execution_count": 73,
   "metadata": {
    "collapsed": false
   },
   "outputs": [
    {
     "data": {
      "text/plain": [
       "True"
      ]
     },
     "execution_count": 73,
     "metadata": {},
     "output_type": "execute_result"
    }
   ],
   "source": [
    "4.9406564584124654e-324 + 0.0 > 0.0"
   ]
  },
  {
   "cell_type": "markdown",
   "metadata": {},
   "source": [
    "# Exercise 4"
   ]
  },
  {
   "cell_type": "code",
   "execution_count": 74,
   "metadata": {
    "collapsed": false
   },
   "outputs": [
    {
     "data": {
      "text/plain": [
       "0.125"
      ]
     },
     "execution_count": 74,
     "metadata": {},
     "output_type": "execute_result"
    }
   ],
   "source": [
    "x = 1000000000000000.0\n",
    "eps = 1.0\n",
    "while (x + eps > x):\n",
    "    eps = eps/2\n",
    "eps*2"
   ]
  },
  {
   "cell_type": "markdown",
   "metadata": {},
   "source": [
    "When the study point increases, the eps also increases. They have positive relationship."
   ]
  },
  {
   "cell_type": "markdown",
   "metadata": {},
   "source": [
    "# Exercise 5"
   ]
  },
  {
   "cell_type": "code",
   "execution_count": 75,
   "metadata": {
    "collapsed": false
   },
   "outputs": [
    {
     "data": {
      "text/plain": [
       "2352910.792601485"
      ]
     },
     "execution_count": 75,
     "metadata": {},
     "output_type": "execute_result"
    }
   ],
   "source": [
    "x = 0.577\n",
    "df = 6 * x / (1 - 3 * x**2)**2\n",
    "df"
   ]
  },
  {
   "cell_type": "code",
   "execution_count": 76,
   "metadata": {
    "collapsed": false
   },
   "outputs": [
    {
     "name": "stdout",
     "output_type": "stream",
     "text": [
      "3 significant digits - df = 3.46E+6\n",
      "4 significant digits - df = 2.049E+6\n",
      "5 significant digits - df = 2.3646E+6\n",
      "6 significant digits - df = 2.35291E+6\n",
      "7 significant digits - df = 2352911\n",
      "8 significant digits - df = 2352910.8\n",
      "9 significant digits - df = 2352910.79\n",
      "10 significant digits - df = 2352910.793\n",
      "11 significant digits - df = 2352910.7926\n",
      "12 significant digits - df = 2352910.79260\n",
      "13 significant digits - df = 2352910.792602\n",
      "14 significant digits - df = 2352910.7926020\n",
      "15 significant digits - df = 2352910.79260199\n",
      "16 significant digits - df = 2352910.792601992\n"
     ]
    }
   ],
   "source": [
    "from decimal import *\n",
    "for i in range(3, 17):\n",
    "    getcontext().prec = i\n",
    "    x = Decimal('0.577')\n",
    "    df = 6 * x / (1 - 3 * x**2)**2\n",
    "    print(i, \"significant digits - df =\", df)"
   ]
  },
  {
   "cell_type": "markdown",
   "metadata": {},
   "source": [
    "As the number of significant figures increases, the value of the derivative converges to 2352910.7926 "
   ]
  }
 ],
 "metadata": {
  "kernelspec": {
   "display_name": "Python [Root]",
   "language": "python",
   "name": "Python [Root]"
  },
  "language_info": {
   "codemirror_mode": {
    "name": "ipython",
    "version": 3
   },
   "file_extension": ".py",
   "mimetype": "text/x-python",
   "name": "python",
   "nbconvert_exporter": "python",
   "pygments_lexer": "ipython3",
   "version": "3.5.2"
  }
 },
 "nbformat": 4,
 "nbformat_minor": 0
}
