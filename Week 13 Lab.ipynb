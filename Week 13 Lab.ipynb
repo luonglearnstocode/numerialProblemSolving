{
 "cells": [
  {
   "cell_type": "markdown",
   "metadata": {},
   "source": [
    "# Week 13 - \n",
    "Introduction to Numerical Problem Solving, Spring 2017   \n",
    "Luong Nguyen, 26.4.2017  \n",
    "Helsinki Metropolia University of Applied Sciences"
   ]
  },
  {
   "cell_type": "code",
   "execution_count": 1,
   "metadata": {
    "collapsed": false
   },
   "outputs": [
    {
     "name": "stdout",
     "output_type": "stream",
     "text": [
      "Populating the interactive namespace from numpy and matplotlib\n"
     ]
    }
   ],
   "source": [
    "%pylab inline"
   ]
  },
  {
   "cell_type": "code",
   "execution_count": 22,
   "metadata": {
    "collapsed": false
   },
   "outputs": [
    {
     "name": "stdout",
     "output_type": "stream",
     "text": [
      "analytically 16.5663706144\n"
     ]
    },
    {
     "data": {
      "image/png": "[encoded data removed]",
      "text/plain": [
       "<matplotlib.figure.Figure at 0x1f6d70b4048>"
      ]
     },
     "metadata": {},
     "output_type": "display_data"
    }
   ],
   "source": [
    "f1 = lambda x : 8 + 4 * cos(x)\n",
    "a = 0\n",
    "b = pi/2\n",
    "\n",
    "fi = lambda x : 8 * x + 4 * sin(x)\n",
    "iTrue = fi(pi/2) - fi(0);\n",
    "print(\"analytically\", iTrue)\n",
    "x = np.linspace(-10, 10, 1000)\n",
    "\n",
    "axhline(0, color = 'r')\n",
    "ylim(-1, 13)\n",
    "plot(x, f1(x))\n",
    "grid()\n",
    "show()"
   ]
  },
  {
   "cell_type": "code",
   "execution_count": 85,
   "metadata": {
    "collapsed": false
   },
   "outputs": [
    {
     "name": "stdout",
     "output_type": "stream",
     "text": [
      "16.56637061435917\n"
     ]
    }
   ],
   "source": [
    "import scipy as sp\n",
    "from scipy import integrate\n",
    "\n",
    "# using scipy.integrate\n",
    "val, err = sp.integrate.quad(f1, 0, pi/2)\n",
    "print(val)"
   ]
  },
  {
   "cell_type": "code",
   "execution_count": 13,
   "metadata": {
    "collapsed": false
   },
   "outputs": [
    {
     "name": "stdout",
     "output_type": "stream",
     "text": [
      "15.7079632679\n"
     ]
    }
   ],
   "source": [
    "# using trapezoidal rule\n",
    "a = 0\n",
    "b = pi/2\n",
    "\n",
    "print((b-a) * (f1(a) + f1(b)) / 2)"
   ]
  },
  {
   "cell_type": "code",
   "execution_count": 27,
   "metadata": {
    "collapsed": false
   },
   "outputs": [
    {
     "name": "stdout",
     "output_type": "stream",
     "text": [
      "12.1062950221\n",
      "10.2209123176\n",
      "15.7079632679\n"
     ]
    }
   ],
   "source": [
    "f1 = lambda x : 8 + 4 * cos(x)\n",
    "\n",
    "# multiple application trapezoidal rule\n",
    "def multipleTrapezoidals(f, a, b, n):\n",
    "    h = (b - a) / n\n",
    "    result = f(a) + f(b)\n",
    "    i = 1\n",
    "    while(i < n):\n",
    "        i += 1\n",
    "        a += h\n",
    "        result += f(a)\n",
    "    return result * h / 2\n",
    "\n",
    "print(multipleTrapezoidals(f1, 0, pi/2, 2))\n",
    "print(multipleTrapezoidals(f1, 0, pi/2, 4))\n",
    "print(multipleTrapezoidals(f1, 0, pi/2, 1))"
   ]
  },
  {
   "cell_type": "code",
   "execution_count": 18,
   "metadata": {
    "collapsed": false
   },
   "outputs": [
    {
     "name": "stdout",
     "output_type": "stream",
     "text": [
      "16.5754901243\n"
     ]
    }
   ],
   "source": [
    "# single Simpson 1/3\n",
    "def singleSimpson13(f, a, b):\n",
    "    mid = (a + b) / 2\n",
    "    return (b - a) * (f(a) + f(b) + 4 * f(mid)) / 6\n",
    "\n",
    "print(singleSimpson13(f1, a, b))"
   ]
  },
  {
   "cell_type": "code",
   "execution_count": 60,
   "metadata": {
    "collapsed": false
   },
   "outputs": [
    {
     "name": "stdout",
     "output_type": "stream",
     "text": [
      "7.82461826518\n"
     ]
    }
   ],
   "source": [
    "# single Simpson 1/3\n",
    "def multipleSimpson13(f, a, b, n):\n",
    "    h = (b - a) / n\n",
    "    result = f(a) + f(b)\n",
    "    i = 0\n",
    "    while(i < n-1):\n",
    "        i += 1\n",
    "        a += h\n",
    "        if (i % 2 == 1):\n",
    "            result += 4 * f(a)\n",
    "        else:\n",
    "            result += 2 * f(a)\n",
    "    return result * h / 3\n",
    "\n",
    "\n",
    "print(multipleSimpson13(f1, a, b, 5))"
   ]
  },
  {
   "cell_type": "code",
   "execution_count": 70,
   "metadata": {
    "collapsed": false
   },
   "outputs": [
    {
     "name": "stdout",
     "output_type": "stream",
     "text": [
      "51.9646447147\n"
     ]
    }
   ],
   "source": [
    "def multipleSimpson38(f, a, b, n):\n",
    "    h = (b - a) / n\n",
    "    result = f(a) + f(b)\n",
    "    i = 0\n",
    "    while(i < n - 1):\n",
    "        i += 1\n",
    "        a += h\n",
    "        result += 3 * f(a)\n",
    "    return result * h * 3 / 8\n",
    "\n",
    "\n",
    "print(multipleSimpson38(f1, a, b, 5))"
   ]
  },
  {
   "cell_type": "markdown",
   "metadata": {},
   "source": [
    "___\n",
    "## Exercise 2"
   ]
  },
  {
   "cell_type": "code",
   "execution_count": 44,
   "metadata": {
    "collapsed": true
   },
   "outputs": [],
   "source": [
    "f2 = lambda x :  1 - exp(-x)\n",
    "a = 1\n",
    "b = 2"
   ]
  },
  {
   "cell_type": "code",
   "execution_count": 52,
   "metadata": {
    "collapsed": false
   },
   "outputs": [
    {
     "name": "stdout",
     "output_type": "stream",
     "text": [
      "Result: 0.7675\n"
     ]
    }
   ],
   "source": [
    "# analytically\n",
    "import sympy as sp\n",
    "x = sp.symbols('x')\n",
    "sp.integrate(1 - sp.exp(-x), (x, 1, 2))\n",
    "iTrue = -exp(-1) + exp(-2) + 1 \n",
    "print('Result: {:.4f}'.format(iTrue))"
   ]
  },
  {
   "cell_type": "code",
   "execution_count": 53,
   "metadata": {
    "collapsed": false
   },
   "outputs": [
    {
     "name": "stdout",
     "output_type": "stream",
     "text": [
      "Result: 0.7484\n",
      "Error: 2.4839%\n"
     ]
    }
   ],
   "source": [
    "# b\n",
    "result = multipleTrapezoidals(f2, a, b, 1)\n",
    "error = abs(result - iTrue) / iTrue * 100\n",
    "print('Result: {:.4f}'.format(result))\n",
    "print('Error: {:.4f}%'.format(error))"
   ]
  },
  {
   "cell_type": "code",
   "execution_count": 56,
   "metadata": {
    "collapsed": false
   },
   "outputs": [
    {
     "name": "stdout",
     "output_type": "stream",
     "text": [
      "n = 2\n",
      "\tResult: 0.5684\n",
      "\tError: 25.9353%\n",
      "n = 4\n",
      "\tResult: 0.4767\n",
      "\tError: 37.8893%\n"
     ]
    }
   ],
   "source": [
    "# c\n",
    "for n in (2, 4):\n",
    "    print('n = {}'.format(n))\n",
    "    result = multipleTrapezoidals(f2, a, b, n)\n",
    "    error = abs(result - iTrue) / iTrue * 100\n",
    "    print('\\tResult: {:.4f}'.format(result))\n",
    "    print('\\tError: {:.4f}%'.format(error))"
   ]
  },
  {
   "cell_type": "code",
   "execution_count": 61,
   "metadata": {
    "collapsed": false
   },
   "outputs": [
    {
     "name": "stdout",
     "output_type": "stream",
     "text": [
      "Result: 0.7674\n",
      "Error: 0.0102%\n"
     ]
    }
   ],
   "source": [
    "# d\n",
    "result = multipleSimpson13(f2, a, b, 2)\n",
    "# result = singleSimpson13(f2, a, b)\n",
    "\n",
    "error = abs(result - iTrue) / iTrue * 100\n",
    "print('Result: {:.4f}'.format(result))\n",
    "print('Error: {:.4f}%'.format(error))\n"
   ]
  },
  {
   "cell_type": "code",
   "execution_count": 62,
   "metadata": {
    "collapsed": false
   },
   "outputs": [
    {
     "name": "stdout",
     "output_type": "stream",
     "text": [
      "Result: 0.7675\n",
      "Error: 0.0007%\n"
     ]
    }
   ],
   "source": [
    "# e\n",
    "result = multipleSimpson13(f2, a, b, 4)\n",
    "error = abs(result - iTrue) / iTrue * 100\n",
    "\n",
    "print('Result: {:.4f}'.format(result))\n",
    "print('Error: {:.4f}%'.format(error))"
   ]
  },
  {
   "cell_type": "code",
   "execution_count": 63,
   "metadata": {
    "collapsed": false
   },
   "outputs": [
    {
     "name": "stdout",
     "output_type": "stream",
     "text": [
      "Result: 0.7107\n",
      "Error: 7.3942%\n"
     ]
    }
   ],
   "source": [
    "# f\n",
    "result = multipleSimpson13(f2, a, b, 5)\n",
    "error = abs(result - iTrue) / iTrue * 100\n",
    "\n",
    "print('Result: {:.4f}'.format(result))\n",
    "print('Error: {:.4f}%'.format(error))"
   ]
  },
  {
   "cell_type": "markdown",
   "metadata": {},
   "source": [
    "___\n",
    "## Exercise 3"
   ]
  },
  {
   "cell_type": "code",
   "execution_count": 92,
   "metadata": {
    "collapsed": true
   },
   "outputs": [],
   "source": [
    "f3 = lambda x :  1 - x - 4 * x**3 + 2 * x**5\n",
    "a = -2\n",
    "b = 4"
   ]
  },
  {
   "cell_type": "code",
   "execution_count": 74,
   "metadata": {
    "collapsed": false
   },
   "outputs": [
    {
     "name": "stdout",
     "output_type": "stream",
     "text": [
      "Result: 1104.0000\n"
     ]
    }
   ],
   "source": [
    "# a - analytically\n",
    "\n",
    "iTrue = sp.integrate(1 - x - 4 * x**3 + 2 * x**5, (x, -2, 4)).evalf()\n",
    "\n",
    "print('Result: {:.4f}'.format(iTrue))"
   ]
  },
  {
   "cell_type": "code",
   "execution_count": 72,
   "metadata": {
    "collapsed": false
   },
   "outputs": [
    {
     "name": "stdout",
     "output_type": "stream",
     "text": [
      "Result: 5280.0000\n",
      "Error: 378.2609%\n"
     ]
    }
   ],
   "source": [
    "# b\n",
    "result = multipleTrapezoidals(f3, a, b, 1)\n",
    "error = abs(result - iTrue) / iTrue * 100\n",
    "print('Result: {:.4f}'.format(result))\n",
    "print('Error: {:.4f}%'.format(error))"
   ]
  },
  {
   "cell_type": "code",
   "execution_count": 75,
   "metadata": {
    "collapsed": false
   },
   "outputs": [
    {
     "name": "stdout",
     "output_type": "stream",
     "text": [
      "n = 2\n",
      "\tResult: 2637.0000\n",
      "\tError: 138.8587%\n",
      "n = 4\n",
      "\tResult: 1418.4375\n",
      "\tError: 28.4817%\n"
     ]
    }
   ],
   "source": [
    "# c\n",
    "for n in (2, 4):\n",
    "    print('n = {}'.format(n))\n",
    "    result = multipleTrapezoidals(f3, a, b, n)\n",
    "    error = abs(result - iTrue) / iTrue * 100\n",
    "    print('\\tResult: {:.4f}'.format(result))\n",
    "    print('\\tError: {:.4f}%'.format(error))"
   ]
  },
  {
   "cell_type": "code",
   "execution_count": 80,
   "metadata": {
    "collapsed": false
   },
   "outputs": [
    {
     "name": "stdout",
     "output_type": "stream",
     "text": [
      "Result: 1752.0000\n",
      "Error: 58.6957%\n"
     ]
    }
   ],
   "source": [
    "# d single simpson 1/3\n",
    "result = multipleSimpson13(f3, a, b, 2)\n",
    "error = abs(result - iTrue) / iTrue * 100\n",
    "\n",
    "print('Result: {:.4f}'.format(result))\n",
    "print('Error: {:.4f}%'.format(error))"
   ]
  },
  {
   "cell_type": "code",
   "execution_count": 95,
   "metadata": {
    "collapsed": false
   },
   "outputs": [
    {
     "name": "stdout",
     "output_type": "stream",
     "text": [
      "Result: 1392.0000\n",
      "Error: 26.0870%\n"
     ]
    }
   ],
   "source": [
    "# e simpson 3/8 - n = 3\n",
    "result = multipleSimpson38(f3, a, b, 3)\n",
    "error = abs(result - iTrue) / iTrue * 100\n",
    "\n",
    "print('Result: {:.4f}'.format(result))\n",
    "print('Error: {:.4f}%'.format(error))"
   ]
  },
  {
   "cell_type": "code",
   "execution_count": 97,
   "metadata": {
    "collapsed": false
   },
   "outputs": [
    {
     "name": "stdout",
     "output_type": "stream",
     "text": [
      "Result: 1104.0000\n",
      "Error: 0.0000%\n"
     ]
    }
   ],
   "source": [
    "# f\n",
    "val, err = sp.integrate.quad(f3, a, b)\n",
    "\n",
    "print('Result: {:.4f}'.format(val))\n",
    "print('Error: {:.4f}%'.format(err))"
   ]
  },
  {
   "cell_type": "markdown",
   "metadata": {},
   "source": [
    "___\n",
    "## Exercise 4"
   ]
  },
  {
   "cell_type": "code",
   "execution_count": 103,
   "metadata": {
    "collapsed": true
   },
   "outputs": [],
   "source": [
    "f4 = lambda x : (x + 1 / x)**2\n",
    "a = 1 \n",
    "b = 2"
   ]
  },
  {
   "cell_type": "code",
   "execution_count": 105,
   "metadata": {
    "collapsed": false
   },
   "outputs": [
    {
     "name": "stdout",
     "output_type": "stream",
     "text": [
      "Result: 4.8333\n",
      "n = 1\n",
      "\tResult: 14.5000\n",
      "\tError: 200.0000%\n",
      "n = 2\n",
      "\tResult: 7.5469\n",
      "\tError: 56.1422%\n",
      "n = 3\n",
      "\tResult: 5.6914\n",
      "\tError: 17.7522%\n",
      "n = 4\n",
      "\tResult: 4.8584\n",
      "\tError: 0.5186%\n",
      "n = 5\n",
      "\tResult: 4.3896\n",
      "\tError: 9.1807%\n",
      "n = 6\n",
      "\tResult: 4.0901\n",
      "\tError: 15.3776%\n",
      "n = 7\n",
      "\tResult: 3.8825\n",
      "\tError: 19.6714%\n",
      "n = 8\n",
      "\tResult: 3.7304\n",
      "\tError: 22.8192%\n",
      "n = 9\n",
      "\tResult: 3.6142\n",
      "\tError: 25.2243%\n",
      "n = 10\n",
      "\tResult: 3.5225\n",
      "\tError: 27.1212%\n",
      "n = 11\n",
      "\tResult: 3.4483\n",
      "\tError: 28.6552%\n",
      "n = 12\n",
      "\tResult: 3.3871\n",
      "\tError: 29.9212%\n",
      "n = 13\n",
      "\tResult: 3.3358\n",
      "\tError: 30.9837%\n",
      "n = 14\n",
      "\tResult: 3.2921\n",
      "\tError: 31.8879%\n",
      "n = 15\n",
      "\tResult: 3.2544\n",
      "\tError: 32.6668%\n",
      "n = 16\n",
      "\tResult: 3.2217\n",
      "\tError: 33.3446%\n",
      "n = 17\n",
      "\tResult: 3.1929\n",
      "\tError: 33.9399%\n",
      "n = 18\n",
      "\tResult: 3.1674\n",
      "\tError: 34.4668%\n",
      "n = 19\n",
      "\tResult: 3.1447\n",
      "\tError: 34.9365%\n",
      "n = 20\n",
      "\tResult: 3.1244\n",
      "\tError: 35.3578%\n"
     ]
    }
   ],
   "source": [
    "import sympy as sp\n",
    "x = sp.symbols('x')\n",
    "\n",
    "iTrue = sp.integrate((x + 1 / x)**2, (x, a, b)).evalf()\n",
    "\n",
    "print('Result: {:.4f}'.format(iTrue))\n",
    "\n",
    "for n in range(1, 21):\n",
    "    print('n = {}'.format(n))\n",
    "    result = multipleTrapezoidals(f3, a, b, n)\n",
    "    error = abs(result - iTrue) / iTrue * 100\n",
    "    print('\\tResult: {:.4f}'.format(result))\n",
    "    print('\\tError: {:.4f}%'.format(error))"
   ]
  },
  {
   "cell_type": "markdown",
   "metadata": {},
   "source": [
    "___\n",
    "## Exercise 5"
   ]
  },
  {
   "cell_type": "code",
   "execution_count": 135,
   "metadata": {
    "collapsed": false,
    "scrolled": true
   },
   "outputs": [
    {
     "data": {
      "text/plain": [
       "[<matplotlib.lines.Line2D at 0x1f6d72ec240>]"
      ]
     },
     "execution_count": 135,
     "metadata": {},
     "output_type": "execute_result"
    },
    {
     "data": {
      "image/png": "[encoded data removed]",
      "text/plain": [
       "<matplotlib.figure.Figure at 0x1f6d61f30f0>"
      ]
     },
     "metadata": {},
     "output_type": "display_data"
    }
   ],
   "source": [
    "f5 = lambda x : (4 * x - 3)**3\n",
    "a = -3\n",
    "b = 5\n",
    "\n",
    "x = linspace(a, b, 1000)\n",
    "\n",
    "plot(x, f5(x))"
   ]
  },
  {
   "cell_type": "code",
   "execution_count": 131,
   "metadata": {
    "collapsed": false
   },
   "outputs": [
    {
     "name": "stdout",
     "output_type": "stream",
     "text": [
      "Result: 2056.0000\n"
     ]
    }
   ],
   "source": [
    "from scipy.integrate import simps\n",
    "tol = 0.01 \n",
    "a = -3\n",
    "b = 5\n",
    "n = 5\n",
    "\n",
    "f5 = lambda x : (4 * x - 3)**3\n",
    "\n",
    "import sympy as sp\n",
    "x = sp.symbols('x')\n",
    "\n",
    "iTrue = sp.integrate((4 * x - 3)**3, (x, a, b)).evalf()\n",
    "print('Result: {:.4f}'.format(iTrue))\n"
   ]
  },
  {
   "cell_type": "code",
   "execution_count": 149,
   "metadata": {
    "collapsed": false
   },
   "outputs": [
    {
     "name": "stdout",
     "output_type": "stream",
     "text": [
      "5\n"
     ]
    }
   ],
   "source": [
    "def ex5(f, nstart, a, b, tol):\n",
    "    n = nstart\n",
    "    while True:\n",
    "        x = linspace(a, b, n)\n",
    "        y = f(x)\n",
    "        result = simps(y, x)\n",
    "        error = abs(result - iTrue) / iTrue \n",
    "        if error <= tol:\n",
    "            break\n",
    "        n += 1\n",
    "    return n\n",
    "\n",
    "print(ex5(f5, 4, a, b, tol = 0.01 / 100))"
   ]
  }
 ],
 "metadata": {
  "kernelspec": {
   "display_name": "Python [Root]",
   "language": "python",
   "name": "Python [Root]"
  },
  "language_info": {
   "codemirror_mode": {
    "name": "ipython",
    "version": 3
   },
   "file_extension": ".py",
   "mimetype": "text/x-python",
   "name": "python",
   "nbconvert_exporter": "python",
   "pygments_lexer": "ipython3",
   "version": "3.5.2"
  }
 },
 "nbformat": 4,
 "nbformat_minor": 0
}
