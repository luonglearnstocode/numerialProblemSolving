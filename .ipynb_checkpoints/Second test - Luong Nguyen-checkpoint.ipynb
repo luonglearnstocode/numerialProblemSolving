{
 "cells": [
  {
   "cell_type": "markdown",
   "metadata": {},
   "source": [
    "# Second test - Luong Nguyen\n",
    "Introduction to Numerical Problem Solving, Spring 2017   \n",
    "10.5.2017    \n",
    "Helsinki Metropolia University of Applied Sciences"
   ]
  },
  {
   "cell_type": "code",
   "execution_count": 104,
   "metadata": {
    "collapsed": false
   },
   "outputs": [
    {
     "name": "stdout",
     "output_type": "stream",
     "text": [
      "Populating the interactive namespace from numpy and matplotlib\n"
     ]
    },
    {
     "name": "stderr",
     "output_type": "stream",
     "text": [
      "WARNING: pylab import has clobbered these variables: ['f']\n",
      "`%matplotlib` prevents importing * from pylab and numpy\n"
     ]
    }
   ],
   "source": [
    "# Import necessary libraries\n",
    "%pylab inline"
   ]
  },
  {
   "cell_type": "markdown",
   "metadata": {},
   "source": [
    "## Problem 1"
   ]
  },
  {
   "cell_type": "markdown",
   "metadata": {},
   "source": [
    "First I define a function $h(x)$.  \n",
    "(a) Plot the function $h(x)$ when $x$ from 0 to 30.  \n",
    "(b) I define a function $f(x) = h(x) - 0.1 $, so when $h(x) = 0.1$, $f(x) = 0$. I then use the function `scipy.optimize.bisect` with $tol = 1e^{-6}$ to find the root of $f(x)$, which is the value of $x$ when $h(x) = 0.1$.  \n",
    "(c) From the graph, we could see that the smallest value of $h(x)$ within the domain $[0, 30]$ is either within $[10, 15]$ or $[25, 30]$. I used the function `scipy.optimize.minimize` with initial guess within these ranges to find the smallest value of $h(x)$."
   ]
  },
  {
   "cell_type": "code",
   "execution_count": 105,
   "metadata": {
    "collapsed": true
   },
   "outputs": [],
   "source": [
    "# My code\n",
    "ld = 16\n",
    "t = 12\n",
    "v = 48\n",
    "ho = 0.35\n",
    "\n",
    "h = lambda x : ho * (sin(2 * pi * x / ld) * cos(2 * pi * t * v / ld) + exp(-x))"
   ]
  },
  {
   "cell_type": "code",
   "execution_count": 106,
   "metadata": {
    "collapsed": false
   },
   "outputs": [
    {
     "data": {
      "image/png": "[encoded data removed]",
      "text/plain": [
       "<matplotlib.figure.Figure at 0x1ce95206748>"
      ]
     },
     "metadata": {},
     "output_type": "display_data"
    }
   ],
   "source": [
    "# a\n",
    "figure()\n",
    "x = np.linspace(0, 30, 1000)\n",
    "\n",
    "plot(x, h(x))\n",
    "grid()\n",
    "show()"
   ]
  },
  {
   "cell_type": "code",
   "execution_count": 107,
   "metadata": {
    "collapsed": false
   },
   "outputs": [
    {
     "data": {
      "image/png": "[encoded data removed]",
      "text/plain": [
       "<matplotlib.figure.Figure at 0x1ce95272400>"
      ]
     },
     "metadata": {},
     "output_type": "display_data"
    }
   ],
   "source": [
    "# b\n",
    "figure()\n",
    "x = np.linspace(0, 30, 1000)\n",
    "axhline(0.1, color = 'r')\n",
    "plot(x, h(x))\n",
    "grid()\n",
    "show()\n"
   ]
  },
  {
   "cell_type": "code",
   "execution_count": 108,
   "metadata": {
    "collapsed": false
   },
   "outputs": [
    {
     "name": "stdout",
     "output_type": "stream",
     "text": [
      "Root found by scipy.optimize.bisect:\n",
      "\tx0 = 7.264015\n",
      "\tNumber of steps n = 25\n"
     ]
    }
   ],
   "source": [
    "f = lambda x : h(x) - 0.1\n",
    "\n",
    "from scipy.optimize import bisect\n",
    "\n",
    "print(\"Root found by scipy.optimize.bisect:\")\n",
    "\n",
    "x,r = bisect(f, a = 0, b = 30, xtol=1e-6, full_output=True)\n",
    "\n",
    "print(\"\\tx0 = {0:.6f}\".format(x))\n",
    "print(\"\\tNumber of steps n = {}\".format(r.iterations))"
   ]
  },
  {
   "cell_type": "code",
   "execution_count": 109,
   "metadata": {
    "collapsed": false
   },
   "outputs": [
    {
     "name": "stdout",
     "output_type": "stream",
     "text": [
      "Minimum value found by scipy.optimize.minimize:\n",
      "\tx0 = 28.000007\n",
      "\tf(x0) = -0.350000\n"
     ]
    }
   ],
   "source": [
    "# c\n",
    "from scipy.optimize import minimize\n",
    "\n",
    "x0 = minimize(h, 25).x[0]\n",
    "\n",
    "print(\"Minimum value found by scipy.optimize.minimize:\")\n",
    "print(\"\\tx0 = {0:.6f}\".format(x0))\n",
    "print(\"\\tf(x0) = {0:.6f}\".format(h(x0)))\n"
   ]
  },
  {
   "cell_type": "code",
   "execution_count": 110,
   "metadata": {
    "collapsed": false
   },
   "outputs": [
    {
     "name": "stdout",
     "output_type": "stream",
     "text": [
      "Minimum value found by scipy.optimize.minimize:\n",
      "\tx0 = 11.999920\n",
      "\tf(x0) = -0.349998\n"
     ]
    }
   ],
   "source": [
    "x0 = minimize(h, 10).x[0]\n",
    "\n",
    "print(\"Minimum value found by scipy.optimize.minimize:\")\n",
    "print(\"\\tx0 = {0:.6f}\".format(x0))\n",
    "print(\"\\tf(x0) = {0:.6f}\".format(h(x0)))\n"
   ]
  },
  {
   "cell_type": "markdown",
   "metadata": {},
   "source": [
    "Final answers:\n",
    "\n",
    "* (a) graph above\n",
    "* (b) $x_0$ = 7.264015\n",
    "* (c) minimum of $h(x) = -0.35$, when $x = 28.000007$"
   ]
  },
  {
   "cell_type": "markdown",
   "metadata": {},
   "source": [
    "## Problem 2"
   ]
  },
  {
   "cell_type": "markdown",
   "metadata": {},
   "source": [
    "First, I found the first derivative and second derivative function of $f(x)$.  \n",
    "Then I plotted the first derivative and second derivative function of $f(x)$ to prove that $f(x)$ has a global maximum for x in the domain $[-20, 20]$.  \n",
    "Finally, I implemented golden section method and Newton-Raphson's method to find the maximum of $f(x)$ within 10 significant figures accuracy.\n"
   ]
  },
  {
   "cell_type": "code",
   "execution_count": 120,
   "metadata": {
    "collapsed": false
   },
   "outputs": [
    {
     "data": {
      "image/png": "[encoded data removed]",
      "text/plain": [
       "<matplotlib.figure.Figure at 0x1ce94a93400>"
      ]
     },
     "metadata": {},
     "output_type": "display_data"
    }
   ],
   "source": [
    "# My code\n",
    "f = lambda x : -x**4 - 2 * x**3 - 8 * x**2 - 5 * x\n",
    "\n",
    "figure()\n",
    "x = np.linspace(-20, 20, 1000)\n",
    "xlabel('$x$')\n",
    "ylabel('$f(x)$')\n",
    "plot(x, f(x))\n",
    "grid()\n",
    "show()\n"
   ]
  },
  {
   "cell_type": "code",
   "execution_count": 112,
   "metadata": {
    "collapsed": false
   },
   "outputs": [
    {
     "data": {
      "image/png": "[encoded data removed]",
      "text/plain": [
       "<matplotlib.figure.Figure at 0x1ce95107c50>"
      ]
     },
     "metadata": {},
     "output_type": "display_data"
    }
   ],
   "source": [
    "fp = lambda x : -4 * x**3 - 6 * x**2 - 16 * x - 5\n",
    "fpp = lambda x : -12 * x**2 - 12 * x - 16 \n",
    "\n",
    "figure()\n",
    "x = np.linspace(-20, 20, 1000)\n",
    "axhline(0, color = 'r')\n",
    "plot(x, fp(x), label=\"f ' (x)\")\n",
    "plot(x, fpp(x), label=\"f '' (x)\")\n",
    "xlim(-20,20)\n",
    "ylim(-100, 100)\n",
    "grid()\n",
    "legend()\n",
    "xlabel('x')\n",
    "show()\n"
   ]
  },
  {
   "cell_type": "markdown",
   "metadata": {},
   "source": [
    "At the value of $x_0$ that f' (x0) = 0, the value of f''(x0) < 0 => f(x) has a local maximum at $x_0$"
   ]
  },
  {
   "cell_type": "code",
   "execution_count": 113,
   "metadata": {
    "collapsed": false
   },
   "outputs": [
    {
     "name": "stdout",
     "output_type": "stream",
     "text": [
      "Maximum value found by golden-section search:\n",
      "\tx0 = -0.3472504655\n",
      "\tf(x0) = 0.8407939353\n",
      "\tNumber of iterations = 53\n"
     ]
    }
   ],
   "source": [
    "# a\n",
    "gr = (math.sqrt(5) + 1) / 2\n",
    "\n",
    "def gss(f, a, b, tol=1e-10, maxiter = 100000):\n",
    "    n = 0\n",
    "    c = b - (b - a) / gr\n",
    "    d = a + (b - a) / gr \n",
    "    while abs(c - d) > tol and n < maxiter:\n",
    "        if f(c) < f(d):\n",
    "            b = d\n",
    "        else:\n",
    "            a = c\n",
    "        \n",
    "        # we recompute both c and d here to avoid loss of precision which may lead to incorrect results or infinite loop\n",
    "        c = b - (b - a) / gr\n",
    "        d = a + (b - a) / gr\n",
    "        n += 1\n",
    "\n",
    "    return ((b + a) / 2, n)\n",
    "\n",
    "nf = lambda x : -f(x)\n",
    "x0, n = gss(nf, -20, 20)\n",
    "\n",
    "print(\"Maximum value found by golden-section search:\")\n",
    "print(\"\\tx0 = {0:.10f}\".format(x0))\n",
    "print(\"\\tf(x0) = {0:.10f}\".format(f(x0)))\n",
    "print(\"\\tNumber of iterations = {}\".format(n))"
   ]
  },
  {
   "cell_type": "code",
   "execution_count": 114,
   "metadata": {
    "collapsed": false
   },
   "outputs": [
    {
     "name": "stdout",
     "output_type": "stream",
     "text": [
      "\tRoot x0 = -0.3472504665\n",
      "\tf(x0) = 0.8407939353\n",
      "\tNumber of iterations n = 5\n"
     ]
    }
   ],
   "source": [
    "fp = lambda x : -4 * x**3 - 6 * x**2 - 16 * x - 5\n",
    "fpp = lambda x : -12 * x**2 - 12 * x - 16 \n",
    "\n",
    "def newtonSearch(f, x0, tol = 1e-10, maxiter = 10000):\n",
    "    \"\"\" \n",
    "    Inputs:\n",
    "       f = the function \n",
    "       x0 = initial estimate of a extremum\n",
    "       tol = tolerance for the extremum value\n",
    "       maxiter = maximum numbers of iterations\n",
    "    Outputs:\n",
    "       x0 = estimate for the extremum\n",
    "       n = number of iterations\n",
    "    \"\"\"\n",
    "    n = 0\n",
    "    while(abs(fp(x0)) > tol and n < maxiter):\n",
    "        n += 1\n",
    "        if fpp(x0) != 0:\n",
    "            x0 = x0 - fp(x0) / fpp(x0)\n",
    "        else:\n",
    "            x0 += tol\n",
    "    return x0, n \n",
    "\n",
    "x0, n = newtonSearch(f, 1)\n",
    "print(\"\\tRoot x0 = {0:.10f}\".format(x0))\n",
    "print(\"\\tf(x0) = {0:.10f}\".format(f(x0)))\n",
    "print(\"\\tNumber of iterations n = {}\".format(n))"
   ]
  },
  {
   "cell_type": "markdown",
   "metadata": {},
   "source": [
    "Final answers:\n",
    "* From the graph of $f'(x)$ and $f''(x)$ we can see that at the value of $x_0$ that $f' (x0) = 0$, the value of $f''(x0) < 0$ => $f(x)$ has a local maximum at $x_0$. And also because when x is between -20 and 20, $f'(x)$ only cuts the x-axis 1 time, so that $x_0$ will also be the global maximum.\n",
    "* (a) $f_{max}$ = 0.8407939353, Number of iterations = 53\n",
    "* (b) $f_{max}$ = 0.8407939353, Number of iterations n = 5 (with initial value of $x_0 = 1$) \n"
   ]
  },
  {
   "cell_type": "markdown",
   "metadata": {},
   "source": [
    "## Problem 3"
   ]
  },
  {
   "cell_type": "markdown",
   "metadata": {},
   "source": [
    "I used `scipy.stats.linregress` to get the slope and the intercept of the regression line.  \n",
    "With the line, I calculated the value of $y$ when $x = 8.0$.  \n",
    "From the results of `linregress`, I also got the standard error and the correlation coefficient.  \n",
    "The coefficient of determination is the correlation coefficient squared.  "
   ]
  },
  {
   "cell_type": "code",
   "execution_count": 115,
   "metadata": {
    "collapsed": false
   },
   "outputs": [],
   "source": [
    "# My code\n",
    "x = array([0, 2, 4, 6, 9, 11, 12, 15, 17, 19]) \n",
    "y = array([5, 6, 7, 6, 9, 8, 7, 10, 12, 12]) "
   ]
  },
  {
   "cell_type": "code",
   "execution_count": 116,
   "metadata": {
    "collapsed": false
   },
   "outputs": [
    {
     "data": {
      "image/png": "[encoded data removed]",
      "text/plain": [
       "<matplotlib.figure.Figure at 0x1ce9527f390>"
      ]
     },
     "metadata": {},
     "output_type": "display_data"
    },
    {
     "name": "stdout",
     "output_type": "stream",
     "text": [
      "At x = 8.0, y =  7.6713\n"
     ]
    }
   ],
   "source": [
    "from scipy.stats import linregress\n",
    "\n",
    "results = linregress(x, y)\n",
    "a = results.slope\n",
    "b = results.intercept\n",
    "\n",
    "x0 = 8\n",
    "y0 = a * x0 + b\n",
    "\n",
    "x1 = linspace(-1, 21, 1000)\n",
    "\n",
    "figure(figsize = (10, 10))\n",
    "plot(x0, y0, '*', markersize = 15)\n",
    "plot(x, y, 'ro')\n",
    "plot(x1, a * x1 + b)\n",
    "plot()\n",
    "xlim(-1, 21)\n",
    "ylim(-1, 13)\n",
    "xlabel('$x$')\n",
    "ylabel('$y$')\n",
    "grid()\n",
    "show()\n",
    "\n",
    "print('At x = 8.0, y = ', around(y0, 4))"
   ]
  },
  {
   "cell_type": "code",
   "execution_count": 117,
   "metadata": {
    "collapsed": false
   },
   "outputs": [
    {
     "name": "stdout",
     "output_type": "stream",
     "text": [
      "Standard error: 0.0550335656985\n",
      "Correlation coefficient: 0.914767284879\n",
      "Coefficient of determination: 83.6799185485 %\n"
     ]
    }
   ],
   "source": [
    "stderr = results.stderr\n",
    "rvalue = results.rvalue\n",
    "\n",
    "r_squared = rvalue ** 2\n",
    "\n",
    "print('Standard error:', stderr)\n",
    "print('Correlation coefficient:', rvalue)\n",
    "print('Coefficient of determination:', r_squared * 100, '%')"
   ]
  },
  {
   "cell_type": "markdown",
   "metadata": {},
   "source": [
    "Final answers:\n",
    "\n",
    "* At $x = 8.0, y = 7.6713$\n",
    "* The coefficient of determation is 83.68% which is quite high, that means the regression line is quite good to fit the data."
   ]
  },
  {
   "cell_type": "markdown",
   "metadata": {},
   "source": [
    "## Problem 4"
   ]
  },
  {
   "cell_type": "markdown",
   "metadata": {},
   "source": [
    "First, I input the values of $v$ from $1.0$ to $6.0$ and $P$ but in $W$ instead of $kW$.  \n",
    "Next, I plot the values of $$\\frac{m * v}{P}$$  \n",
    "The area under the curve is the $\\Delta t$, which I use `scipy.integrate.trapz` to calculate."
   ]
  },
  {
   "cell_type": "code",
   "execution_count": 118,
   "metadata": {
    "collapsed": false,
    "scrolled": true
   },
   "outputs": [
    {
     "data": {
      "image/png": "[encoded data removed]",
      "text/plain": [
       "<matplotlib.figure.Figure at 0x1ce94867f98>"
      ]
     },
     "metadata": {},
     "output_type": "display_data"
    }
   ],
   "source": [
    "# My code\n",
    "\n",
    "v = array([1.0, 1.8, 2.4, 3.5, 4.4, 5.1, 6.0]) \n",
    "P = 1000 * array([4.7, 12.2, 19.0, 31.8, 40.1, 43.8, 42.3]) \n",
    "\n",
    "m = 2000\n",
    "\n",
    "figure()\n",
    "grid()\n",
    "xlim(0, 7)\n",
    "fill_between(v, m * v / P, alpha = 0.5)\n",
    "xlabel('v')\n",
    "ylabel('m * v / P')\n",
    "show()"
   ]
  },
  {
   "cell_type": "code",
   "execution_count": 119,
   "metadata": {
    "collapsed": false
   },
   "outputs": [
    {
     "data": {
      "text/plain": [
       "1.301154812863369"
      ]
     },
     "execution_count": 119,
     "metadata": {},
     "output_type": "execute_result"
    }
   ],
   "source": [
    "from scipy.integrate import trapz\n",
    "\n",
    "I = m * trapz(v / P, v)\n",
    "I"
   ]
  },
  {
   "cell_type": "markdown",
   "metadata": {},
   "source": [
    "Final answers:\n",
    "\n",
    "* It took the car $\\Delta t = 1.30115\\ s$ to accelerate from $1.0\\ m/s$ to $6.0\\ m/s$ "
   ]
  }
 ],
 "metadata": {
  "kernelspec": {
   "display_name": "Python [Root]",
   "language": "python",
   "name": "Python [Root]"
  },
  "language_info": {
   "codemirror_mode": {
    "name": "ipython",
    "version": 3
   },
   "file_extension": ".py",
   "mimetype": "text/x-python",
   "name": "python",
   "nbconvert_exporter": "python",
   "pygments_lexer": "ipython3",
   "version": "3.5.2"
  }
 },
 "nbformat": 4,
 "nbformat_minor": 0
}
