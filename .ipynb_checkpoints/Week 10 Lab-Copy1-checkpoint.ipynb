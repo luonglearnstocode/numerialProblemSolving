{
 "cells": [
  {
   "cell_type": "markdown",
   "metadata": {},
   "source": [
    "# Week 10 Root finding\n",
    "Introduction to Numerical Problem Solving, Spring 2017   \n",
    "Luong Nguyen, 28.3.2017  \n",
    "Helsinki Metropolia University of Applied Sciences"
   ]
  },
  {
   "cell_type": "code",
   "execution_count": 2,
   "metadata": {
    "collapsed": false
   },
   "outputs": [
    {
     "name": "stdout",
     "output_type": "stream",
     "text": [
      "Populating the interactive namespace from numpy and matplotlib\n"
     ]
    },
    {
     "name": "stderr",
     "output_type": "stream",
     "text": [
      "WARNING: pylab import has clobbered these variables: ['f']\n",
      "`%matplotlib` prevents importing * from pylab and numpy\n"
     ]
    }
   ],
   "source": [
    "# Initial import statements\n",
    "%pylab inline\n",
    "from scipy.optimize import newton"
   ]
  },
  {
   "cell_type": "markdown",
   "metadata": {},
   "source": [
    "## Exercises from Exercise 9"
   ]
  },
  {
   "cell_type": "markdown",
   "metadata": {},
   "source": [
    "### Functions from exercise 1 and their graphical presentations."
   ]
  },
  {
   "cell_type": "code",
   "execution_count": 5,
   "metadata": {
    "collapsed": false
   },
   "outputs": [
    {
     "data": {
      "image/png": "[encoded data removed]",
      "text/plain": [
       "<matplotlib.figure.Figure at 0x289774d8dd8>"
      ]
     },
     "metadata": {},
     "output_type": "display_data"
    }
   ],
   "source": [
    "f1 = lambda x: x**2 - x - 1\n",
    "f2 = lambda x: x**3 - 3 * sin(x)\n",
    "f3 = lambda x: exp(x) - 2\n",
    "f4 = lambda x: 1 - x**2 + sin(50 / (1 + x**2))\n",
    "\n",
    "x = linspace(-2, 2, 1000)\n",
    "fig, axes = subplots(1, 4, figsize=(12, 3), sharey=True)\n",
    "\n",
    "for n, f in enumerate([f1, f2, f3, f4]):\n",
    "    axes[n].plot(x, f(x), lw=1.5)\n",
    "    axes[n].axhline(0, color='r')\n",
    "    axes[n].grid()\n",
    "    axes[n].set_ylim(-5, 5)\n",
    "    axes[n].set_xticks([-2, -1, 0, 1, 2])\n",
    "    axes[n].set_xlabel(r'$x$', fontsize=18)\n",
    "axes[0].set_ylabel(r'$f(x)$', fontsize=18)\n",
    "titles = [r'$f(x)=x^2-x-1$', r'$f(x)=x^3-3\\sin(x)$', r'$f(x)=e^x-2$', r'$f(x)=\\sin\\left(50/(1+x^2)\\right)+1-x^2$']\n",
    "for n, title in enumerate(titles):\n",
    "    axes[n].set_title(title)"
   ]
  },
  {
   "cell_type": "markdown",
   "metadata": {},
   "source": [
    "### Our implementation of increment search and bisection search from previous exercises."
   ]
  },
  {
   "cell_type": "code",
   "execution_count": 30,
   "metadata": {
    "collapsed": true
   },
   "outputs": [],
   "source": [
    "def incrementSearch(f, a, b, dx):\n",
    "    \"\"\"\n",
    "    Inputs:\n",
    "       f = the function \n",
    "       a = lower limit of the domain\n",
    "       b = upper limit of the domain\n",
    "       dx = step of the increment\n",
    "    Outputs:\n",
    "       x0 = estimate for the root\n",
    "       n = number of iterations\n",
    "    \"\"\"\n",
    "    x0 = a\n",
    "    n = 0\n",
    "    while (x0 < b):\n",
    "        if sign(f(x0)) != sign(f(x0 + dx)):\n",
    "            return x0 + dx, n + 1\n",
    "        x0 += dx    \n",
    "        n += 1\n",
    "\n",
    "    return None, n\n",
    "\n",
    "def bisectSearch(f, a, b, tol, maxiter):\n",
    "    \"\"\" bisectSearch(f, a, b, tol, maxiter)\n",
    "    My version of the bisectional root searching algorithm.\n",
    "    Inputs:\n",
    "       f = the function \n",
    "       a = lower limit of the domain\n",
    "       b = upper limit of the domain\n",
    "       tol = tolerance for the root value\n",
    "       maxiter = maximum numbers of iterations\n",
    "    Outputs:\n",
    "       x0 = estimate for the root\n",
    "       n = number of iterations\n",
    "    \"\"\"\n",
    "    x0, n = None, 0\n",
    "    while (b - a > tol and n < maxiter):\n",
    "        x0 = a + (b - a) / 2\n",
    "        if sign(f(a)) == sign(f(x0)):\n",
    "            a = x0\n",
    "        else:\n",
    "            b = x0   \n",
    "        n += 1\n",
    "    return x0, n  "
   ]
  },
  {
   "cell_type": "markdown",
   "metadata": {},
   "source": [
    "## Exercise 5\n",
    "Study the function `newton()` found in module `scipy.optimize`. Use that function to find the roots of the problem 1. Use tolerance value of 0.01. Try different initial estimate values $x_0$. Compare the results to the previous results. What do you observe?"
   ]
  },
  {
   "cell_type": "markdown",
   "metadata": {},
   "source": [
    "## Solution\n",
    "`scipy.optimize.newton()` finds a root of a function $f$ nearby the starting point $x_0$. In this case, because we do not provide the derivative function $fprime$ of $f$, the secant method will be used instead of the Newton-Raphson method. \n",
    "Which each function, we have to choose the value of $x_0$ so that we get a root that we can compare with the roots we found in previous exercises.  "
   ]
  },
  {
   "cell_type": "code",
   "execution_count": 38,
   "metadata": {
    "collapsed": false
   },
   "outputs": [
    {
     "name": "stdout",
     "output_type": "stream",
     "text": [
      "Root found by scipy.optimize.newton:\n",
      "\tFunction f1:\n",
      "\t\tRoot x0 = -0.6180\n",
      "\tFunction f2:\n",
      "\t\tRoot x0 = -1.4379\n",
      "\tFunction f3:\n",
      "\t\tRoot x0 = 0.6935\n",
      "\tFunction f4:\n",
      "\t\tRoot x0 = -1.2529\n"
     ]
    }
   ],
   "source": [
    "# array functions\n",
    "fs = [f1, f2, f3, f4]\n",
    "# array of initial guess x0 of each function\n",
    "x0_s = [0, -1, 2, -1.3]\n",
    "\n",
    "i = 0\n",
    "print(\"Root found by scipy.optimize.newton:\")\n",
    "for f in fs:\n",
    "    i += 1\n",
    "    x0 = newton(f, x0_s[i-1], tol=0.01)\n",
    "    print(\"\\tFunction f{}:\".format(i))\n",
    "    print(\"\\t\\tRoot x0 = {0:.4f}\".format(x0))"
   ]
  },
  {
   "cell_type": "markdown",
   "metadata": {
    "collapsed": false
   },
   "source": [
    "We could see that the roots found by `newton` is similar to the ones from previous exercises. However, we achieve this because we know the roots in advance and therefore set the initial $x_0$ close enough to the solution we are hoping to get. In particular, for function 4, there are many roots in the interval and many points that $f' = 0$ could make the algorithm not converge. "
   ]
  },
  {
   "cell_type": "markdown",
   "metadata": {
    "collapsed": true
   },
   "source": [
    "## Exercise 6\n",
    "Write your own code that implements the Newton-Raphson method.\n",
    "The function should return the estimate for the root, $x_0$, and the number of iterations. The code should estimate the derivative of the function numerically $f ′(x) = (f(x + h) − f(x))/h$, where h is a small number.\n",
    "Test that function with the examples given in problem 1 and compare the results to previous results."
   ]
  },
  {
   "cell_type": "markdown",
   "metadata": {},
   "source": [
    "## Solution\n",
    "First we need to define a function that estimate the derivative of function numercially $f ′(x) = (f(x + h) − f(x))/h$, where h is a small number with default value $10^{-8}$.  \n",
    "Then we implement the Newton-Raphson algorithm that by each iteration a new estimate of $x_0$ is calculated based on the current values of $x_0, f(x_0), f'(x_0)$. We return the value of the root when $f(x_0)$ falls within the tolerance criteria.  "
   ]
  },
  {
   "cell_type": "code",
   "execution_count": 44,
   "metadata": {
    "collapsed": true
   },
   "outputs": [],
   "source": [
    "def derivative(f, x, h = 1e-8):\n",
    "    \"\"\" \n",
    "    Inputs:\n",
    "       f = the function \n",
    "       x = point to estimate the derivative on\n",
    "       h = small number, default value 1e-8\n",
    "    Outputs:\n",
    "       df = estimate of the derivative of f at point x\n",
    "    \"\"\"\n",
    "    df = (f(x + h) - f(x)) / h\n",
    "    return df\n",
    "\n",
    "def newtonSearch(f, x0, tol = 0.01, maxiter = 200):\n",
    "    \"\"\" \n",
    "    Inputs:\n",
    "       f = the function \n",
    "       x0 = initial estimate of a root\n",
    "       tol = tolerance for the root value\n",
    "       maxiter = maximum numbers of iterations\n",
    "    Outputs:\n",
    "       x0 = estimate for the root\n",
    "       n = number of iterations\n",
    "    \"\"\"\n",
    "    n = 0\n",
    "    while(abs(f(x0)) > tol and n < maxiter):\n",
    "        x0 = x0 - f(x0) / derivative(f, x0)\n",
    "        n += 1\n",
    "    return x0, n \n"
   ]
  },
  {
   "cell_type": "code",
   "execution_count": 50,
   "metadata": {
    "collapsed": false
   },
   "outputs": [
    {
     "name": "stdout",
     "output_type": "stream",
     "text": [
      "Root found by newtonSearch:\n",
      "\tFunction f1:\n",
      "\t\tRoot x0 = -0.6190\n",
      "\t\tNumber of steps n = 3\n",
      "\tFunction f2:\n",
      "\t\tRoot x0 = -1.4384\n",
      "\t\tNumber of steps n = 3\n",
      "\tFunction f3:\n",
      "\t\tRoot x0 = 0.6932\n",
      "\t\tNumber of steps n = 4\n",
      "\tFunction f4:\n",
      "\t\tRoot x0 = -1.2524\n",
      "\t\tNumber of steps n = 1\n"
     ]
    }
   ],
   "source": [
    "# array of initial guess x0 of each function\n",
    "x0_s = [-2, -2, 2, -1.3]\n",
    "i = 0\n",
    "print(\"Root found by newtonSearch:\")\n",
    "for f in fs:\n",
    "    i += 1\n",
    "    x0, n = newtonSearch(f, x0_s[i - 1])\n",
    "    print(\"\\tFunction f{}:\".format(i))\n",
    "    print(\"\\t\\tRoot x0 = {0:.4f}\".format(x0))\n",
    "    print(\"\\t\\tNumber of steps n = {}\".format(n))"
   ]
  },
  {
   "cell_type": "markdown",
   "metadata": {
    "collapsed": true
   },
   "source": [
    "We could see that the roots found by our `newtonSearch` are similar to the results of previous exercises. We could also notice the number of iterations of `newtonSearch` is less than other methods, however it may depend on our initial guess of $x_0$."
   ]
  },
  {
   "cell_type": "markdown",
   "metadata": {},
   "source": [
    "## Exercise 7\n",
    "By combining the incremental, bisectional and Newton-Raphson methods write a code that finds multiple roots of a function within a given domain. The code should use inputs: $f$ the function, $a$ and $b$ the limits of the domain, $tol$ the tolerance of the root estimates, $dx$ the step size for incremental search, and $maxiter$ the maximum iterations in bisectional or Newton-Raphson iterations.\n",
    "Test your code with the examples given in problem 1 and compare the results to the previous results."
   ]
  },
  {
   "cell_type": "markdown",
   "metadata": {
    "collapsed": true
   },
   "source": [
    "## Exercises from week 10 "
   ]
  },
  {
   "cell_type": "markdown",
   "metadata": {},
   "source": [
    "## Exercise 1"
   ]
  },
  {
   "cell_type": "code",
   "execution_count": 27,
   "metadata": {
    "collapsed": false
   },
   "outputs": [
    {
     "data": {
      "image/png": "[encoded data removed]",
      "text/plain": [
       "<matplotlib.figure.Figure at 0x1fda0d7d400>"
      ]
     },
     "metadata": {},
     "output_type": "display_data"
    }
   ],
   "source": [
    "f = lambda x: -26 + 85*x - 91 * x**2 + 44 * x**3 - 8 * x**4 + x**5\n",
    "\n",
    "# a - solve graphically\n",
    "x = linspace(-10, 10, 1000)\n",
    "xlim(0.50, 0.6)\n",
    "ylim(-2, 2)\n",
    "plot(x, f(x), lw = 1.5)\n",
    "plot(0.557, 0, 'ro')\n",
    "grid()\n",
    "axhline(0, color='r')\n",
    "show()"
   ]
  },
  {
   "cell_type": "code",
   "execution_count": 60,
   "metadata": {
    "collapsed": false
   },
   "outputs": [
    {
     "name": "stdout",
     "output_type": "stream",
     "text": [
      "Root found by fixedPoint:\n",
      "\tRoot x0 = 0.5570\n",
      "\tNumber of steps n = 56\n"
     ]
    }
   ],
   "source": [
    "# b - using simple fixed-point iteration\n",
    "f = lambda x: -26 + 85*x - 91 * x**2 + 44 * x**3 - 8 * x**4 + x**5\n",
    "\n",
    "g = lambda x: -(-26 - 91 * x**2 + 44 * x**3 - 8 * x**4 + x**5)/85.0\n",
    "\n",
    "\n",
    "def fixedPoint(g, x0, tol=0.01, maxiter=100):\n",
    "    \"\"\"\n",
    "    simple fixed-point iteration algorithm\n",
    "    \"\"\"\n",
    "    e = 1\n",
    "    n = 0\n",
    "    while (e > tol and n < maxiter):\n",
    "        x = g(x0)\n",
    "        e = abs(x - x0) # calculate error\n",
    "        x0 = x\n",
    "        n += 1\n",
    "    return x0, n\n",
    "\n",
    "x0, n = fixedPoint(g, 2, tol = 1e-6)\n",
    "print(\"Root found by fixedPoint:\")\n",
    "print(\"\\tRoot x0 = {0:.4f}\".format(x0))\n",
    "print(\"\\tNumber of steps n = {}\".format(n))\n"
   ]
  },
  {
   "cell_type": "markdown",
   "metadata": {},
   "source": [
    "## Exercise 5\n",
    "\n",
    "$(x-2)^2 + y^2 - 4 = 0 \\\\\n",
    "x^2 + (y-3) -4  = 0$ "
   ]
  },
  {
   "cell_type": "code",
   "execution_count": 47,
   "metadata": {
    "collapsed": false
   },
   "outputs": [
    {
     "name": "stderr",
     "output_type": "stream",
     "text": [
      "C:\\Users\\Admin\\Anaconda3\\lib\\site-packages\\ipykernel\\__main__.py:8: RuntimeWarning: invalid value encountered in sqrt\n",
      "C:\\Users\\Admin\\Anaconda3\\lib\\site-packages\\ipykernel\\__main__.py:9: RuntimeWarning: invalid value encountered in sqrt\n"
     ]
    },
    {
     "data": {
      "image/png": "[encoded data removed]",
      "text/plain": [
       "<matplotlib.figure.Figure at 0x1fda4428320>"
      ]
     },
     "metadata": {},
     "output_type": "display_data"
    }
   ],
   "source": [
    "def f(x):\n",
    "    f1 = (x[0] - 2)**2 + x[1]**2 - 4\n",
    "    f2 = x[0]**2 + x[1] - 7\n",
    "    return [f1, f2]\n",
    "\n",
    "figure()\n",
    "x = linspace(-4, 6, 1000)\n",
    "y1 = sqrt(-(x - 2)**2 + 4)\n",
    "y2 = -sqrt(-(x - 2)**2 + 4)\n",
    "plot(x, y1, 'g')\n",
    "plot(x, y2, 'g')\n",
    "y3 = -x**2 + 7\n",
    "plot(x, y3, 'b')\n",
    "grid()\n",
    "ylim(-5, 7)\n",
    "show()\n",
    "\n"
   ]
  },
  {
   "cell_type": "code",
   "execution_count": 50,
   "metadata": {
    "collapsed": false
   },
   "outputs": [
    {
     "name": "stdout",
     "output_type": "stream",
     "text": [
      "solution 1: [ 2.2392778   1.98563495]\n",
      "solution 2: [ 2.95890761 -1.75513424]\n"
     ]
    },
    {
     "name": "stderr",
     "output_type": "stream",
     "text": [
      "C:\\Users\\Admin\\Anaconda3\\lib\\site-packages\\ipykernel\\__main__.py:9: RuntimeWarning: invalid value encountered in sqrt\n",
      "C:\\Users\\Admin\\Anaconda3\\lib\\site-packages\\ipykernel\\__main__.py:10: RuntimeWarning: invalid value encountered in sqrt\n",
      "C:\\Users\\Admin\\Anaconda3\\lib\\site-packages\\scipy\\optimize\\minpack.py:161: RuntimeWarning: The iteration is not making good progress, as measured by the \n",
      "  improvement from the last ten iterations.\n",
      "  warnings.warn(msg, RuntimeWarning)\n",
      "C:\\Users\\Admin\\Anaconda3\\lib\\site-packages\\scipy\\optimize\\minpack.py:161: RuntimeWarning: The iteration is not making good progress, as measured by the \n",
      "  improvement from the last five Jacobian evaluations.\n",
      "  warnings.warn(msg, RuntimeWarning)\n"
     ]
    },
    {
     "data": {
      "image/png": "[encoded data removed]",
      "text/plain": [
       "<matplotlib.figure.Figure at 0x1fda43a8fd0>"
      ]
     },
     "metadata": {},
     "output_type": "display_data"
    }
   ],
   "source": [
    "from scipy.optimize import fsolve\n",
    "sol1 = fsolve(f, [2 , 2])\n",
    "sol2 = fsolve(f, [3 , -2])\n",
    "print(\"solution 1:\", sol1)\n",
    "print(\"solution 2:\", sol2)\n",
    "\n",
    "figure()\n",
    "x = linspace(-4, 6, 1000)\n",
    "y1 = sqrt(-(x - 2)**2 + 4)\n",
    "y2 = -sqrt(-(x - 2)**2 + 4)\n",
    "plot(x, y1, 'g')\n",
    "plot(x, y2, 'g')\n",
    "y3 = -x**2 + 7\n",
    "plot(x, y3, 'b')\n",
    "\n",
    "colors = ['g', 'b']\n",
    "for m in linspace(-4, 6, 40):\n",
    "    for n in linspace(-5, 7, 40):\n",
    "        x_guess = [m, n]\n",
    "        sol = fsolve(f, x_guess)\n",
    "        \n",
    "        for i, s in enumerate([sol1, sol2]):\n",
    "            if abs(s - sol).max() < 1e-8:\n",
    "                plot(sol[0], sol[1], colors[i] + '*', markersize = 15)\n",
    "                plot(x_guess[0], x_guess[1], colors[i]+'.')\n",
    "ylim(-5, 7)                \n",
    "grid()\n",
    "show()\n",
    "        "
   ]
  },
  {
   "cell_type": "code",
   "execution_count": 59,
   "metadata": {
    "collapsed": false
   },
   "outputs": [
    {
     "data": {
      "image/png": "[encoded data removed]",
      "text/plain": [
       "<matplotlib.figure.Figure at 0x1fda1e12828>"
      ]
     },
     "metadata": {},
     "output_type": "display_data"
    }
   ],
   "source": [
    "def f(x):\n",
    "    f1 = sin(x[0]) + 3 * cos(x[0]) - 2\n",
    "    f2 = cos(x[0]) - 3 * sin(x[1])\n",
    "    return [f1, f2]\n",
    "\n",
    "figure()\n",
    "x = linspace(-10, 10, 1000)\n",
    "f1 = sin(x) + 3 * cos(x) - 2\n",
    "plot(1,1, 'ro')\n",
    "plot(x, f1, 'g')\n",
    "axhline(0)\n",
    "\n",
    "grid()\n",
    "\n",
    "show()\n"
   ]
  },
  {
   "cell_type": "code",
   "execution_count": 56,
   "metadata": {
    "collapsed": false
   },
   "outputs": [
    {
     "data": {
      "text/plain": [
       "1.2246467991473532e-16"
      ]
     },
     "execution_count": 56,
     "metadata": {},
     "output_type": "execute_result"
    }
   ],
   "source": []
  }
 ],
 "metadata": {
  "anaconda-cloud": {},
  "kernelspec": {
   "display_name": "Python [Root]",
   "language": "python",
   "name": "Python [Root]"
  },
  "language_info": {
   "codemirror_mode": {
    "name": "ipython",
    "version": 3
   },
   "file_extension": ".py",
   "mimetype": "text/x-python",
   "name": "python",
   "nbconvert_exporter": "python",
   "pygments_lexer": "ipython3",
   "version": "3.5.2"
  }
 },
 "nbformat": 4,
 "nbformat_minor": 0
}
