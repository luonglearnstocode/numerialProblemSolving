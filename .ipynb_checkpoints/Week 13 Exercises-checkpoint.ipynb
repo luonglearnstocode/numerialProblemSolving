{
 "cells": [
  {
   "cell_type": "markdown",
   "metadata": {},
   "source": [
    "# Week 13 - Numerical Integration\n",
    "Introduction to Numerical Problem Solving, Spring 2017   \n",
    "Luong Nguyen, 3.5.2017  \n",
    "Helsinki Metropolia University of Applied Sciences"
   ]
  },
  {
   "cell_type": "code",
   "execution_count": 1,
   "metadata": {
    "collapsed": false
   },
   "outputs": [
    {
     "name": "stdout",
     "output_type": "stream",
     "text": [
      "Populating the interactive namespace from numpy and matplotlib\n"
     ]
    }
   ],
   "source": [
    "# Initial import statements\n",
    "%pylab inline\n",
    "from scipy.integrate import trapz, quad, simps\n",
    "import sympy as sp"
   ]
  },
  {
   "cell_type": "markdown",
   "metadata": {},
   "source": [
    "___\n",
    "## Exercise 1\n",
    "Evaluate the following integral:  \n",
    "  \n",
    "$$\\int_{0}^{\\pi/2}(8 + 4\\cos x)\\ dx $$\n",
    "  \n",
    "(a) analytically  \n",
    "(b) single application of the trapezoidal rule  \n",
    "(c) multiple-application trapezoidal rule, with $n = 2$ and $n = 4$  \n",
    "(d) single application of Simpson’s 1/3 rule  \n",
    "(e) multiple-application Simpson’s rule, with $n = 5$  \n",
    "  \n",
    "For each of the numerical estimates determine the percent relative error based on the analytical results."
   ]
  },
  {
   "cell_type": "markdown",
   "metadata": {},
   "source": [
    "## Solution\n"
   ]
  },
  {
   "cell_type": "code",
   "execution_count": 17,
   "metadata": {
    "collapsed": false
   },
   "outputs": [
    {
     "data": {
      "image/png": "[encoded data removed]",
      "text/plain": [
       "<matplotlib.figure.Figure at 0x2428b3c3c18>"
      ]
     },
     "metadata": {},
     "output_type": "display_data"
    }
   ],
   "source": [
    "f = lambda x : 8 + 4 * cos(x)\n",
    "a = 0\n",
    "b = pi / 2\n",
    "\n",
    "# Graphical presentation\n",
    "x = linspace(a, b, 1000)\n",
    "y = f(x)\n",
    "\n",
    "# Fill the integration area\n",
    "fill_between(x, y, alpha = 0.5)\n",
    "# Make another graph showing the function\n",
    "x2 = linspace(-1, 3, 1000)\n",
    "y2 = f(x2)\n",
    "plot(x2, y2)\n",
    "ylim(0, 13)\n",
    "grid()"
   ]
  },
  {
   "cell_type": "code",
   "execution_count": 20,
   "metadata": {
    "collapsed": false
   },
   "outputs": [
    {
     "name": "stdout",
     "output_type": "stream",
     "text": [
      "Using sympy.integrate\n",
      "\tI: 16.5664\n"
     ]
    }
   ],
   "source": [
    "# a - analytically\n",
    "x = sp.symbols('x')\n",
    "I_true = sp.integrate(8 + 4 * sp.cos(x), (x, a, b)).evalf()\n",
    "print('Using sympy.integrate')\n",
    "print('\\tI: {:.4f}'.format(I_true))"
   ]
  },
  {
   "cell_type": "code",
   "execution_count": 19,
   "metadata": {
    "collapsed": false
   },
   "outputs": [
    {
     "name": "stdout",
     "output_type": "stream",
     "text": [
      "Using single application of the trapezoidal rule \n",
      "\tI: 15.7080\n",
      "\tError: 5.1816 %\n"
     ]
    }
   ],
   "source": [
    "# b - single application of the trapezoidal rule \n",
    "n = 1\n",
    "x = linspace(a, b, n + 1)\n",
    "y = f(x)\n",
    "\n",
    "I = trapz(y, x)\n",
    "error = abs(I - I_true) / I_true * 100\n",
    "\n",
    "print('Using single application of the trapezoidal rule ')\n",
    "print('\\tI: {:.4f}'.format(I))\n",
    "print('\\tError: {:.4f} %'.format(error))"
   ]
  },
  {
   "cell_type": "code",
   "execution_count": 22,
   "metadata": {
    "collapsed": false
   },
   "outputs": [
    {
     "name": "stdout",
     "output_type": "stream",
     "text": [
      "Using multiple-application trapezoidal rule \n",
      "\tn = 2\n",
      "\t\tI: 16.3586\n",
      "\t\tError: 1.2541 %\n",
      "\tn = 4\n",
      "\t\tI: 16.5148\n",
      "\t\tError: 0.3111 %\n"
     ]
    }
   ],
   "source": [
    "# c - multiple-application trapezoidal rule, with n = 2 and n = 4\n",
    "ns = [2, 4]\n",
    "\n",
    "print('Using multiple-application trapezoidal rule ')\n",
    "for n in ns:\n",
    "    print('\\tn = {}'.format(n))\n",
    "    x = linspace(a, b, n + 1)\n",
    "    y = f(x)\n",
    "    I = trapz(y, x)\n",
    "    error = abs(I - I_true) / I_true * 100\n",
    "    print('\\t\\tI: {:.4f}'.format(I))\n",
    "    print('\\t\\tError: {:.4f} %'.format(error))"
   ]
  },
  {
   "cell_type": "code",
   "execution_count": 24,
   "metadata": {
    "collapsed": false
   },
   "outputs": [
    {
     "name": "stdout",
     "output_type": "stream",
     "text": [
      "Using single application of Simpson’s 1/3 rule \n",
      "\tI: 16.5755\n",
      "\tError: 0.0550 %\n"
     ]
    }
   ],
   "source": [
    "# d - single application of Simpson’s 1/3 rule\n",
    "n = 2\n",
    "x = linspace(a, b, n + 1)\n",
    "y = f(x)\n",
    "\n",
    "I = simps(y, x)\n",
    "error = abs(I - I_true) / I_true * 100\n",
    "\n",
    "print('Using single application of Simpson’s 1/3 rule ')\n",
    "print('\\tI: {:.4f}'.format(I))\n",
    "print('\\tError: {:.4f} %'.format(error))"
   ]
  },
  {
   "cell_type": "code",
   "execution_count": 25,
   "metadata": {
    "collapsed": false
   },
   "outputs": [
    {
     "name": "stdout",
     "output_type": "stream",
     "text": [
      "Using multiple-application Simpson’s rule with n = 5 \n",
      "\tI: 16.5607\n",
      "\tError: 0.0345 %\n"
     ]
    }
   ],
   "source": [
    "# e - multiple-application Simpson’s rule, with n = 5\n",
    "n = 5\n",
    "x = linspace(a, b, n + 1)\n",
    "y = f(x)\n",
    "\n",
    "I = simps(y, x)\n",
    "error = abs(I - I_true) / I_true * 100\n",
    "\n",
    "print('Using multiple-application Simpson’s rule with n = 5 ')\n",
    "print('\\tI: {:.4f}'.format(I))\n",
    "print('\\tError: {:.4f} %'.format(error))"
   ]
  },
  {
   "cell_type": "markdown",
   "metadata": {},
   "source": [
    "___\n",
    "## Exercise 2\n",
    "Evaluate the following integral: \n",
    "  \n",
    "$$\\int_{1}^{3}(1 - e ^ {-x})\\ dx $$\n",
    "  \n",
    "(a) analytically  \n",
    "(b) single application of the trapezoidal rule  \n",
    "(c) multiple-application trapezoidal rule, with $n = 2$ and $n = 4$  \n",
    "(d) single application of Simpson’s 1/3 rule  \n",
    "(e) multiple-application Simpson’s 1/3 rule, with $n = 4$  \n",
    "(f) multiple-application Simpson’s rule, with $n = 5$.\n",
    "  \n",
    "For each of the numerical estimates determine the percent relative error based on the analytical results."
   ]
  },
  {
   "cell_type": "markdown",
   "metadata": {},
   "source": [
    "## Solution\n"
   ]
  },
  {
   "cell_type": "code",
   "execution_count": 31,
   "metadata": {
    "collapsed": false
   },
   "outputs": [
    {
     "data": {
      "image/png": "[encoded data removed]",
      "text/plain": [
       "<matplotlib.figure.Figure at 0x2428b57b1d0>"
      ]
     },
     "metadata": {},
     "output_type": "display_data"
    }
   ],
   "source": [
    "f = lambda x :  1 - exp(-x)\n",
    "a = 1\n",
    "b = 3\n",
    "\n",
    "# Graphical presentation\n",
    "x = linspace(a, b, 1000)\n",
    "y = f(x)\n",
    "\n",
    "# Fill the integration area\n",
    "fill_between(x, y, alpha = 0.5)\n",
    "# Make another graph showing the function\n",
    "x2 = linspace(-1, 5, 1000)\n",
    "ylim(0, 2)\n",
    "y2 = f(x2)\n",
    "plot(x2, y2)\n",
    "grid()"
   ]
  },
  {
   "cell_type": "code",
   "execution_count": 32,
   "metadata": {
    "collapsed": false
   },
   "outputs": [
    {
     "name": "stdout",
     "output_type": "stream",
     "text": [
      "Using sympy.integrate\n",
      "\tI: 1.6819\n"
     ]
    }
   ],
   "source": [
    "# a - analytically\n",
    "x = sp.symbols('x')\n",
    "I_true = sp.integrate(1 - sp.exp(-x), (x, a, b)).evalf()\n",
    "print('Using sympy.integrate')\n",
    "print('\\tI: {:.4f}'.format(I_true))"
   ]
  },
  {
   "cell_type": "code",
   "execution_count": 33,
   "metadata": {
    "collapsed": false
   },
   "outputs": [
    {
     "name": "stdout",
     "output_type": "stream",
     "text": [
      "Using single application of the trapezoidal rule \n",
      "\tI: 1.5823\n",
      "\tError: 5.9203 %\n"
     ]
    }
   ],
   "source": [
    "# b - single application of the trapezoidal rule \n",
    "n = 1\n",
    "x = linspace(a, b, n + 1)\n",
    "y = f(x)\n",
    "\n",
    "I = trapz(y, x)\n",
    "error = abs(I - I_true) / I_true * 100\n",
    "\n",
    "print('Using single application of the trapezoidal rule ')\n",
    "print('\\tI: {:.4f}'.format(I))\n",
    "print('\\tError: {:.4f} %'.format(error))"
   ]
  },
  {
   "cell_type": "code",
   "execution_count": 34,
   "metadata": {
    "collapsed": false
   },
   "outputs": [
    {
     "name": "stdout",
     "output_type": "stream",
     "text": [
      "Using multiple-application trapezoidal rule \n",
      "\tn = 2\n",
      "\t\tI: 1.6558\n",
      "\t\tError: 1.5504 %\n",
      "\tn = 4\n",
      "\t\tI: 1.6753\n",
      "\t\tError: 0.3924 %\n"
     ]
    }
   ],
   "source": [
    "# c - multiple-application trapezoidal rule, with n = 2 and n = 4\n",
    "ns = [2, 4]\n",
    "\n",
    "print('Using multiple-application trapezoidal rule ')\n",
    "for n in ns:\n",
    "    print('\\tn = {}'.format(n))\n",
    "    x = linspace(a, b, n + 1)\n",
    "    y = f(x)\n",
    "    I = trapz(y, x)\n",
    "    error = abs(I - I_true) / I_true * 100\n",
    "    print('\\t\\tI: {:.4f}'.format(I))\n",
    "    print('\\t\\tError: {:.4f} %'.format(error))"
   ]
  },
  {
   "cell_type": "code",
   "execution_count": 35,
   "metadata": {
    "collapsed": false
   },
   "outputs": [
    {
     "name": "stdout",
     "output_type": "stream",
     "text": [
      "Using single application of Simpson’s 1/3 rule \n",
      "\tI: 1.6803\n",
      "\tError: 0.0938 %\n"
     ]
    }
   ],
   "source": [
    "# d - single application of Simpson’s 1/3 rule\n",
    "n = 2\n",
    "x = linspace(a, b, n + 1)\n",
    "y = f(x)\n",
    "\n",
    "I = simps(y, x)\n",
    "error = abs(I - I_true) / I_true * 100\n",
    "\n",
    "print('Using single application of Simpson’s 1/3 rule ')\n",
    "print('\\tI: {:.4f}'.format(I))\n",
    "print('\\tError: {:.4f} %'.format(error))"
   ]
  },
  {
   "cell_type": "code",
   "execution_count": 36,
   "metadata": {
    "collapsed": false
   },
   "outputs": [
    {
     "name": "stdout",
     "output_type": "stream",
     "text": [
      "Using multiple-application Simpson’s rule with n = 4 \n",
      "\tI: 1.6818\n",
      "\tError: 0.0064 %\n"
     ]
    }
   ],
   "source": [
    "# e - multiple-application Simpson’s rule, with n = 4\n",
    "n = 4\n",
    "x = linspace(a, b, n + 1)\n",
    "y = f(x)\n",
    "\n",
    "I = simps(y, x)\n",
    "error = abs(I - I_true) / I_true * 100\n",
    "\n",
    "print('Using multiple-application Simpson’s rule with n = 4 ')\n",
    "print('\\tI: {:.4f}'.format(I))\n",
    "print('\\tError: {:.4f} %'.format(error))"
   ]
  },
  {
   "cell_type": "code",
   "execution_count": 37,
   "metadata": {
    "collapsed": false
   },
   "outputs": [
    {
     "name": "stdout",
     "output_type": "stream",
     "text": [
      "Using multiple-application Simpson’s rule with n = 5 \n",
      "\tI: 1.6809\n",
      "\tError: 0.0597 %\n"
     ]
    }
   ],
   "source": [
    "# e - multiple-application Simpson’s rule, with n = 5\n",
    "n = 5\n",
    "x = linspace(a, b, n + 1)\n",
    "y = f(x)\n",
    "\n",
    "I = simps(y, x)\n",
    "error = abs(I - I_true) / I_true * 100\n",
    "\n",
    "print('Using multiple-application Simpson’s rule with n = 5 ')\n",
    "print('\\tI: {:.4f}'.format(I))\n",
    "print('\\tError: {:.4f} %'.format(error))"
   ]
  },
  {
   "cell_type": "markdown",
   "metadata": {},
   "source": [
    "___\n",
    "## Exercise 4\n",
    "Integrate the following function analytically and using the trapezoidal rule, with $n = 1,2,3,\\dots, 20$:  \n",
    "  \n",
    "$$\\int_{1}^{2}(x + 1/x)^2\\ dx $$  \n",
    "  \n",
    "Use the analytical solution to compute the true relative errors to evaluate the accuracy of the trapezoidal approximations. What do you\n",
    "observe?"
   ]
  },
  {
   "cell_type": "markdown",
   "metadata": {},
   "source": [
    "## Solution\n"
   ]
  },
  {
   "cell_type": "code",
   "execution_count": 38,
   "metadata": {
    "collapsed": false
   },
   "outputs": [
    {
     "name": "stdout",
     "output_type": "stream",
     "text": [
      "Using sympy.integrate\n",
      "\tI: 4.8333\n"
     ]
    }
   ],
   "source": [
    "f = lambda x : (x + 1 / x)**2\n",
    "a = 1 \n",
    "b = 2\n",
    "\n",
    "x = sp.symbols('x')\n",
    "I_true = sp.integrate(f(x), (x, a, b)).evalf()\n",
    "print('Using sympy.integrate')\n",
    "print('\\tI: {:.4f}'.format(I_true))"
   ]
  },
  {
   "cell_type": "code",
   "execution_count": 44,
   "metadata": {
    "collapsed": false
   },
   "outputs": [
    {
     "name": "stdout",
     "output_type": "stream",
     "text": [
      "Using trapezoidal rule \n",
      "\tn = 1\n",
      "\t\tI: 5.1250\n",
      "\t\tError: 0.06034483\n",
      "\tn = 2\n",
      "\t\tI: 4.9097\n",
      "\t\tError: 0.01580460\n",
      "\tn = 3\n",
      "\t\tI: 4.8677\n",
      "\t\tError: 0.00710728\n",
      "\tn = 4\n",
      "\t\tI: 4.8527\n",
      "\t\tError: 0.00401595\n",
      "\tn = 5\n",
      "\t\tI: 4.8458\n",
      "\t\tError: 0.00257581\n",
      "\tn = 6\n",
      "\t\tI: 4.8420\n",
      "\t\tError: 0.00179092\n",
      "\tn = 7\n",
      "\t\tI: 4.8397\n",
      "\t\tError: 0.00131675\n",
      "\tn = 8\n",
      "\t\tI: 4.8382\n",
      "\t\tError: 0.00100862\n",
      "\tn = 9\n",
      "\t\tI: 4.8372\n",
      "\t\tError: 0.00079720\n",
      "\tn = 10\n",
      "\t\tI: 4.8365\n",
      "\t\tError: 0.00064589\n",
      "\tn = 11\n",
      "\t\tI: 4.8359\n",
      "\t\tError: 0.00053389\n",
      "\tn = 12\n",
      "\t\tI: 4.8355\n",
      "\t\tError: 0.00044867\n",
      "\tn = 13\n",
      "\t\tI: 4.8352\n",
      "\t\tError: 0.00038234\n",
      "\tn = 14\n",
      "\t\tI: 4.8349\n",
      "\t\tError: 0.00032970\n",
      "\tn = 15\n",
      "\t\tI: 4.8347\n",
      "\t\tError: 0.00028722\n",
      "\tn = 16\n",
      "\t\tI: 4.8346\n",
      "\t\tError: 0.00025246\n",
      "\tn = 17\n",
      "\t\tI: 4.8344\n",
      "\t\tError: 0.00022364\n",
      "\tn = 18\n",
      "\t\tI: 4.8343\n",
      "\t\tError: 0.00019949\n",
      "\tn = 19\n",
      "\t\tI: 4.8342\n",
      "\t\tError: 0.00017905\n",
      "\tn = 20\n",
      "\t\tI: 4.8341\n",
      "\t\tError: 0.00016160\n"
     ]
    }
   ],
   "source": [
    "print('Using trapezoidal rule ')\n",
    "for n in range(1,21):\n",
    "    print('\\tn = {}'.format(n))\n",
    "    x = linspace(a, b, n + 1)\n",
    "    y = f(x)\n",
    "    I = trapz(y, x)\n",
    "    error = abs(I - I_true) / I_true \n",
    "    print('\\t\\tI: {:.4f}'.format(I))\n",
    "    print('\\t\\tError: {:.8f}'.format(error))"
   ]
  },
  {
   "cell_type": "markdown",
   "metadata": {},
   "source": [
    "### We could see that when the number of intervals n increases, the evalution of the integral becomes closer to the analytical solution and the relative true error becomes smaller."
   ]
  }
 ],
 "metadata": {
  "kernelspec": {
   "display_name": "Python [Root]",
   "language": "python",
   "name": "Python [Root]"
  },
  "language_info": {
   "codemirror_mode": {
    "name": "ipython",
    "version": 3
   },
   "file_extension": ".py",
   "mimetype": "text/x-python",
   "name": "python",
   "nbconvert_exporter": "python",
   "pygments_lexer": "ipython3",
   "version": "3.5.2"
  }
 },
 "nbformat": 4,
 "nbformat_minor": 0
}
