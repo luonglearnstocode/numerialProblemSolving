{
 "cells": [
  {
   "cell_type": "markdown",
   "metadata": {},
   "source": [
    "# Week 11 Optimization\n",
    "Introduction to Numerical Problem Solving, Spring 2017   \n",
    "Luong Nguyen, 5.4.2017  \n",
    "Helsinki Metropolia University of Applied Sciences"
   ]
  },
  {
   "cell_type": "code",
   "execution_count": 25,
   "metadata": {
    "collapsed": false
   },
   "outputs": [
    {
     "name": "stdout",
     "output_type": "stream",
     "text": [
      "Populating the interactive namespace from numpy and matplotlib\n"
     ]
    },
    {
     "name": "stderr",
     "output_type": "stream",
     "text": [
      "WARNING: pylab import has clobbered these variables: ['f']\n",
      "`%matplotlib` prevents importing * from pylab and numpy\n"
     ]
    }
   ],
   "source": [
    "# Initial import statements\n",
    "%pylab inline\n",
    "from scipy.optimize import newton, minimize"
   ]
  },
  {
   "cell_type": "markdown",
   "metadata": {},
   "source": [
    "___\n",
    "## Exercise 1  \n",
    "Given $f(x) = - 1.5x^6  - 2x^4 + 12x$  \n",
    "(a) Plot the function.  \n",
    "(b) Differentiate the function and then use a root location method to solve for the maximum $f(x)$ and the corresponding value of $x$.  \n",
    "(c) Use `minimize` function from `scipy.optimize` to find the maximimum of the function.  "
   ]
  },
  {
   "cell_type": "markdown",
   "metadata": {},
   "source": [
    "## Solution  \n",
    "(a) First we define function $f$ then plot it in the domain $[-2, 2]$.  \n",
    "(b) First we differentiate $f(x)$: $\\dfrac{df}{dx} = -9 x^5 - 8 x^4 + 12$  \n",
    "We will use the function `newton` from `scipy.optimize` to find the value of $x$ that $f(x)$ has the maximum value. Finally we calculate $f(x)$ to get the maximum value of the function.  \n",
    "(c) First we need to define a function `nf` which is the reflection of $f(x)$ over the $x$ axis, so that we could use `minimize` function from `scipy.optimize` to find the value of $x$ that $nf(x)$ gets the minimum value and $f(x)$ gets the maximum value. Finally we plug $x$ into $f(x)$ to get the maximum value of the function.  "
   ]
  },
  {
   "cell_type": "code",
   "execution_count": 26,
   "metadata": {
    "collapsed": false
   },
   "outputs": [
    {
     "data": {
      "image/png": "[encoded data removed]",
      "text/plain": [
       "<matplotlib.figure.Figure at 0x1ce50bf20b8>"
      ]
     },
     "metadata": {},
     "output_type": "display_data"
    }
   ],
   "source": [
    "# a\n",
    "f = lambda x : -1.5 * x**6 - 2 * x**4 + 12 * x\n",
    "\n",
    "figure()\n",
    "x = linspace(-2, 2, 1000)\n",
    "plot(x, f(x))\n",
    "axhline(0, color = 'r')\n",
    "grid()\n",
    "show()"
   ]
  },
  {
   "cell_type": "code",
   "execution_count": 27,
   "metadata": {
    "collapsed": false
   },
   "outputs": [
    {
     "name": "stdout",
     "output_type": "stream",
     "text": [
      "Maximum value found by scipy.optimize.newton:\n",
      "\tx0 = 0.918356\n",
      "\tf(x0) = 8.697876\n"
     ]
    }
   ],
   "source": [
    "# b\n",
    "df = lambda x : -9 * x**5 - 8 * x**3 + 12\n",
    "x0 = newton(df, 1, tol=0.01)\n",
    "print(\"Maximum value found by scipy.optimize.newton:\")\n",
    "print(\"\\tx0 = {0:.6f}\".format(x0))\n",
    "print(\"\\tf(x0) = {0:.6f}\".format(f(x0)))"
   ]
  },
  {
   "cell_type": "code",
   "execution_count": 28,
   "metadata": {
    "collapsed": false
   },
   "outputs": [
    {
     "name": "stdout",
     "output_type": "stream",
     "text": [
      "Maximum value found by scipy.optimize.minimize:\n",
      "\tx0 = 0.916915\n",
      "\tf(x0) = 8.697876\n"
     ]
    }
   ],
   "source": [
    "# c\n",
    "nf = lambda x : -f(x)\n",
    "x0_true = minimize(nf, 1).x[0]\n",
    "print(\"Maximum value found by scipy.optimize.minimize:\")\n",
    "print(\"\\tx0 = {0:.6f}\".format(x0_true))\n",
    "print(\"\\tf(x0) = {0:.6f}\".format(f(x0)))"
   ]
  },
  {
   "cell_type": "markdown",
   "metadata": {},
   "source": [
    "___\n",
    "## Exercise 2  \n",
    "Solve the problem 1 using the golden-section search. Use initial guesses of $x_l = 0.0$ and $x_h = 2.0$. Perform 30 iterations. How accurate the results is then?  "
   ]
  },
  {
   "cell_type": "markdown",
   "metadata": {},
   "source": [
    "## Solution  \n",
    "First we need to implement function `gss` that uses the golden-section search method. We get the function from an article on `wikipedia`.  \n",
    "Then, we call the function with the $a = 0.0, b = 2.0,$ `maxiter` $= 30$.  \n",
    "Finally we get the true error from our solution with the value of $x$ we get from `scipy.optimize.minimize` in the last exercise.  "
   ]
  },
  {
   "cell_type": "code",
   "execution_count": 29,
   "metadata": {
    "collapsed": false
   },
   "outputs": [
    {
     "name": "stdout",
     "output_type": "stream",
     "text": [
      "Maximum value found by golden-section search:\n",
      "\tx0 = 0.91691542\n",
      "\tf(x0) = 8.69792983\n",
      "\tTrue error = 0.00000029\n"
     ]
    }
   ],
   "source": [
    "'''\n",
    "https://en.wikipedia.org/wiki/Golden-section_search\n",
    "python program for golden section search\n",
    "'''\n",
    "gr = (math.sqrt(5) + 1) / 2\n",
    "\n",
    "def gss(f, a, b, tol=1e-10, maxiter = 1000):\n",
    "    '''\n",
    "    golden section search\n",
    "    to find the minimum of f on [a,b]\n",
    "    f: a strictly unimodal function on [a,b]\n",
    "    '''\n",
    "    n = 0\n",
    "    c = b - (b - a) / gr\n",
    "    d = a + (b - a) / gr \n",
    "    while abs(c - d) > tol and n < maxiter:\n",
    "        if f(c) < f(d):\n",
    "            b = d\n",
    "        else:\n",
    "            a = c\n",
    "        \n",
    "        # we recompute both c and d here to avoid loss of precision which may lead to incorrect results or infinite loop\n",
    "        c = b - (b - a) / gr\n",
    "        d = a + (b - a) / gr\n",
    "        n += 1\n",
    "\n",
    "    return ((b + a) / 2, n)\n",
    "\n",
    "x0, n = gss(nf, 0, 2, maxiter = 30)\n",
    "te = abs(x0 - x0_true) # true error\n",
    "\n",
    "print(\"Maximum value found by golden-section search:\")\n",
    "print(\"\\tx0 = {0:.8f}\".format(x0))\n",
    "print(\"\\tf(x0) = {0:.8f}\".format(f(x0)))\n",
    "print(\"\\tTrue error = {0:.8f}\".format(te))"
   ]
  },
  {
   "cell_type": "markdown",
   "metadata": {},
   "source": [
    "___\n",
    "## Exercise 3  \n",
    "Solve the problem 1 using parabolic interpolation method. Use initial guesses $x_0 = 0.0, x_1 = 1.0$ and $x_2 = 2.0$. Iterate until you reach the same accuracy as in previous problem. Did the parabolic interpolation find the solution with less or more iterations?"
   ]
  },
  {
   "cell_type": "markdown",
   "metadata": {},
   "source": [
    "## Solution  \n",
    "First we need to implement a function that uses the parabolic interpolation method.  \n",
    "Then, we call the function with the  $x_0 = 0.0, x_1 = 1.0$, $x_2 = 2.0$ and `tol` equals the true error value we got from the previous exercise.  \n",
    "Finally we print out the value of $x_0$ and the number of iterations needed to reach the same accurarcy as in the previous problem. We could see that it took less iterations.  "
   ]
  },
  {
   "cell_type": "code",
   "execution_count": 30,
   "metadata": {
    "collapsed": false
   },
   "outputs": [
    {
     "name": "stdout",
     "output_type": "stream",
     "text": [
      "Maximum value found by parabolic interpolation method:\n",
      "\tx0 = 0.91691515\n",
      "\tNumber of steps n = 21\n"
     ]
    }
   ],
   "source": [
    "def parabolicInterpolation(f, x0, x1, x2, tol = 1e-8, maxiter = 100):\n",
    "    n = 0\n",
    "    while abs(x2 - x0) > tol and n < maxiter: \n",
    "        n += 1\n",
    "        x3 =  (f(x0) * (x1**2 - x2**2) + f(x1) * (x2**2 - x0**2) + f(x2) * (x0**2 - x1**2)) \\\n",
    "                    / (2 * (f(x0) * (x1 - x2) + f(x1) * (x2 - x0) + f(x2) * (x0 - x1)))\n",
    "        if x3 > x1:\n",
    "            x0, x1 = x1, x3\n",
    "        else:\n",
    "            x1, x2 = x3, x1\n",
    "\n",
    "    return x1, n\n",
    "\n",
    "x0, n = parabolicInterpolation(nf, 0, 1, 2, tol = te)\n",
    "print(\"Maximum value found by parabolic interpolation method:\")\n",
    "print(\"\\tx0 = {0:.8f}\".format(x0))\n",
    "print(\"\\tNumber of steps n = {}\".format(n))"
   ]
  },
  {
   "cell_type": "markdown",
   "metadata": {},
   "source": [
    "___\n",
    "## Exercise 4  \n",
    "Solve the problem 1 using Newton-Raphson optimization method. Use initial guess of $x_0 = 2.0$. How many iterations are needed to achieve the same accuracy as in previous problems?"
   ]
  },
  {
   "cell_type": "markdown",
   "metadata": {},
   "source": [
    "## Solution  \n",
    "First we need to define 2 helper functions to estimate the derivative and second derivative of $f(x)$ at a point $x_0$.  \n",
    "Then we implement a neat function using Newton-Raphson method thanks to the 2 helper functions.  \n",
    "Next, we call the function with the  $x_0 = 2.0$ and `tol` equals the true error value we got from exercise 2.  \n",
    "Finally we print out the value of $x_0$ and the number of iterations needed to reach the same accurarcy as exercise 2. We could see that it took less iterations than the previous problems.  "
   ]
  },
  {
   "cell_type": "code",
   "execution_count": 31,
   "metadata": {
    "collapsed": true
   },
   "outputs": [],
   "source": [
    "def derivative(f, x, h = 1e-8):\n",
    "    \"\"\" \n",
    "    Inputs:\n",
    "       f = the function \n",
    "       x = point to estimate the derivative on\n",
    "       h = small number, default value 1e-8\n",
    "    Outputs:\n",
    "       df = estimate of the derivative of f at point x\n",
    "    \"\"\"\n",
    "    df = (f(x + h) - f(x)) / h\n",
    "    return df\n",
    "\n",
    "def secondDerivative(f, x, h = 1e-8):\n",
    "    \"\"\" \n",
    "    Inputs:\n",
    "       f = the function \n",
    "       x = point to estimate the 2nd derivative on\n",
    "       h = small number, default value 1e-8\n",
    "    Outputs:\n",
    "       df = estimate of the 2nd derivative of f at point x\n",
    "    \"\"\"\n",
    "    ddf = (f(x + 2 * h) - 2 * f(x + h) + f(x)) / h**2\n",
    "    return ddf\n",
    "\n",
    "def newtonSearch(f, x0, tol = 1e-10, maxiter = 10000):\n",
    "    \"\"\" \n",
    "    Inputs:\n",
    "       f = the function \n",
    "       x0 = initial estimate of a extremum\n",
    "       tol = tolerance for the extremum value\n",
    "       maxiter = maximum numbers of iterations\n",
    "    Outputs:\n",
    "       x0 = estimate for the extremum\n",
    "       n = number of iterations\n",
    "    \"\"\"\n",
    "    n = 0\n",
    "    while(abs(derivative(f, x0)) > tol and n < maxiter):\n",
    "        n += 1\n",
    "        fpp = secondDerivative(f, x0)\n",
    "        if fpp != 0:\n",
    "            x0 = x0 - derivative(f, x0) / fpp\n",
    "        else:\n",
    "            x0 += tol\n",
    "    return x0, n \n",
    "\n"
   ]
  },
  {
   "cell_type": "code",
   "execution_count": 32,
   "metadata": {
    "collapsed": false
   },
   "outputs": [
    {
     "name": "stdout",
     "output_type": "stream",
     "text": [
      "\tRoot x0 = 0.9169152\n",
      "\tNumber of steps n = 11\n"
     ]
    }
   ],
   "source": [
    "x0, n = newtonSearch(f, 2.0, tol = te)\n",
    "print(\"\\tRoot x0 = {0:.7f}\".format(x0))\n",
    "print(\"\\tNumber of steps n = {}\".format(n))"
   ]
  },
  {
   "cell_type": "markdown",
   "metadata": {},
   "source": [
    "___\n",
    "## Exercise 5  \n",
    "Employ the following methods to find the maximum of\n",
    "$f(x) = 4x − 1.8x^2 + 1.2x^3 − 0.3x^4 \\tag*{}$  \n",
    "  \n",
    "(a) Golden-section method $(x_l = −2.0, x_u = 4.0, \\epsilon_s = 0.0001)$.  \n",
    "(b) Parabolic interpolation $(x_0 = 1.74, x_1 = 2.0, x_2 = 2.5, iterations = 20)$.  \n",
    "(c) Newton-Raphson method $(x_0 = 3, \\epsilon_s  = 0.0001)$.  "
   ]
  },
  {
   "cell_type": "markdown",
   "metadata": {},
   "source": [
    "## Solution  \n",
    "First we plot the function to get the intuition of where the maximum locate.  \n",
    "Then, we plug the required arguments into the functions we have implemented above.  \n",
    "The results we got are quite similar and look resonable on the graph. "
   ]
  },
  {
   "cell_type": "code",
   "execution_count": 33,
   "metadata": {
    "collapsed": false
   },
   "outputs": [
    {
     "data": {
      "image/png": "[encoded data removed]",
      "text/plain": [
       "<matplotlib.figure.Figure at 0x1ce50bdb320>"
      ]
     },
     "metadata": {},
     "output_type": "display_data"
    }
   ],
   "source": [
    "f = lambda x : 4 * x - 18 * x**2 + 1.2 * x**3 - 0.3 * x**4\n",
    "nf = lambda x : -f(x)\n",
    "\n",
    "figure()\n",
    "x = linspace(-1, 1, 1000)\n",
    "plot(x, f(x))\n",
    "axhline(0, color = 'r')\n",
    "grid()\n",
    "show()"
   ]
  },
  {
   "cell_type": "code",
   "execution_count": 34,
   "metadata": {
    "collapsed": false
   },
   "outputs": [
    {
     "name": "stdout",
     "output_type": "stream",
     "text": [
      "Maximum found by golden-section method:\n",
      "\tRoot x0 = 0.1123780\n",
      "\tNumber of steps n = 20\n"
     ]
    }
   ],
   "source": [
    "f = lambda x : 4 * x - 18 * x**2 + 1.2 * x**3 - 0.3 * x**4\n",
    "nf = lambda x : -f(x)\n",
    "\n",
    "print(\"Maximum found by golden-section method:\")\n",
    "x0, n = gss(nf, -2, 4, tol = 0.0001)\n",
    "print(\"\\tRoot x0 = {0:.7f}\".format(x0))\n",
    "print(\"\\tNumber of steps n = {}\".format(n))"
   ]
  },
  {
   "cell_type": "code",
   "execution_count": 35,
   "metadata": {
    "collapsed": false
   },
   "outputs": [
    {
     "name": "stdout",
     "output_type": "stream",
     "text": [
      "Maximum found by parabolic interpolation:\n",
      "\tRoot x0 = 0.1123255\n",
      "\tNumber of steps n = 13\n"
     ]
    }
   ],
   "source": [
    "print(\"Maximum found by parabolic interpolation:\")\n",
    "x0, n = parabolicInterpolation(f, 1.74, 2, 2.5)\n",
    "print(\"\\tRoot x0 = {0:.7f}\".format(x0))\n",
    "print(\"\\tNumber of steps n = {}\".format(n))"
   ]
  },
  {
   "cell_type": "code",
   "execution_count": 36,
   "metadata": {
    "collapsed": false
   },
   "outputs": [
    {
     "name": "stdout",
     "output_type": "stream",
     "text": [
      "Maximum found by Newton-Raphson method:\n",
      "\tRoot x0 = 0.1123255\n",
      "\tNumber of steps n = 291\n"
     ]
    }
   ],
   "source": [
    "print(\"Maximum found by Newton-Raphson method:\")\n",
    "x0, n = newtonSearch(f, 3, tol = 1e-4)\n",
    "print(\"\\tRoot x0 = {0:.7f}\".format(x0))\n",
    "print(\"\\tNumber of steps n = {}\".format(n))"
   ]
  }
 ],
 "metadata": {
  "anaconda-cloud": {},
  "kernelspec": {
   "display_name": "Python [Root]",
   "language": "python",
   "name": "Python [Root]"
  },
  "language_info": {
   "codemirror_mode": {
    "name": "ipython",
    "version": 3
   },
   "file_extension": ".py",
   "mimetype": "text/x-python",
   "name": "python",
   "nbconvert_exporter": "python",
   "pygments_lexer": "ipython3",
   "version": "3.5.2"
  }
 },
 "nbformat": 4,
 "nbformat_minor": 0
}
