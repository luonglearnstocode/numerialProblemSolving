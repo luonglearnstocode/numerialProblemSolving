{
 "cells": [
  {
   "cell_type": "code",
   "execution_count": 3,
   "metadata": {
    "collapsed": true
   },
   "outputs": [],
   "source": [
    "from numpy import *\n",
    "from numpy.linalg import inv, det, solve"
   ]
  },
  {
   "cell_type": "markdown",
   "metadata": {},
   "source": [
    "### Problem 1\n",
    "Find the solution for the given system of equations"
   ]
  },
  {
   "cell_type": "code",
   "execution_count": 26,
   "metadata": {
    "collapsed": false
   },
   "outputs": [
    {
     "name": "stdout",
     "output_type": "stream",
     "text": [
      "[ 2.2441941   3.09497021 -7.13457358]\n"
     ]
    }
   ],
   "source": [
    "A = array([[3., -0.1, -0.2], [0.1, -7., -0.3], [0.3, -0.2, -10.]])\n",
    "b = array([7.85, -19.3, 71.4])\n",
    "x = solve(A, b)\n",
    "print(x)"
   ]
  },
  {
   "cell_type": "code",
   "execution_count": 9,
   "metadata": {
    "collapsed": false
   },
   "outputs": [
    {
     "data": {
      "text/plain": [
       "array([[  3. ,  -0.1,  -0.2],\n",
       "       [ -2.8, -13.9,  -0.4],\n",
       "       [  0.3,  -0.2, -10. ]])"
      ]
     },
     "execution_count": 9,
     "metadata": {},
     "output_type": "execute_result"
    }
   ],
   "source": [
    "A[1] = A[1] * 2 - A[0]\n",
    "A"
   ]
  },
  {
   "cell_type": "code",
   "execution_count": null,
   "metadata": {
    "collapsed": true
   },
   "outputs": [],
   "source": []
  },
  {
   "cell_type": "code",
   "execution_count": 4,
   "metadata": {
    "collapsed": false
   },
   "outputs": [
    {
     "data": {
      "text/plain": [
       "array([ 2.2441941 ,  3.09497021, -7.13457358])"
      ]
     },
     "execution_count": 4,
     "metadata": {},
     "output_type": "execute_result"
    }
   ],
   "source": [
    "x = dot(inv(A), b)\n",
    "x"
   ]
  },
  {
   "cell_type": "code",
   "execution_count": 16,
   "metadata": {
    "collapsed": false
   },
   "outputs": [
    {
     "name": "stdout",
     "output_type": "stream",
     "text": [
      "30.0\n",
      "[[  3.00000000e+00  -1.00000000e-01  -2.00000000e-01]\n",
      " [  0.00000000e+00  -2.09900000e+02  -8.80000000e+00]\n",
      " [  3.00000000e-01  -2.00000000e-01  -1.00000000e+01]]\n",
      "[   7.85 -586.85   71.4 ]\n",
      "10.0\n",
      "[[  3.00000000e+00  -1.00000000e-01  -2.00000000e-01]\n",
      " [  0.00000000e+00  -2.09900000e+02  -8.80000000e+00]\n",
      " [  0.00000000e+00  -1.90000000e+00  -9.98000000e+01]]\n",
      "[   7.85 -586.85  706.15]\n",
      "110.473684211\n",
      "[[  3.00000000e+00  -1.00000000e-01  -2.00000000e-01]\n",
      " [  0.00000000e+00  -2.09900000e+02  -8.80000000e+00]\n",
      " [  0.00000000e+00   0.00000000e+00  -1.10164737e+04]]\n",
      "[  7.85000000e+00  -5.86850000e+02   7.85978421e+04]\n",
      "1 2\n"
     ]
    }
   ],
   "source": [
    "A = array([[3., -0.1, -0.2], [0.1, -7., -0.3], [0.3, -0.2, -10.]])\n",
    "b = array([7.85, -19.3, 71.4])\n",
    "RowsA, ColsA = shape(A)\n",
    "Rowsb = shape(b)\n",
    "for i in range(RowsA-1):\n",
    "        for j in range(i+1, RowsA):\n",
    "            factor = A[i,i] / A[j,i]\n",
    "            print(factor)\n",
    "            A[j] = factor * A[j] - A[i]\n",
    "            b[j] = factor * b[j] - b[i]\n",
    "            print(A)\n",
    "            print(b)\n",
    "print(i, j)"
   ]
  },
  {
   "cell_type": "code",
   "execution_count": 9,
   "metadata": {
    "collapsed": true
   },
   "outputs": [],
   "source": [
    "def pivot(A, row1, row2):\n",
    "    temp = A[row2].copy()\n",
    "    A[row2] = A[row1]\n",
    "    A[row1] = temp\n",
    "    return A\n",
    "def gaussian(A, b):\n",
    "    RowsA, ColsA = shape(A)\n",
    "    Rowsb = shape(b)[0]\n",
    "    x = zeros(Rowsb)\n",
    "            \n",
    "    # elimination\n",
    "    for i in range(RowsA-1):\n",
    "        # partial pivot\n",
    "        r = argmax(abs(A[i:, i])) + i\n",
    "#         print(r)\n",
    "        if r != i:\n",
    "            # pivot\n",
    "            A = pivot(A, i, r)\n",
    "            b = pivot(b, i, r)\n",
    "#         print(A)\n",
    "        for j in range(i+1, RowsA):\n",
    "            if (A[j,i] != 0):\n",
    "                factor = A[i,i] / A[j,i]\n",
    "                A[j] = factor * A[j] - A[i]\n",
    "                b[j] = factor * b[j] - b[i]\n",
    "            \n",
    "    # back substitution\n",
    "    for i in range(Rowsb-1, -1, -1):\n",
    "        x[i] = (b[i] - dot(A[i, i+1:], x[i+1:])) / A[i,i]\n",
    "    return x  "
   ]
  },
  {
   "cell_type": "code",
   "execution_count": 11,
   "metadata": {
    "collapsed": false
   },
   "outputs": [
    {
     "name": "stdout",
     "output_type": "stream",
     "text": [
      "[ 1. -2.  3.]\n"
     ]
    }
   ],
   "source": [
    "A = array([[4., -2, 1], [-2, 4, -2], [1, -2, 4]])\n",
    "b = array([11, -16, 17])\n",
    "x = gaussian(A, b)\n",
    "print(x)"
   ]
  },
  {
   "cell_type": "code",
   "execution_count": 8,
   "metadata": {
    "collapsed": false
   },
   "outputs": [
    {
     "data": {
      "text/plain": [
       "array([ 11.,  21.,  36.])"
      ]
     },
     "execution_count": 8,
     "metadata": {},
     "output_type": "execute_result"
    }
   ],
   "source": [
    "dot(A, x)"
   ]
  },
  {
   "cell_type": "code",
   "execution_count": 80,
   "metadata": {
    "collapsed": false
   },
   "outputs": [
    {
     "data": {
      "text/plain": [
       "array([ 2.2441941 ,  3.09497021, -7.13457358])"
      ]
     },
     "execution_count": 80,
     "metadata": {},
     "output_type": "execute_result"
    }
   ],
   "source": [
    "A = array([[3., -0.1, -0.2], [0.1, -7., -0.3], [0.3, -0.2, -10.]])\n",
    "b = array([7.85, -19.3, 71.4])\n",
    "gaussian(A, b)"
   ]
  },
  {
   "cell_type": "code",
   "execution_count": 89,
   "metadata": {
    "collapsed": false
   },
   "outputs": [
    {
     "name": "stdout",
     "output_type": "stream",
     "text": [
      "1\n",
      "[[4 6 7]\n",
      " [0 2 3]\n",
      " [2 1 6]]\n",
      "2\n",
      "[[ 4  6  7]\n",
      " [ 0 -4  5]\n",
      " [ 0  2  3]]\n"
     ]
    },
    {
     "data": {
      "text/plain": [
       "array([-1.47727273, -1.31818182,  1.54545455])"
      ]
     },
     "execution_count": 89,
     "metadata": {},
     "output_type": "execute_result"
    }
   ],
   "source": [
    "A = array([[0, 2, 3], [4, 6, 7], [2, 1, 6]])\n",
    "b = array([2, -3, 5])\n",
    "gaussian(A, b)"
   ]
  }
 ],
 "metadata": {
  "kernelspec": {
   "display_name": "Python [Root]",
   "language": "python",
   "name": "Python [Root]"
  },
  "language_info": {
   "codemirror_mode": {
    "name": "ipython",
    "version": 3
   },
   "file_extension": ".py",
   "mimetype": "text/x-python",
   "name": "python",
   "nbconvert_exporter": "python",
   "pygments_lexer": "ipython3",
   "version": "3.5.2"
  }
 },
 "nbformat": 4,
 "nbformat_minor": 0
}
