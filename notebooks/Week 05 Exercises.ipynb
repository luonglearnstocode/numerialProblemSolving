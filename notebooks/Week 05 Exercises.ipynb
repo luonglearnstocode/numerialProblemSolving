{
 "cells": [
  {
   "cell_type": "markdown",
   "metadata": {},
   "source": [
    "# Week 5 Exercises - LU decomposition, Matrix inversion and Gauss-Seidel\n",
    "Introduction to Numerical Problem Solving, Spring 2017   \n",
    "28.2.2017, Luong Nguyen  \n",
    "Helsinki Metropolia University of Applied Sciences"
   ]
  },
  {
   "cell_type": "code",
   "execution_count": 54,
   "metadata": {
    "collapsed": false
   },
   "outputs": [],
   "source": [
    "# Initial import statements\n",
    "from pprint import pprint\n",
    "from numpy import *\n",
    "from scipy.linalg import lu, solve, inv, det"
   ]
  },
  {
   "cell_type": "markdown",
   "metadata": {},
   "source": [
    "## Problem 3\n",
    "Write a Python program that solves $Ax = b$ using LU decomposition. Use the functions LUdecomp and LUsolve. \n",
    "  \n",
    "$A = \n",
    " \\begin{bmatrix}\n",
    "    1 & 4 & 1 \\\\\n",
    "    1 & 6 & -1\\\\\n",
    "    2 & -1 & 2\n",
    " \\end{bmatrix} \n",
    " ,\\enspace  b =\n",
    " \\begin{bmatrix}\n",
    "    7 \\\\\n",
    "    13\\\\\n",
    "    5\n",
    " \\end{bmatrix}$\n",
    "\n",
    "What are values for the lower and upper triangular matrices $L$ and $U$?\n"
   ]
  },
  {
   "cell_type": "markdown",
   "metadata": {},
   "source": [
    "\n",
    "### Solution\n",
    "Because the code in the lecture did not work very well, instead of writing a program, we are recommended to use the function imported from scipy.linalg to solve the equation.\n",
    "First, we use function lu to decompose A into P, L, U.  \n",
    "Second, we use function solve to find y from the equation $PLy = b$  \n",
    "Finally, we use function solve to find x from the equation $Ux = y$  \n",
    "\n",
    "To check the result, we compare it with the solution from solve(A, b)"
   ]
  },
  {
   "cell_type": "code",
   "execution_count": 55,
   "metadata": {
    "collapsed": false
   },
   "outputs": [
    {
     "name": "stdout",
     "output_type": "stream",
     "text": [
      "Lower triangular matrix:\n",
      "array([[ 1.        ,  0.        ,  0.        ],\n",
      "       [ 0.5       ,  1.        ,  0.        ],\n",
      "       [ 0.5       ,  0.69230769,  1.        ]])\n",
      "Upper triangular matrix:\n",
      "array([[ 2.        , -1.        ,  2.        ],\n",
      "       [ 0.        ,  6.5       , -2.        ],\n",
      "       [ 0.        ,  0.        ,  1.38461538]])\n",
      "x: \n",
      "array([ 5.,  1., -2.])\n"
     ]
    }
   ],
   "source": [
    "A = array([[1, 4, 1], [1, 6, -1], [2, -1, 2]])\n",
    "b = array([7, 13, 5])\n",
    "P, L, U = lu(A)\n",
    "print(\"Lower triangular matrix:\")\n",
    "pprint(L)\n",
    "print(\"Upper triangular matrix:\")\n",
    "pprint(U)\n",
    "y = solve(dot(P, L), b)\n",
    "x = solve(U, y)\n",
    "\n",
    "print(\"x: \")\n",
    "pprint(x)\n"
   ]
  },
  {
   "cell_type": "code",
   "execution_count": 56,
   "metadata": {
    "collapsed": false
   },
   "outputs": [
    {
     "name": "stdout",
     "output_type": "stream",
     "text": [
      "array([ 5.,  1., -2.])\n"
     ]
    }
   ],
   "source": [
    "# check the answer\n",
    "A = array([[1, 4, 1], [1, 6, -1], [2, -1, 2]])\n",
    "b = array([7, 13, 5])\n",
    "pprint(solve(A, b))"
   ]
  },
  {
   "cell_type": "markdown",
   "metadata": {},
   "source": [
    "### Since the answer are the same, we did get the right solution.\n",
    "$x = \\begin{bmatrix}\n",
    "    5\\\\ 1\\\\ -2\n",
    " \\end{bmatrix}$"
   ]
  },
  {
   "cell_type": "markdown",
   "metadata": {},
   "source": [
    "## Problem 6\n",
    "Invert the following matrices with any method  \n",
    "  \n",
    " $A =\n",
    " \\begin{bmatrix}\n",
    "    5 & -3 & -1 & 0 \\\\\n",
    "    -2 & 1 & 1 & 1\\\\\n",
    "    3 & -5 & 1 & 2\\\\\n",
    "    0 & 8 & -4 & -3\n",
    " \\end{bmatrix}\n",
    " \\enspace B =\n",
    " \\begin{bmatrix}\n",
    "    1 & 3 & -9 & 6 & 4 \\\\\n",
    "    2 & -1 & 6 & 7 & 1 \\\\\n",
    "    3 & 2 & -3 & 15 & 5 \\\\\n",
    "    8 & -1 & 1 & 4 & 2 \\\\\n",
    "    11 & 1 & -2 & 18 & 7\n",
    " \\end{bmatrix}$\n",
    "\n",
    "Comment on the reliability of the results."
   ]
  },
  {
   "cell_type": "markdown",
   "metadata": {},
   "source": [
    "\n",
    "### Solution\n",
    "First, we use function inv to get the inverse matrix of matrix A and B.\n",
    "We check the reliabilty of the results by taking dot product of each matrix A and B with its inverse. If we get the result as an identity matrix, the inverse is correct. "
   ]
  },
  {
   "cell_type": "code",
   "execution_count": 57,
   "metadata": {
    "collapsed": false
   },
   "outputs": [
    {
     "name": "stdout",
     "output_type": "stream",
     "text": [
      "Inverse matrix of A:\n",
      "array([[ 1.125 ,  1.    , -0.875 , -0.25  ],\n",
      "       [ 0.8125,  1.    , -0.6875, -0.125 ],\n",
      "       [ 2.1875,  2.    , -2.3125, -0.875 ],\n",
      "       [-0.75  , -0.    ,  1.25  ,  0.5   ]])\n",
      "Dot product of A and inverse of A:\n",
      "array([[ 1.,  0.,  0., -0.],\n",
      "       [-0.,  1., -0., -0.],\n",
      "       [-0.,  0.,  1.,  0.],\n",
      "       [ 0.,  0.,  0.,  1.]])\n",
      "Inverse matrix of B:\n",
      "array([[ -7.42166231e+14,  -7.42166231e+14,  -7.42166231e+14,\n",
      "         -1.48433246e+15,   1.48433246e+15],\n",
      "       [ -3.52528960e+15,  -3.52528960e+15,  -3.52528960e+15,\n",
      "         -7.05057919e+15,   7.05057919e+15],\n",
      "       [ -5.90359502e+14,  -5.90359502e+14,  -5.90359502e+14,\n",
      "         -1.18071900e+15,   1.18071900e+15],\n",
      "       [ -3.33333330e-01,  -3.33333330e-01,   6.66666670e-01,\n",
      "          3.33333330e-01,  -3.33333330e-01],\n",
      "       [  1.50119988e+15,   1.50119988e+15,   1.50119988e+15,\n",
      "          3.00239975e+15,  -3.00239975e+15]])\n",
      "Dot product of B and inverse of B:\n",
      "array([[ 2., -0., -1.,  0.,  2.],\n",
      "       [ 0.,  2., -2.,  0.,  8.],\n",
      "       [ 0.,  0.,  1.,  0., -1.],\n",
      "       [ 0.,  0., -0.,  1.,  0.],\n",
      "       [ 0.,  0.,  0.,  8.,  0.]])\n",
      "Determinant of matrix B:\n",
      "0.0\n"
     ]
    }
   ],
   "source": [
    "A = array([5, -3, -1, 0, -2, 1, 1, 1, 3, -5, 1, 2, 0, 8, -4, -3]).reshape(4, 4)\n",
    "print(\"Inverse matrix of A:\")\n",
    "pprint(around(inv(A),8))\n",
    "print(\"Dot product of A and inverse of A:\")\n",
    "pprint(around(dot(A, inv(A))))\n",
    "\n",
    "B = array([1, 3, -9, 6, 4, 2, -1, 6, 7, 1, 3, 2, -3, 15, 5, 8, -1, 1, 4, 2, 11, 1, -2, 18, 7]).reshape(5,5)\n",
    "print(\"Inverse matrix of B:\")\n",
    "pprint(around(inv(B),8))\n",
    "print(\"Dot product of B and inverse of B:\")\n",
    "pprint(around(dot(inv(B), B)))\n",
    "print(\"Determinant of matrix B:\")\n",
    "pprint(around(det(B),10))"
   ]
  },
  {
   "cell_type": "markdown",
   "metadata": {},
   "source": [
    "#### The inverse of matrix A is correct since we obtain an identity matrix when calculate the dot product of A and its inverse. The inverse of matrix B that we get is not correct because we did not get an identity matrix for the dot product of B and its inverse. Since the determinant B is 0, matrix B does not have an inverse."
   ]
  },
  {
   "cell_type": "markdown",
   "metadata": {},
   "source": [
    "## Problem 9\n",
    "Use the Gauss-Seidel with relaxation to solve $Ax = b$, where  \n",
    "  \n",
    "$A = \n",
    " \\begin{bmatrix}\n",
    "    4 & -1 & 0 & 0 \\\\\n",
    "    -1 & 4 & -1 & 0 \\\\\n",
    "    0 & -1 & 4 & -1 \\\\\n",
    "    0 & 0 & -1 & 3\n",
    " \\end{bmatrix} \n",
    " \\enspace  b =\n",
    " \\begin{bmatrix}\n",
    "    15 \\\\\n",
    "    10 \\\\\n",
    "    10 \\\\\n",
    "    10\n",
    " \\end{bmatrix}$\n",
    "\n",
    "Take $x_i = b_i/A_{ii}$ as the starting vector, and use $\\omega$ = 1.1 for the relaxation factor\n"
   ]
  },
  {
   "cell_type": "markdown",
   "metadata": {},
   "source": [
    "### Solution\n",
    "First, we implement the gaussSeidel function with relaxation based on the function without relaxation from the lecture. There is just one small change that omega will be taken into account when calculate x[i].  \n",
    "We also need to calculate the starting value of vector x (x0) which $x_i = b_i/A_{ii}$.  \n",
    "Finally we call the function with matrix A and b, x0 and omega = 1.1 as arguments.  "
   ]
  },
  {
   "cell_type": "code",
   "execution_count": 58,
   "metadata": {
    "collapsed": false
   },
   "outputs": [
    {
     "name": "stdout",
     "output_type": "stream",
     "text": [
      "array([ 5.74583856,  5.95724531,  5.97791267,  5.84144894])\n",
      "Solution by solve function: \n",
      "array([ 5.,  5.,  5.,  5.])\n"
     ]
    }
   ],
   "source": [
    "def gaussSeidel(A, b, x0, omega):\n",
    "    x = x0\n",
    "    for k in range(100):\n",
    "        for i in range(n):\n",
    "            s = 0\n",
    "            for j in range(n):\n",
    "                if j != i:\n",
    "                    s += A[i, j] * x[j]\n",
    "            x[i] = omega/A[i, i] * (b[i] - s) + (1 - omega)/x[i]\n",
    "    return x\n",
    "\n",
    "A = array([4, -1, 0, 0, -1, 4, -1, 0, 0, -1, 4, -1, 0, 0, -1, 3]).reshape(4, 4)\n",
    "b = array([15, 10, 10, 10])  \n",
    "# find x0 \n",
    "n = len(b)\n",
    "x0 = zeros(n)\n",
    "for i in range(len(x0)):\n",
    "    x0[i] = b[i] / A[i, i]\n",
    "    \n",
    "pprint(gaussSeidel(A, b, x0, 1.1))\n",
    "print('Solution by solve function: ')\n",
    "pprint(solve(A, b))"
   ]
  },
  {
   "cell_type": "markdown",
   "metadata": {},
   "source": [
    "#### Using Gauss-Seidel with relaxation we are able to get an answer. It is not the correct solution given by the solve function. It is because the use of relaxation which improves the convergence of this method. We can get better result if we recalculate omega on each iteration. For this problem, if we do not use relaxation (omega = 1), we will be able to get the correct result."
   ]
  },
  {
   "cell_type": "code",
   "execution_count": 59,
   "metadata": {
    "collapsed": false
   },
   "outputs": [
    {
     "name": "stdout",
     "output_type": "stream",
     "text": [
      "array([ 5.,  5.,  5.,  5.])\n"
     ]
    }
   ],
   "source": [
    "pprint(gaussSeidel(A, b, x0, 1))"
   ]
  }
 ],
 "metadata": {
  "anaconda-cloud": {},
  "kernelspec": {
   "display_name": "Python [Root]",
   "language": "python",
   "name": "Python [Root]"
  },
  "language_info": {
   "codemirror_mode": {
    "name": "ipython",
    "version": 3
   },
   "file_extension": ".py",
   "mimetype": "text/x-python",
   "name": "python",
   "nbconvert_exporter": "python",
   "pygments_lexer": "ipython3",
   "version": "3.5.2"
  }
 },
 "nbformat": 4,
 "nbformat_minor": 0
}
