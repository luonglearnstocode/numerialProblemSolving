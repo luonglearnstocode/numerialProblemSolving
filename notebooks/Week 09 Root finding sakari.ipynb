{
 "cells": [
  {
   "cell_type": "markdown",
   "metadata": {},
   "source": [
    "# Week 09 Root finding\n",
    "Introduction to Numerical Problem Solving, Spring 2017   \n",
    "CC BY-NC-SA, Sakari Lukkarinen   \n",
    "Helsinki Metropolia University of Applied Sciences"
   ]
  },
  {
   "cell_type": "code",
   "execution_count": 17,
   "metadata": {
    "collapsed": false
   },
   "outputs": [
    {
     "name": "stdout",
     "output_type": "stream",
     "text": [
      "Populating the interactive namespace from numpy and matplotlib\n"
     ]
    },
    {
     "name": "stderr",
     "output_type": "stream",
     "text": [
      "WARNING: pylab import has clobbered these variables: ['axes', 'f']\n",
      "`%matplotlib` prevents importing * from pylab and numpy\n"
     ]
    }
   ],
   "source": [
    "%pylab inline\n",
    "from scipy.optimize import bisect, newton"
   ]
  },
  {
   "cell_type": "markdown",
   "metadata": {},
   "source": [
    "## Reference\n",
    "\n",
    "Johansson (2015). [Numerical Python: A Practical Techniques Approach for Industry](https://metropolia.finna.fi/Record/nelli15.3710000000486209) \n",
    "- [Ch. Plotting and Visualization](https://link-springer-com.ezproxy.metropolia.fi/content/pdf/10.1007%2F978-1-4842-0553-2_4.pdf)\n",
    "- [Ch. Equation Solving](https://link-springer-com.ezproxy.metropolia.fi/content/pdf/10.1007%2F978-1-4842-0553-2_5.pdf)"
   ]
  },
  {
   "cell_type": "markdown",
   "metadata": {},
   "source": [
    "## Exercise 1\n",
    "Draw graphical presentations of the given functions."
   ]
  },
  {
   "cell_type": "code",
   "execution_count": 18,
   "metadata": {
    "collapsed": true
   },
   "outputs": [],
   "source": [
    "x = np.linspace(-2, 2, 1000)\n",
    "\n",
    "def f1(x):\n",
    "    return x**2 - x - 1\n",
    "\n",
    "def f2(x):\n",
    "    return x**3 - 3*sin(x)\n",
    "\n",
    "def f3(x):\n",
    "    return exp(x) - 2\n",
    "\n",
    "def f4(x):\n",
    "    return 1 - x**2 + sin(50/(1+x**2))"
   ]
  },
  {
   "cell_type": "markdown",
   "metadata": {},
   "source": [
    "Use subplots to divide the figure into four parts. For more details see Johansson (2015) p. 114 and p. 137."
   ]
  },
  {
   "cell_type": "code",
   "execution_count": 20,
   "metadata": {
    "collapsed": false
   },
   "outputs": [
    {
     "data": {
      "image/png": "[encoded data removed]",
      "text/plain": [
       "<matplotlib.figure.Figure at 0x8701048>"
      ]
     },
     "metadata": {},
     "output_type": "display_data"
    }
   ],
   "source": [
    "fig, axes = plt.subplots(1, 4, figsize=(12, 3), sharey=True)\n",
    "#These lines can be summarized as one line below, see line 9: axes[n].plot(x, f)\n",
    "#axes[0].plot(x, f1(x))\n",
    "#axes[1].plot(x, f2(x))\n",
    "#axes[2].plot(x, f3(x))\n",
    "#axes[3].plot(x, f4(x))\n",
    " \n",
    "for n, y in enumerate([f1(x), f2(x), f3(x), f4(x)]):\n",
    "    axes[n].plot(x, y) # Here\n",
    "    axes[n].grid()\n",
    "    axes[n].set_xticks([-2, -1, 0, 1, 2])\n",
    "    axes[n].axhline(0, color = 'r')"
   ]
  },
  {
   "cell_type": "markdown",
   "metadata": {},
   "source": [
    "## Exercise 2\n",
    "Write a function for incremental search and test it with the functions given in previous exercise."
   ]
  },
  {
   "cell_type": "code",
   "execution_count": 4,
   "metadata": {
    "collapsed": true
   },
   "outputs": [],
   "source": [
    "def incrementSearch(f, a, b, dx):\n",
    "    x0 = a\n",
    "    n = 0\n",
    "    while x0 < b:\n",
    "        n = n + 1\n",
    "        # Write your own test here\n",
    "        # if (something):\n",
    "        #    return x0, n\n",
    "        x0 = x0 + dx\n",
    "    return None, n"
   ]
  },
  {
   "cell_type": "markdown",
   "metadata": {},
   "source": [
    "Test it for $f_n(x)$"
   ]
  },
  {
   "cell_type": "code",
   "execution_count": 5,
   "metadata": {
    "collapsed": false
   },
   "outputs": [
    {
     "data": {
      "text/plain": [
       "(-0.6199999999999988, 139)"
      ]
     },
     "execution_count": 5,
     "metadata": {},
     "output_type": "execute_result"
    }
   ],
   "source": [
    "incrementSearch(f1, -2, 2, 0.01)"
   ]
  },
  {
   "cell_type": "code",
   "execution_count": 6,
   "metadata": {
    "collapsed": false
   },
   "outputs": [
    {
     "data": {
      "text/plain": [
       "(-1.4399999999999995, 57)"
      ]
     },
     "execution_count": 6,
     "metadata": {},
     "output_type": "execute_result"
    }
   ],
   "source": [
    "incrementSearch(f2, -2, 2, 0.01)"
   ]
  },
  {
   "cell_type": "code",
   "execution_count": 7,
   "metadata": {
    "collapsed": false
   },
   "outputs": [
    {
     "data": {
      "text/plain": [
       "(0.6900000000000021, 270)"
      ]
     },
     "execution_count": 7,
     "metadata": {},
     "output_type": "execute_result"
    }
   ],
   "source": [
    "incrementSearch(f3, -2, 2, 0.01)"
   ]
  },
  {
   "cell_type": "code",
   "execution_count": 8,
   "metadata": {
    "collapsed": false
   },
   "outputs": [
    {
     "data": {
      "text/plain": [
       "(-1.2599999999999993, 75)"
      ]
     },
     "execution_count": 8,
     "metadata": {},
     "output_type": "execute_result"
    }
   ],
   "source": [
    "incrementSearch(f4, -2, 2, 0.01)"
   ]
  },
  {
   "cell_type": "markdown",
   "metadata": {},
   "source": [
    "## Exercise 3\n",
    "Use `bisect()` function from `scipy.optimize` to find the roots."
   ]
  },
  {
   "cell_type": "code",
   "execution_count": 21,
   "metadata": {
    "collapsed": false
   },
   "outputs": [
    {
     "data": {
      "text/plain": [
       "(-0.6171875,       converged: True\n",
       "            flag: 'converged'\n",
       "  function_calls: 10\n",
       "      iterations: 8\n",
       "            root: -0.6171875)"
      ]
     },
     "execution_count": 21,
     "metadata": {},
     "output_type": "execute_result"
    }
   ],
   "source": [
    "# Find the first root of f1(x) between -2.0 and 0.0\n",
    "x0, r = bisect(f1, -2.0, 0.0, xtol = 0.01, full_output = True)\n",
    "x0, r"
   ]
  },
  {
   "cell_type": "code",
   "execution_count": 23,
   "metadata": {
    "collapsed": false
   },
   "outputs": [
    {
     "name": "stdout",
     "output_type": "stream",
     "text": [
      "x0, n = (-0.6171875, 8)\n"
     ]
    }
   ],
   "source": [
    "# Print only the root and the number of iterations\n",
    "print('x0, n =', (r.root, r.iterations))"
   ]
  },
  {
   "cell_type": "markdown",
   "metadata": {
    "collapsed": true
   },
   "source": [
    "## Exercise 4\n",
    "Write my own version of the bisection search method."
   ]
  },
  {
   "cell_type": "code",
   "execution_count": 24,
   "metadata": {
    "collapsed": true
   },
   "outputs": [],
   "source": [
    "def bisectSearch(f, a, b, tol, maxiter):\n",
    "    \"\"\" bisectSearc(f, a, b, tol, maxiter)\n",
    "    My version of the bisectional root searching algorithm.\n",
    "    Inputs:\n",
    "       f = the function \n",
    "       a = lower limit of the domain\n",
    "       b = upper limit of the domain\n",
    "       tol = tolerance for the root value\n",
    "       maxiter = maximum numbers of iterations\n",
    "    Outputs:\n",
    "       x0 = estimate for the root\n",
    "       n = number of iterations\n",
    "    \"\"\"\n",
    "    \n",
    "    # Returns the estimate for the root and the number of iterations\n",
    "    return x0, n"
   ]
  },
  {
   "cell_type": "code",
   "execution_count": 25,
   "metadata": {
    "collapsed": true
   },
   "outputs": [],
   "source": [
    "?bisectSearch"
   ]
  },
  {
   "cell_type": "code",
   "execution_count": null,
   "metadata": {
    "collapsed": true
   },
   "outputs": [],
   "source": []
  }
 ],
 "metadata": {
  "anaconda-cloud": {},
  "kernelspec": {
   "display_name": "Python [Root]",
   "language": "python",
   "name": "Python [Root]"
  },
  "language_info": {
   "codemirror_mode": {
    "name": "ipython",
    "version": 3
   },
   "file_extension": ".py",
   "mimetype": "text/x-python",
   "name": "python",
   "nbconvert_exporter": "python",
   "pygments_lexer": "ipython3",
   "version": "3.5.2"
  }
 },
 "nbformat": 4,
 "nbformat_minor": 0
}
