{
 "cells": [
  {
   "cell_type": "code",
   "execution_count": 8,
   "metadata": {
    "collapsed": false
   },
   "outputs": [],
   "source": [
    "from pprint import pprint\n",
    "from numpy import *\n",
    "from scipy.linalg import lu, solve\n",
    "from numpy.linalg import inv, det"
   ]
  },
  {
   "cell_type": "code",
   "execution_count": null,
   "metadata": {
    "collapsed": true
   },
   "outputs": [],
   "source": []
  },
  {
   "cell_type": "markdown",
   "metadata": {},
   "source": [
    "### Exercise 1"
   ]
  },
  {
   "cell_type": "code",
   "execution_count": 8,
   "metadata": {
    "collapsed": false
   },
   "outputs": [
    {
     "name": "stdout",
     "output_type": "stream",
     "text": [
      "array([[  1.,   2.,   4.],\n",
      "       [  1.,   5.,  25.],\n",
      "       [  1.,   7.,  39.]])\n"
     ]
    }
   ],
   "source": [
    "L = array([[1, 0, 0], [1, 1, 0], [1, 5/3, 1]])\n",
    "U = array([[1, 2, 4], [0, 3, 21], [0, 0 , 0]])\n",
    "A = dot(L, U)\n",
    "pprint(A)"
   ]
  },
  {
   "cell_type": "markdown",
   "metadata": {},
   "source": [
    "### Exercise 2"
   ]
  },
  {
   "cell_type": "code",
   "execution_count": 15,
   "metadata": {
    "collapsed": false
   },
   "outputs": [
    {
     "name": "stdout",
     "output_type": "stream",
     "text": [
      "array([ 1.84375,  0.40625,  1.46875])\n"
     ]
    }
   ],
   "source": [
    "L = array([[1, 0, 0], [3/2, 1, 0], [1/2, 11/13, 1]])\n",
    "U = array([[2, -3, -1], [0, 13/2, -7/2], [0, 0, 32/13]])\n",
    "b = array([1, -1, 2])\n",
    "\n",
    "y = solve(L, b)\n",
    "x = solve(U, y)\n",
    "pprint(x)"
   ]
  },
  {
   "cell_type": "code",
   "execution_count": 7,
   "metadata": {
    "collapsed": false
   },
   "outputs": [
    {
     "name": "stdout",
     "output_type": "stream",
     "text": [
      "array([[ 1,  4,  1],\n",
      "       [ 1,  2, -2],\n",
      "       [ 2, -4, -9]])\n"
     ]
    },
    {
     "data": {
      "text/plain": [
       "array([ 0,  2, -1])"
      ]
     },
     "execution_count": 7,
     "metadata": {},
     "output_type": "execute_result"
    }
   ],
   "source": [
    "# L = array([[1, 0, 0], [1, 1, 0], [1, 5/3, 1]])\n",
    "# U = array([[1, 2, 4], [0, 3, 21], [0, 0 , 0]])\n",
    "# A = dot(L, U)\n",
    "\n",
    "def LUdecomp(a):\n",
    "    n = len(a)\n",
    "    for k in range(0, n-1):\n",
    "        for i in range(k+1, n):\n",
    "            if a[i, k] != 0.0:\n",
    "                lam = a[i, k] / a[k, k]\n",
    "#                 a[i] -= lam * a[k]\n",
    "                a[i, k+1:n] = a[i, k+1:n] - lam*a[k, k+1:n]\n",
    "                a[i, k] = lam\n",
    "    return a\n",
    "\n",
    "\n",
    "def LUsolve(a, b):\n",
    "    n = len(a)\n",
    "    for k in range(1, n):\n",
    "        b[k] = b[k] - dot(a[k, 0:k], b[0:k])\n",
    "#     b[n-1] /= a[n-1, n-1]\n",
    "    for k in range(n-1, -1, -1):\n",
    "        b[k] = (b[k] - dot(a[k, k+1:n], b[k+1:n])) / a[k, k]\n",
    "    return b\n",
    "\n",
    "A = array([[1, 4, 1], [1, 6, -1], [2, -1, 2]])\n",
    "b = array([7, 13, 5])\n",
    "\n",
    "pprint(LUdecomp(A))\n",
    "LUsolve(A, b)"
   ]
  },
  {
   "cell_type": "code",
   "execution_count": 53,
   "metadata": {
    "collapsed": false
   },
   "outputs": [
    {
     "data": {
      "text/plain": [
       "array([ 5.,  1., -2.])"
      ]
     },
     "execution_count": 53,
     "metadata": {},
     "output_type": "execute_result"
    }
   ],
   "source": [
    "A = array([[1, 4, 1], [1, 6, -1], [2, -1, 2]])\n",
    "b = array([7, 13, 5])\n",
    "gaussian(A, b)"
   ]
  },
  {
   "cell_type": "code",
   "execution_count": 54,
   "metadata": {
    "collapsed": false
   },
   "outputs": [
    {
     "data": {
      "text/plain": [
       "array([ 5.,  1., -2.])"
      ]
     },
     "execution_count": 54,
     "metadata": {},
     "output_type": "execute_result"
    }
   ],
   "source": [
    "A = array([[1, 4, 1], [1, 6, -1], [2, -1, 2]])\n",
    "b = array([7, 13, 5])\n",
    "solve(A, b)"
   ]
  },
  {
   "cell_type": "code",
   "execution_count": 45,
   "metadata": {
    "collapsed": false
   },
   "outputs": [
    {
     "name": "stdout",
     "output_type": "stream",
     "text": [
      "array([[ 7,  3, -1,  2],\n",
      "       [ 3,  8,  1, -4],\n",
      "       [-1,  1,  4, -1],\n",
      "       [ 2, -4, -1,  6]])\n"
     ]
    },
    {
     "data": {
      "text/plain": [
       "array([0, 1, 1, 2])"
      ]
     },
     "execution_count": 45,
     "metadata": {},
     "output_type": "execute_result"
    }
   ],
   "source": [
    "A = array([7, 3, -1, 2, 3, 8, 1, -4, -1, 1, 4, -1, 2, -4, -1, 6]).reshape(4, 4)\n",
    "pprint(A)\n",
    "b = array([1, 2, 3, 4])\n",
    "LUdecomp(A)\n",
    "LUsolve(A, b)"
   ]
  },
  {
   "cell_type": "code",
   "execution_count": null,
   "metadata": {
    "collapsed": true
   },
   "outputs": [],
   "source": []
  },
  {
   "cell_type": "code",
   "execution_count": 101,
   "metadata": {
    "collapsed": false
   },
   "outputs": [
    {
     "name": "stdout",
     "output_type": "stream",
     "text": [
      "array([[ 7.,  3., -1.,  2.],\n",
      "       [ 3.,  8.,  1., -4.],\n",
      "       [-1.,  1.,  4., -1.],\n",
      "       [ 2., -4., -1.,  6.]])\n"
     ]
    },
    {
     "data": {
      "text/plain": [
       "array([-1.15331939,  1.70089326,  0.59927197,  2.28491397])"
      ]
     },
     "execution_count": 101,
     "metadata": {},
     "output_type": "execute_result"
    }
   ],
   "source": [
    "# Helper function, switch 2 rows of a matrix\n",
    "def pivot(A, row1, row2):\n",
    "    temp = A[row2].copy()\n",
    "    A[row2] = A[row1]\n",
    "    A[row1] = temp\n",
    "    return A\n",
    "\n",
    "# implement Gaussian elimination method\n",
    "def gaussian(A, b):\n",
    "    RowsA, ColsA = shape(A)\n",
    "    Rowsb = shape(b)[0]\n",
    "    x = zeros(Rowsb)\n",
    "            \n",
    "    # elimination\n",
    "    for i in range(RowsA-1):\n",
    "        # partial pivot\n",
    "        r = argmax(abs(A[i:, i])) + i\n",
    "        if r != i:\n",
    "            # pivot\n",
    "            A = pivot(A, i, r)\n",
    "            b = pivot(b, i, r)\n",
    "        for j in range(i+1, RowsA):\n",
    "            if (A[j,i] != 0):\n",
    "                factor = A[i,i] / A[j,i]\n",
    "                A[j] = factor * A[j] - A[i]\n",
    "                b[j] = factor * b[j] - b[i]\n",
    "            \n",
    "    # back substitution\n",
    "    for i in range(Rowsb-1, -1, -1):\n",
    "        x[i] = (b[i] - dot(A[i, i+1:], x[i+1:])) / A[i,i]\n",
    "    return x \n",
    "\n",
    "A = array([7.0, 3, -1, 2, 3, 8, 1, -4, -1, 1, 4, -1, 2, -4, -1, 6]).reshape(4, 4)\n",
    "pprint(A)\n",
    "b = array([1, 2, 3, 4])\n",
    "gaussian(A,b)"
   ]
  },
  {
   "cell_type": "code",
   "execution_count": null,
   "metadata": {
    "collapsed": true
   },
   "outputs": [],
   "source": []
  },
  {
   "cell_type": "code",
   "execution_count": 102,
   "metadata": {
    "collapsed": false
   },
   "outputs": [
    {
     "data": {
      "text/plain": [
       "array([-1.27619048,  1.87619048,  0.57142857,  2.43809524])"
      ]
     },
     "execution_count": 102,
     "metadata": {},
     "output_type": "execute_result"
    }
   ],
   "source": [
    "A = array([7.0, 3, -1, 2, 3, 8, 1, -4, -1, 1, 4, -1, 2, -4, -1, 6]).reshape(4, 4)\n",
    "b = array([1, 2, 3, 4])\n",
    "solve(A, b)"
   ]
  },
  {
   "cell_type": "code",
   "execution_count": 56,
   "metadata": {
    "collapsed": false
   },
   "outputs": [
    {
     "data": {
      "text/plain": [
       "array([-1.38757116,  2.04411765,  0.56451613,  2.57258065])"
      ]
     },
     "execution_count": 56,
     "metadata": {},
     "output_type": "execute_result"
    }
   ],
   "source": [
    "A = array([7, 3, -1, 2, 3, 8, 1, -4, -1, 1, 4, -1, 2, -4, -1, 6]).reshape(4, 4)\n",
    "b = array([1, 2, 3, 4])\n",
    "gaussian(A, b)"
   ]
  },
  {
   "cell_type": "code",
   "execution_count": 30,
   "metadata": {
    "collapsed": false
   },
   "outputs": [
    {
     "data": {
      "text/plain": [
       "array([ 5.,  1., -2.])"
      ]
     },
     "execution_count": 30,
     "metadata": {},
     "output_type": "execute_result"
    }
   ],
   "source": [
    "A = array([[1, 4, 1], [1, 6, -1], [2, -1, 2]])\n",
    "b = array([7, 13, 5])\n",
    "solve(A, b)"
   ]
  },
  {
   "cell_type": "code",
   "execution_count": 31,
   "metadata": {
    "collapsed": false
   },
   "outputs": [
    {
     "data": {
      "text/plain": [
       "3"
      ]
     },
     "execution_count": 31,
     "metadata": {},
     "output_type": "execute_result"
    }
   ],
   "source": [
    "A = array([[1, 4, 1], [1, 6, -1], [2, -1, 2]])\n",
    "len(A)"
   ]
  },
  {
   "cell_type": "code",
   "execution_count": null,
   "metadata": {
    "collapsed": true
   },
   "outputs": [],
   "source": []
  },
  {
   "cell_type": "markdown",
   "metadata": {},
   "source": [
    "### Exercise 4"
   ]
  },
  {
   "cell_type": "code",
   "execution_count": 34,
   "metadata": {
    "collapsed": false
   },
   "outputs": [
    {
     "name": "stdout",
     "output_type": "stream",
     "text": [
      "array([[ 7,  3, -1,  2],\n",
      "       [ 3,  8,  1, -4],\n",
      "       [-1,  1,  4, -1],\n",
      "       [ 2, -4, -1,  6]])\n"
     ]
    },
    {
     "data": {
      "text/plain": [
       "array([[ 0.14285714, -0.07142857,  0.10714286, -0.28571429],\n",
       "       [ 0.        ,  0.16666667, -0.08333333,  0.33333333],\n",
       "       [ 0.        ,  0.        ,  0.5       ,  0.        ],\n",
       "       [ 0.        ,  0.        ,  0.        ,  0.5       ]])"
      ]
     },
     "execution_count": 34,
     "metadata": {},
     "output_type": "execute_result"
    }
   ],
   "source": [
    "def matInv(a):\n",
    "    n = len(a[0])\n",
    "    aInv = identity(n)\n",
    "    a = LUdecomp(a)\n",
    "    for i in range(n):\n",
    "        aInv[:, i] = LUsolve(a, aInv[:, i])\n",
    "    return aInv\n",
    "A = array([7, 3, -1, 2, 3, 8, 1, -4, -1, 1, 4, -1, 2, -4, -1, 6]).reshape(4, 4)\n",
    "pprint(A)\n",
    "matInv(A)"
   ]
  },
  {
   "cell_type": "code",
   "execution_count": 86,
   "metadata": {
    "collapsed": false
   },
   "outputs": [
    {
     "name": "stdout",
     "output_type": "stream",
     "text": [
      "array([[ -7.42166231e+14,  -7.42166231e+14,  -7.42166231e+14,\n",
      "         -1.48433246e+15,   1.48433246e+15],\n",
      "       [ -3.52528960e+15,  -3.52528960e+15,  -3.52528960e+15,\n",
      "         -7.05057919e+15,   7.05057919e+15],\n",
      "       [ -5.90359502e+14,  -5.90359502e+14,  -5.90359502e+14,\n",
      "         -1.18071900e+15,   1.18071900e+15],\n",
      "       [ -3.33333330e-01,  -3.33333330e-01,   6.66666670e-01,\n",
      "          3.33333330e-01,  -3.33333330e-01],\n",
      "       [  1.50119988e+15,   1.50119988e+15,   1.50119988e+15,\n",
      "          3.00239975e+15,  -3.00239975e+15]])\n"
     ]
    }
   ],
   "source": [
    "\n",
    "def inverse(A):\n",
    "    n = len(A)\n",
    "    B = identity(n)\n",
    "    return solve(A, B)\n",
    "# Ex6\n",
    "B = array([1, 3, -9, 6, 4, 2, -1, 6, 7, 1, 3, 2, -3, 15, 5, 8, -1, 1, 4, 2, 11, 1, -2, 18, 7]).reshape(5,5)\n",
    "pprint(around(inverse(B), 8))\n",
    "\n"
   ]
  },
  {
   "cell_type": "code",
   "execution_count": 68,
   "metadata": {
    "collapsed": false
   },
   "outputs": [
    {
     "name": "stdout",
     "output_type": "stream",
     "text": [
      "[[  1.12500000e+00   1.00000000e+00  -8.75000000e-01  -2.50000000e-01]\n",
      " [  8.12500000e-01   1.00000000e+00  -6.87500000e-01  -1.25000000e-01]\n",
      " [  2.18750000e+00   2.00000000e+00  -2.31250000e+00  -8.75000000e-01]\n",
      " [ -7.50000000e-01  -5.55111512e-16   1.25000000e+00   5.00000000e-01]]\n",
      "0.0020017623901367188\n"
     ]
    }
   ],
   "source": [
    "\n",
    "A = array([5, -3, -1, 0, -2, 1, 1, 1, 3, -5, 1, 2, 0, 8, -4, -3]).reshape(4, 4)\n",
    "print(inv(A))\n",
    "end = time.time()\n"
   ]
  },
  {
   "cell_type": "code",
   "execution_count": 51,
   "metadata": {
    "collapsed": false
   },
   "outputs": [
    {
     "data": {
      "text/plain": [
       "array([[ 1.125 ,  1.    , -0.875 , -0.25  ],\n",
       "       [ 0.8125,  1.    , -0.6875, -0.125 ],\n",
       "       [ 2.1875,  2.    , -2.3125, -0.875 ],\n",
       "       [-0.75  , -0.    ,  1.25  ,  0.5   ]])"
      ]
     },
     "execution_count": 51,
     "metadata": {},
     "output_type": "execute_result"
    }
   ],
   "source": [
    "A = array([5, -3, -1, 0, -2, 1, 1, 1, 3, -5, 1, 2, 0, 8, -4, -3]).reshape(4, 4)\n",
    "around(inv(A),8)"
   ]
  },
  {
   "cell_type": "code",
   "execution_count": 76,
   "metadata": {
    "collapsed": false
   },
   "outputs": [
    {
     "name": "stdout",
     "output_type": "stream",
     "text": [
      "[[5 9 6 9]]\n"
     ]
    }
   ],
   "source": [
    "from numpy.random import randint\n",
    "A = randint(0, 10, 16).reshape(4, 4)\n",
    "B = randint(0, 10, 4).reshape(1,4)\n",
    "print(B)"
   ]
  },
  {
   "cell_type": "code",
   "execution_count": 82,
   "metadata": {
    "collapsed": false
   },
   "outputs": [
    {
     "name": "stdout",
     "output_type": "stream",
     "text": [
      "array([0, 0, 1, 1])\n",
      "array([ 1, -3,  1,  1])\n"
     ]
    }
   ],
   "source": [
    "def gaussElimin(a, b):\n",
    "    n = len(b)\n",
    "    for k in range(0, n-1):\n",
    "        for i in range(k+1, n):\n",
    "            if a[i, k] != 0.0:\n",
    "                lam = a[i, k] / a[k, k]\n",
    "                a[i, k+1:n] = a[i, k+1:n] - lam*a[k, k+1:n]\n",
    "                b[i] = b[i] - lam*b[k]\n",
    "    for k in range(n-1, -1, -1):\n",
    "        b[k] = (b[k] - dot(a[k, k+1:n], b[k+1:n]))/a[k, k]\n",
    "    return b\n",
    "A = array([7, 3, -1, 2, 3, 8, 1, -4, -1, 1, 4, -1, 2, -4, -1, 6]).reshape(4, 4)\n",
    "b = array([1, 2, 3, 4])\n",
    "x = gaussElimin(A,b)\n",
    "pprint(x)\n",
    "pprint(dot(A, x) - b)"
   ]
  },
  {
   "cell_type": "code",
   "execution_count": 83,
   "metadata": {
    "collapsed": false
   },
   "outputs": [
    {
     "data": {
      "text/plain": [
       "array([-1.27619048,  1.87619048,  0.57142857,  2.43809524])"
      ]
     },
     "execution_count": 83,
     "metadata": {},
     "output_type": "execute_result"
    }
   ],
   "source": [
    "A = array([7, 3, -1, 2, 3, 8, 1, -4, -1, 1, 4, -1, 2, -4, -1, 6]).reshape(4, 4)\n",
    "b = array([1, 2, 3, 4])\n",
    "solve(A, b)"
   ]
  },
  {
   "cell_type": "code",
   "execution_count": 107,
   "metadata": {
    "collapsed": false
   },
   "outputs": [
    {
     "name": "stdout",
     "output_type": "stream",
     "text": [
      "array([[ 1.125 ,  1.    , -0.875 , -0.25  ],\n",
      "       [ 0.8125,  1.    , -0.6875, -0.125 ],\n",
      "       [ 2.1875,  2.    , -2.3125, -0.875 ],\n",
      "       [-0.75  , -0.    ,  1.25  ,  0.5   ]])\n",
      "array([[ 1.,  0.,  0., -0.],\n",
      "       [ 0.,  1.,  0.,  0.],\n",
      "       [-0.,  0.,  1.,  0.],\n",
      "       [ 0., -0.,  0.,  1.]])\n",
      "array([[ 1.,  0.,  0.,  0.],\n",
      "       [ 0.,  1.,  0.,  0.],\n",
      "       [ 0., -0.,  1.,  0.],\n",
      "       [-0.,  0.,  0.,  1.]])\n",
      "15.999999999999984\n",
      "array([[  4.,   1.,  -2.,   4.,   4.],\n",
      "       [  0.,  -1.,   4., -48.,  -8.],\n",
      "       [  0.,   0.,   1.,   0.,  -1.],\n",
      "       [  0.,   0.,  -0.,   1.,   0.],\n",
      "       [  0.,   0.,   0.,   8.,   0.]])\n",
      "0.0\n"
     ]
    }
   ],
   "source": [
    "### Ex6\n",
    "A = array([5, -3, -1, 0, -2, 1, 1, 1, 3, -5, 1, 2, 0, 8, -4, -3]).reshape(4, 4)\n",
    "pprint(around(inv(A),8))\n",
    "pprint(around(dot(A, inv(A))))\n",
    "pprint(around(dot(inv(A), A)))\n",
    "pprint(det(A))\n",
    "B = array([1, 3, -9, 6, 4, 2, -1, 6, 7, 1, 3, 2, -3, 15, 5, 8, -1, 1, 4, 2, 11, 1, -2, 18, 7]).reshape(5,5)\n",
    "pprint(around(dot(inv(B), B)))\n",
    "pprint(around(det(B),10))"
   ]
  },
  {
   "cell_type": "markdown",
   "metadata": {},
   "source": [
    "excuse me, for exercise 6, matrix B, I use the inv function import from linalg, but dot(B, inv(B)) does not return an identity matrix. What is the problem here? "
   ]
  },
  {
   "cell_type": "code",
   "execution_count": 9,
   "metadata": {
    "collapsed": false
   },
   "outputs": [
    {
     "ename": "NameError",
     "evalue": "name 'B' is not defined",
     "output_type": "error",
     "traceback": [
      "\u001b[1;31m---------------------------------------------------------------------------\u001b[0m",
      "\u001b[1;31mNameError\u001b[0m                                 Traceback (most recent call last)",
      "\u001b[1;32m<ipython-input-9-050cfd44aad7>\u001b[0m in \u001b[0;36m<module>\u001b[1;34m()\u001b[0m\n\u001b[1;32m----> 1\u001b[1;33m \u001b[0mpprint\u001b[0m\u001b[1;33m(\u001b[0m\u001b[0mdot\u001b[0m\u001b[1;33m(\u001b[0m\u001b[0mB\u001b[0m\u001b[1;33m,\u001b[0m \u001b[0minv\u001b[0m\u001b[1;33m(\u001b[0m\u001b[0mB\u001b[0m\u001b[1;33m)\u001b[0m\u001b[1;33m)\u001b[0m\u001b[1;33m)\u001b[0m\u001b[1;33m\u001b[0m\u001b[0m\n\u001b[0m",
      "\u001b[1;31mNameError\u001b[0m: name 'B' is not defined"
     ]
    }
   ],
   "source": [
    "pprint(dot(B, inv(B)))"
   ]
  },
  {
   "cell_type": "code",
   "execution_count": null,
   "metadata": {
    "collapsed": true
   },
   "outputs": [],
   "source": [
    "import numpy as np\n",
    "import math\n",
    "A = array([4, -1, 0, 0, -1, 4, -1, 0, 0, -1, 4, -1, 0, 0, -1, 3]).reshape(4, 4)\n",
    "b = array([15, 10, 10, 10])\n",
    "n = len(b)\n",
    "x0 = zeros(n)\n",
    "for i in range(len(x0)):\n",
    "    x0[i] = b[i] / A[i, i]\n",
    "    \n",
    "def iterEqs(A, b, x, omega):\n",
    "    for i in range(n):\n",
    "        s = 0\n",
    "        for j in range(n):\n",
    "            if j != i:\n",
    "                s += A[i, j] * x[j]\n",
    "        x[i] = omega/A[i, i] * (b[i] - s) + (1 - omega)/x[i]\n",
    "    return x\n",
    "\n",
    "\n",
    "def gaussSeidel(A, b, x,tol = 1.0e-9):\n",
    "    omega = 1.1\n",
    "    k = 10\n",
    "    p = 1\n",
    "    for i in range(1,501):\n",
    "        xOld = x.copy()\n",
    "        x = iterEqs(A, b, x,omega)\n",
    "        dx = math.sqrt(np.dot(x-xOld,x-xOld))\n",
    "        if dx < tol: return x,i,omega\n",
    "      # Compute relaxation factor after k+p iterations\n",
    "        if i == k: dx1 = dx\n",
    "        if i == k + p:\n",
    "            dx2 = dx\n",
    "            omega = 2.0/(1.0 + math.sqrt(1.0  \\\n",
    "                  - (dx2/dx1)**(1.0/p)))\n",
    "    print('Gauss-Seidel failed to converge')\n",
    "gaussSeidel(A, b, x0)"
   ]
  }
 ],
 "metadata": {
  "anaconda-cloud": {},
  "kernelspec": {
   "display_name": "Python [Root]",
   "language": "python",
   "name": "Python [Root]"
  },
  "language_info": {
   "codemirror_mode": {
    "name": "ipython",
    "version": 3
   },
   "file_extension": ".py",
   "mimetype": "text/x-python",
   "name": "python",
   "nbconvert_exporter": "python",
   "pygments_lexer": "ipython3",
   "version": "3.5.2"
  }
 },
 "nbformat": 4,
 "nbformat_minor": 0
}
