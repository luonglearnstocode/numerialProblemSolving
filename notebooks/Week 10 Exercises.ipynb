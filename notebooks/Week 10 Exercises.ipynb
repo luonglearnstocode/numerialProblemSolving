{
 "cells": [
  {
   "cell_type": "markdown",
   "metadata": {},
   "source": [
    "# Week 10 Root finding\n",
    "Introduction to Numerical Problem Solving, Spring 2017   \n",
    "Luong Nguyen, 5.4.2017  \n",
    "Helsinki Metropolia University of Applied Sciences"
   ]
  },
  {
   "cell_type": "code",
   "execution_count": 168,
   "metadata": {
    "collapsed": false
   },
   "outputs": [
    {
     "name": "stdout",
     "output_type": "stream",
     "text": [
      "Populating the interactive namespace from numpy and matplotlib\n"
     ]
    },
    {
     "name": "stderr",
     "output_type": "stream",
     "text": [
      "WARNING: pylab import has clobbered these variables: ['f', 'axes', 'title']\n",
      "`%matplotlib` prevents importing * from pylab and numpy\n"
     ]
    }
   ],
   "source": [
    "# Initial import statements\n",
    "%pylab inline\n",
    "from numpy.polynomial.polynomial import polyroots\n",
    "from scipy.optimize import fsolve"
   ]
  },
  {
   "cell_type": "markdown",
   "metadata": {},
   "source": [
    "___\n",
    "## From Exercise 9"
   ]
  },
  {
   "cell_type": "markdown",
   "metadata": {},
   "source": [
    "#### Functions from exercise 1 and their graphical presentations."
   ]
  },
  {
   "cell_type": "code",
   "execution_count": 169,
   "metadata": {
    "collapsed": false
   },
   "outputs": [
    {
     "data": {
      "image/png": "[encoded data removed]",
      "text/plain": [
       "<matplotlib.figure.Figure at 0x1a06f571ba8>"
      ]
     },
     "metadata": {},
     "output_type": "display_data"
    }
   ],
   "source": [
    "f1 = lambda x: x**2 - x - 1\n",
    "f2 = lambda x: x**3 - 3 * sin(x)\n",
    "f3 = lambda x: exp(x) - 2\n",
    "f4 = lambda x: 1 - x**2 + sin(50 / (1 + x**2))\n",
    "\n",
    "x = linspace(-2, 2, 1000)\n",
    "fig, axes = subplots(1, 4, figsize=(12, 3), sharey=True)\n",
    "\n",
    "for n, f in enumerate([f1, f2, f3, f4]):\n",
    "    axes[n].plot(x, f(x), lw=1.5)\n",
    "    axes[n].axhline(0, color='r')\n",
    "    axes[n].grid()\n",
    "    axes[n].set_ylim(-5, 5)\n",
    "    axes[n].set_xticks([-2, -1, 0, 1, 2])\n",
    "    axes[n].set_xlabel(r'$x$', fontsize=18)\n",
    "axes[0].set_ylabel(r'$f(x)$', fontsize=18)\n",
    "titles = [r'$f(x)=x^2-x-1$', r'$f(x)=x^3-3\\sin(x)$', r'$f(x)=e^x-2$', r'$f(x)=\\sin\\left(50/(1+x^2)\\right)+1-x^2$']\n",
    "for n, title in enumerate(titles):\n",
    "    axes[n].set_title(title)"
   ]
  },
  {
   "cell_type": "markdown",
   "metadata": {
    "collapsed": true
   },
   "source": [
    "## Exercise 6\n",
    "Write your own code that implements the Newton-Raphson method.\n",
    "The function should return the estimate for the root, $x_0$, and the number of iterations. The code should estimate the derivative of the function numerically $f ′(x) = (f(x + h) − f(x))/h$, where h is a small number.\n",
    "Test that function with the examples given in problem 1 and compare the results to previous results."
   ]
  },
  {
   "cell_type": "markdown",
   "metadata": {},
   "source": [
    "## Solution\n",
    "First we need to define a function that estimate the derivative of function numercially $f ′(x) = (f(x + h) − f(x))\\ / \\ h$, where h is a small number with default value $10^{-8}$.  \n",
    "Then we implement the Newton-Raphson algorithm that by each iteration a new estimate of $x_0$ is calculated based on the current values of $x_0, f(x_0), f'(x_0)$. We return the value of the root when $f(x_0)$ falls within the tolerance criteria.  "
   ]
  },
  {
   "cell_type": "code",
   "execution_count": 170,
   "metadata": {
    "collapsed": true
   },
   "outputs": [],
   "source": [
    "def derivative(f, x, h = 1e-8):\n",
    "    \"\"\" \n",
    "    Inputs:\n",
    "       f = the function \n",
    "       x = point to estimate the derivative on\n",
    "       h = small number, default value 1e-8\n",
    "    Outputs:\n",
    "       df = estimate of the derivative of f at point x\n",
    "    \"\"\"\n",
    "    df = (f(x + h) - f(x)) / h\n",
    "    return df\n",
    "\n",
    "def newtonSearch(f, x0, tol = 0.01, maxiter = 200):\n",
    "    \"\"\" \n",
    "    Inputs:\n",
    "       f = the function \n",
    "       x0 = initial estimate of a root\n",
    "       tol = tolerance for the root value\n",
    "       maxiter = maximum numbers of iterations\n",
    "    Outputs:\n",
    "       x0 = estimate for the root\n",
    "       n = number of iterations\n",
    "    \"\"\"\n",
    "    n = 0\n",
    "    while(abs(f(x0)) > tol and n < maxiter):\n",
    "        x0 = x0 - f(x0) / derivative(f, x0)\n",
    "        n += 1\n",
    "    return x0, n \n"
   ]
  },
  {
   "cell_type": "code",
   "execution_count": 171,
   "metadata": {
    "collapsed": false
   },
   "outputs": [
    {
     "name": "stdout",
     "output_type": "stream",
     "text": [
      "Root found by newtonSearch:\n",
      "\tFunction f1:\n",
      "\t\tRoot x0 = -0.6190\n",
      "\t\tNumber of steps n = 3\n",
      "\tFunction f2:\n",
      "\t\tRoot x0 = -1.4384\n",
      "\t\tNumber of steps n = 3\n",
      "\tFunction f3:\n",
      "\t\tRoot x0 = 0.6932\n",
      "\t\tNumber of steps n = 4\n",
      "\tFunction f4:\n",
      "\t\tRoot x0 = -1.2524\n",
      "\t\tNumber of steps n = 1\n"
     ]
    }
   ],
   "source": [
    "# array of initial guess x0 of each function\n",
    "fs = [f1, f2, f3, f4]\n",
    "x0_s = [-2, -2, 2, -1.3]\n",
    "i = 0\n",
    "print(\"Root found by newtonSearch:\")\n",
    "for f in fs:\n",
    "    i += 1\n",
    "    x0, n = newtonSearch(f, x0_s[i - 1])\n",
    "    print(\"\\tFunction f{}:\".format(i))\n",
    "    print(\"\\t\\tRoot x0 = {0:.4f}\".format(x0))\n",
    "    print(\"\\t\\tNumber of steps n = {}\".format(n))"
   ]
  },
  {
   "cell_type": "markdown",
   "metadata": {
    "collapsed": true
   },
   "source": [
    "We could see that the roots found by our `newtonSearch` are similar to the results of previous exercises. We could also notice the number of iterations of `newtonSearch` is less than other methods, however it may depend on our initial guess of $x_0$."
   ]
  },
  {
   "cell_type": "markdown",
   "metadata": {
    "collapsed": true
   },
   "source": [
    "___\n",
    "## From Exercises 10 "
   ]
  },
  {
   "cell_type": "markdown",
   "metadata": {},
   "source": [
    "## Exercise 1\n",
    "Determine the real root of $f(x) = -26 + 85x - 91x^2 + 44x^3 - 8x^4 + x^5$  \n",
    "(a) Graphically  \n",
    "(b) Using simple fixed-point iteration  \n",
    "(c) Using Newton-Raphson method  \n",
    "(d) Finding the roots of the polynomial  "
   ]
  },
  {
   "cell_type": "markdown",
   "metadata": {},
   "source": [
    "## Solution\n",
    "(a) First we plot the function and by using zooming method with `xlim()` and `ylim()` that we have been practicing since week 3, we could easily locate the root graphically at $x_0 = 0.557$.  \n",
    "(b) First we need to rearrange the function $f(x) = 0$ so that x is on the left-hand side.  \n",
    "\n",
    "\\begin{align}\n",
    "    f(x) &= 0 \\\\\n",
    "    -26 + 85x - 91x^2 + 44x^3 - 8x^4 + x^5 &= 0 \\\\\n",
    "    85x &= 26 + 91x^2 - 44x^3 + 8x^4 - x^5 \\\\\n",
    "    x &= \\frac{26 + 91x^2 - 44x^3 + 8x^4 - x^5}{85} \n",
    "\\end{align}\n",
    "\n",
    "From an initial guess $x_0$, we keep calculating new value of $x_{0 new} = g(x_0)$ until the difference between $x_0$ and $x_{0new}$ falls within the tolerance value.  \n",
    "(c) We already have the `newtonSearch` function from the previous exercise that we could use to find the root of $f(x)$.  \n",
    "(d) To use `numpy.polynomial.polynomial.polyroots`, we generate an array of coefficients of function $f(x)$. `polyroot` returns an array of roots that contains both real and complex roots. We filter and print out the real root.  \n",
    "The results we got from 4 above methods are all similar $x_0 = 0.557$."
   ]
  },
  {
   "cell_type": "code",
   "execution_count": 172,
   "metadata": {
    "collapsed": false
   },
   "outputs": [
    {
     "data": {
      "image/png": "[encoded data removed]",
      "text/plain": [
       "<matplotlib.figure.Figure at 0x1a071f5b128>"
      ]
     },
     "metadata": {},
     "output_type": "display_data"
    }
   ],
   "source": [
    "f = lambda x: -26 + 85*x - 91 * x**2 + 44 * x**3 - 8 * x**4 + x**5\n",
    "\n",
    "# a - solve graphically\n",
    "x = linspace(-10, 10, 1000)\n",
    "xlim(0.55, 0.56)\n",
    "ylim(-2, 2)\n",
    "plot(x, f(x), lw = 1.5)\n",
    "plot(0.557, 0, 'ro')\n",
    "grid()\n",
    "axhline(0, color='r')\n",
    "show()"
   ]
  },
  {
   "cell_type": "code",
   "execution_count": 173,
   "metadata": {
    "collapsed": false
   },
   "outputs": [
    {
     "name": "stdout",
     "output_type": "stream",
     "text": [
      "Root found by fixedPoint:\n",
      "\tRoot x0 = 0.5570\n",
      "\tNumber of steps n = 56\n"
     ]
    }
   ],
   "source": [
    "# b - using simple fixed-point iteration\n",
    "g = lambda x: (26 + 91 * x**2 - 44 * x**3 + 8 * x**4 - x**5) / 85.0\n",
    "\n",
    "def fixedPoint(g, x0, tol, maxiter=100):\n",
    "    \"\"\"\n",
    "    simple fixed-point iteration algorithm\n",
    "    \"\"\"\n",
    "    e = 1\n",
    "    n = 0\n",
    "    while (e > tol and n < maxiter):\n",
    "        x = g(x0)\n",
    "        e = abs(x - x0) # calculate error\n",
    "        x0 = x\n",
    "        n += 1\n",
    "    return x0, n\n",
    "\n",
    "x0, n = fixedPoint(g, 2, tol = 1e-6)\n",
    "print(\"Root found by fixedPoint:\")\n",
    "print(\"\\tRoot x0 = {0:.4f}\".format(x0))\n",
    "print(\"\\tNumber of steps n = {}\".format(n))\n"
   ]
  },
  {
   "cell_type": "code",
   "execution_count": 174,
   "metadata": {
    "collapsed": false
   },
   "outputs": [
    {
     "name": "stdout",
     "output_type": "stream",
     "text": [
      "Root found by newtonSearch:\n",
      "\tRoot x0 = 0.5570\n",
      "\tNumber of steps n = 4\n"
     ]
    }
   ],
   "source": [
    "# c - using Newton-Raphson method\n",
    "x0, n = newtonSearch(f, 1)\n",
    "print(\"Root found by newtonSearch:\")\n",
    "print(\"\\tRoot x0 = {0:.4f}\".format(x0))\n",
    "print(\"\\tNumber of steps n = {}\".format(n))"
   ]
  },
  {
   "cell_type": "code",
   "execution_count": 175,
   "metadata": {
    "collapsed": false
   },
   "outputs": [
    {
     "name": "stdout",
     "output_type": "stream",
     "text": [
      "Polyroot result:  [ 0.55702552+0.j          1.13077604-0.70121119j  1.13077604+0.70121119j\n",
      "  2.59071120-4.43326974j  2.59071120+4.43326974j]\n",
      "Real root x0 = 0.5570\n"
     ]
    }
   ],
   "source": [
    "# d - using numpy.polynomial.polynomial.polyroots\n",
    "r = polyroots([-26., 85, -91, 44, -8, 1])\n",
    "print('Polyroot result: ', r)\n",
    "print('Real root x0 = {0:.4f}'.format(real(r)[0]))"
   ]
  },
  {
   "cell_type": "markdown",
   "metadata": {},
   "source": [
    "___\n",
    "\n",
    "## Exercise 7\n",
    "Study the following simultaneous nonlinear equations:  \n",
    "\\begin{align}\n",
    "    y = -x^2 + x + 0.75 \\tag{1}\\\\\n",
    "    y + 5xy = x^2 \\tag{2}\n",
    "\\end{align}\n",
    "\n",
    "(a) First manipulate the equations so that you can can draw them in x-y coordinates and graphically find where the roots approximately locate.  \n",
    "(b) Then find the roots using the fixed-point iteration and good initial guesses.  \n",
    "(c) Lastly find the roots using `fsolve` or `root` function.  "
   ]
  },
  {
   "cell_type": "markdown",
   "metadata": {},
   "source": [
    "## Solution\n",
    "(a) The equation (1) is already in the form $y = f(x)$, but the equation (2) need to be manipulated to get into that form.\n",
    "\\begin{align}\n",
    "    y + 5xy &= x^2 \\tag{2}\\\\\n",
    "    y(1 + 5x) &= x^2 \\\\\n",
    "    y &= \\frac{x^2}{1+5x}\n",
    "\\end{align}\n",
    "\n",
    "Now we have 2 function $y_1$ and $y_2$ to plot in x-y coordinates and the intersection of 2 functions are the roots of the equations system.  \n",
    "  \n",
    "(b) First we need to arrange the equations to the form $x_{new} = g_1(x_0, y_0)$ and $y_{new} = g_2(x_0, y_0)$:  \n",
    "  \n",
    "\\begin{align}\n",
    "    y = g_2 = -x^2 + x + 0.75 \\tag{1}\\\\\n",
    "    \\\\\n",
    "    y + 5xy = x^2 \\tag{2} \\\\\n",
    "    => x = g_1 = \\frac{x^2 - y}{5y}\n",
    "\\end{align} \n",
    "  \n",
    "From a good initial guess $(x_0, y_0)$, we keep calculating new value of $x_{new} = g_1(x_0, y_0)$ and $y_{new} = g_2(x_0, y_0)$  until the difference between $x_0$ and $x_{new}$, $y_0$ and $y_{new}$ fall within the tolerance value. \n",
    "\n",
    "(c)The find the roots using `fsolve`, first we need to represent the equations system by a vector-based function:  \n",
    "  \n",
    "$f([x_0, x_1]) = [-x_0^2 + x_0 - x_1 + 0.75,\\ x_0^2 - 5x_0x_1 - x_1 ]$  \n",
    "where $x_0 = x,\\ x_1 = y$.  \n",
    "  \n",
    "Then, we call `fsolve` using the function $f$ and an inital guess for the solution vector. "
   ]
  },
  {
   "cell_type": "code",
   "execution_count": 176,
   "metadata": {
    "collapsed": false,
    "scrolled": true
   },
   "outputs": [
    {
     "data": {
      "image/png": "[encoded data removed]",
      "text/plain": [
       "<matplotlib.figure.Figure at 0x1a0701ed470>"
      ]
     },
     "metadata": {},
     "output_type": "display_data"
    }
   ],
   "source": [
    "# a - solve graphically\n",
    "figure()\n",
    "x = linspace(-1, 2, 1000)\n",
    "y1 = -x**2 + x + 0.75\n",
    "y2 = x**2 / (1 + 5*x)\n",
    "plot(x, y1, 'g')\n",
    "plot(x, y2, 'b')\n",
    "plot(-0.1868, 0.528, 'ro')\n",
    "plot(-0.5853, -0.1778, 'ro')\n",
    "plot(1.3720,  0.2395, 'ro')\n",
    "axhline(0, color = 'r')\n",
    "ylim(-1, 1)\n",
    "xlim(-1, 2)\n",
    "grid()\n",
    "show()\n",
    "\n"
   ]
  },
  {
   "cell_type": "code",
   "execution_count": 177,
   "metadata": {
    "collapsed": false
   },
   "outputs": [
    {
     "data": {
      "image/png": "[encoded data removed]",
      "text/plain": [
       "<matplotlib.figure.Figure at 0x1a0732e3080>"
      ]
     },
     "metadata": {},
     "output_type": "display_data"
    }
   ],
   "source": [
    "figure()\n",
    "plot(x, y1, 'g')\n",
    "plot(x, y2, 'b')\n",
    "ylim(-0.176, -0.18)\n",
    "xlim(-0.58, -0.586)\n",
    "plot(-0.5853, -0.1778, 'ro')\n",
    "grid()\n",
    "show()\n"
   ]
  },
  {
   "cell_type": "code",
   "execution_count": 178,
   "metadata": {
    "collapsed": false
   },
   "outputs": [
    {
     "data": {
      "image/png": "[encoded data removed]",
      "text/plain": [
       "<matplotlib.figure.Figure at 0x1a071ad83c8>"
      ]
     },
     "metadata": {},
     "output_type": "display_data"
    }
   ],
   "source": [
    "figure()\n",
    "plot(x, y1, 'g')\n",
    "plot(x, y2, 'b')\n",
    "ylim(0.5, 0.6)\n",
    "xlim(-0.195, -0.18)\n",
    "plot(-0.1868, 0.528, 'ro')\n",
    "grid()\n",
    "show()"
   ]
  },
  {
   "cell_type": "code",
   "execution_count": 179,
   "metadata": {
    "collapsed": false
   },
   "outputs": [
    {
     "data": {
      "image/png": "[encoded data removed]",
      "text/plain": [
       "<matplotlib.figure.Figure at 0x1a06f6c19e8>"
      ]
     },
     "metadata": {},
     "output_type": "display_data"
    }
   ],
   "source": [
    "figure()\n",
    "plot(x, y1, 'g')\n",
    "plot(x, y2, 'b')\n",
    "ylim(0, 0.5)\n",
    "xlim(1, 1.5)\n",
    "plot(1.3720,  0.2395, 'ro')\n",
    "grid()\n",
    "show()"
   ]
  },
  {
   "cell_type": "code",
   "execution_count": 180,
   "metadata": {
    "collapsed": false,
    "scrolled": true
   },
   "outputs": [
    {
     "name": "stdout",
     "output_type": "stream",
     "text": [
      "Roots found by fixed-point iteration:\n",
      "\tRoot 1:\n",
      "\t\tx0 = -0.585350\n",
      "\t\ty0 = -0.177876\n",
      "\tRoot 2:\n",
      "\t\tx0 = -0.186789\n",
      "\t\ty0 = 0.528299\n",
      "\tRoot 3:\n",
      "\t\tx0 = 1.372157\n",
      "\t\ty0 = 0.239442\n"
     ]
    }
   ],
   "source": [
    "# b - solve using fixed-point iteration\n",
    "g1 = lambda x, y: (x**2 - y) / (5 * y)\n",
    "g2 = lambda x, y: -x**2 + x + 0.75\n",
    "\n",
    "def fixedPoint2Equations(g1, g2, x0, y0, tol=1e-4, maxiter=1000):\n",
    "    \"\"\" \n",
    "    simple fixed-point iteration algorithm for system of 2 nonlinear equations\n",
    "    Inputs:\n",
    "       g1 = the function that x_i+1 = g1(xi, yi)\n",
    "       g2 = the function that y_i+1 = g2(xi, yi)\n",
    "       x0 = initial estimate of x\n",
    "       y0 = initial estimate of y\n",
    "       tol = tolerance for the root value\n",
    "       maxiter = maximum numbers of iterations\n",
    "    Outputs:\n",
    "       x0, y0 = estimate for the root\n",
    "    \"\"\"\n",
    "    e = 1\n",
    "    n = 0\n",
    "    while (e > tol and n < maxiter):\n",
    "        x = g1(x0, y0)\n",
    "        y = g2(x0, y0)\n",
    "#         print(x, y)\n",
    "        e = max([abs(x - x0), abs(y - y0)]) # calculate error\n",
    "        x0, y0 = x, y\n",
    "        n += 1\n",
    "    return x0, y0\n",
    "\n",
    "print(\"Roots found by fixed-point iteration:\")\n",
    "\n",
    "x0, y0 = fixedPoint2Equations(g1, g2,-0.5853,  -0.1778)\n",
    "print(\"\\tRoot 1:\")\n",
    "print(\"\\t\\tx0 = {0:.6f}\".format(x0))\n",
    "print(\"\\t\\ty0 = {0:.6f}\".format(y0))\n",
    "\n",
    "x0, y0 = fixedPoint2Equations(g1, g2, -0.1, 0.5)\n",
    "print(\"\\tRoot 2:\")\n",
    "print(\"\\t\\tx0 = {0:.6f}\".format(x0))\n",
    "print(\"\\t\\ty0 = {0:.6f}\".format(y0))\n",
    "\n",
    "x0, y0 = fixedPoint2Equations(g1, g2, 1.3721,  0.2395)\n",
    "print(\"\\tRoot 3:\")\n",
    "print(\"\\t\\tx0 = {0:.6f}\".format(x0))\n",
    "print(\"\\t\\ty0 = {0:.6f}\".format(y0))\n"
   ]
  },
  {
   "cell_type": "code",
   "execution_count": 181,
   "metadata": {
    "collapsed": false
   },
   "outputs": [
    {
     "name": "stdout",
     "output_type": "stream",
     "text": [
      "Root 1: [-0.5852738  -0.17781921]\n",
      "Root 2: [-0.18679161  0.52831729]\n",
      "Root 3: [ 1.37206541  0.23950193]\n"
     ]
    }
   ],
   "source": [
    "#c - solve using scipy.optimize.fsolve \n",
    "def f(x):\n",
    "    f1 = -x[0]**2 + x[0] - x[1] + 0.75\n",
    "    f2 = x[0]**2 - 5*x[0]*x[1] - x[1]\n",
    "    return [f1, f2]\n",
    "\n",
    "sol1 = fsolve(f, [-0.5 , -0.2])\n",
    "sol2 = fsolve(f, [-0.1 , 0.5])\n",
    "sol3 = fsolve(f, [1 , 0.5])\n",
    "print(\"Root 1:\", sol1)\n",
    "print(\"Root 2:\", sol2)   \n",
    "print(\"Root 3:\", sol3)  "
   ]
  }
 ],
 "metadata": {
  "anaconda-cloud": {},
  "kernelspec": {
   "display_name": "Python [Root]",
   "language": "python",
   "name": "Python [Root]"
  },
  "language_info": {
   "codemirror_mode": {
    "name": "ipython",
    "version": 3
   },
   "file_extension": ".py",
   "mimetype": "text/x-python",
   "name": "python",
   "nbconvert_exporter": "python",
   "pygments_lexer": "ipython3",
   "version": "3.5.2"
  }
 },
 "nbformat": 4,
 "nbformat_minor": 0
}
