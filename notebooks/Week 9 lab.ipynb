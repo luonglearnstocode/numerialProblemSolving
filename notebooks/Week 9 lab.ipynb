{
 "cells": [
  {
   "cell_type": "markdown",
   "metadata": {},
   "source": [
    "# Week 9 lab\n",
    "Introduction to Numerical Problem Solving, Spring 2017   \n",
    "Luong Nguyen, 22.3.2017   \n",
    "Helsinki Metropolia University of Applied Sciences "
   ]
  },
  {
   "cell_type": "code",
   "execution_count": null,
   "metadata": {
    "collapsed": true
   },
   "outputs": [],
   "source": [
    "# Initial import statements\n",
    "%pylab inline \n",
    "from scipy.optimize import *"
   ]
  },
  {
   "cell_type": "code",
   "execution_count": 8,
   "metadata": {
    "collapsed": false
   },
   "outputs": [
    {
     "data": {
      "image/png": "[encoded data removed]",
      "text/plain": [
       "<matplotlib.figure.Figure at 0x1a64dd0c3c8>"
      ]
     },
     "metadata": {},
     "output_type": "display_data"
    }
   ],
   "source": [
    "# 1 - plotting\n",
    "f1 = lambda x: x**2 - x - 1\n",
    "f2 = lambda x: x**3 - 3 * sin(x)\n",
    "f3 = lambda x: exp(x) - 2\n",
    "f4 = lambda x: 1 - x**2 + sin(50 / (1 + x**2))\n",
    "\n",
    "figure()\n",
    "x = linspace(-2, 2, 1000)\n",
    "plot(x, f1(x), 'g', label='$f1$')\n",
    "plot(x, f2(x), 'r', label='$f2$')\n",
    "plot(x, f3(x), 'b', label='$f3$')\n",
    "plot(x, f4(x), 'y', label='$f4$')\n",
    "axhline(0)\n",
    "grid()\n",
    "legend()\n",
    "show()\n"
   ]
  },
  {
   "cell_type": "code",
   "execution_count": 75,
   "metadata": {
    "collapsed": false
   },
   "outputs": [],
   "source": [
    "def incrementSearch(f, a, b, dx):\n",
    "    x = a\n",
    "    n = 0\n",
    "    while (x < b):\n",
    "        if sign(f(x)) != sign(f(x + dx)):\n",
    "            return x + dx, n + 1\n",
    "        x += dx    \n",
    "        n += 1\n",
    "\n",
    "    return None, n\n",
    "\n",
    "def bisectionSearch(f, a, b, tol, maxiter):\n",
    "    x, n = None, 0\n",
    "    while (b - a > tol and n < maxiter):\n",
    "        x = a + (b - a) / 2\n",
    "        if sign(f(a)) == sign(f(x)):\n",
    "            a = x\n",
    "        else:\n",
    "            b = x   \n",
    "        n += 1\n",
    "    return x, n   \n",
    "\n",
    "def derivative(f, x, h):\n",
    "    return (f(x + h) - f(x)) / h\n",
    "\n",
    "def newtonSearch(f, x0, tol, maxiter):\n",
    "    n = 0\n",
    "    while(f(x0) > tol and n < maxiter):\n",
    "        x0 = x0 - f(x0) / derivative(f, x0, 0.001)\n",
    "        n += 1\n",
    "    return x0, n   \n",
    "    "
   ]
  },
  {
   "cell_type": "code",
   "execution_count": 72,
   "metadata": {
    "collapsed": false
   },
   "outputs": [
    {
     "name": "stdout",
     "output_type": "stream",
     "text": [
      "Increment search\n",
      "Function 1\n",
      "x = -0.6100\n",
      "n = 139\n",
      "Function 2\n",
      "x = -1.4300\n",
      "n = 57\n",
      "Function 3\n",
      "x = 0.7000\n",
      "n = 270\n",
      "Function 4\n",
      "x = -1.2500\n",
      "n = 75\n"
     ]
    }
   ],
   "source": [
    "fs = [f1, f2, f3, f4]\n",
    "a = -2\n",
    "b = 2\n",
    "dx = 0.01\n",
    "i = 0\n",
    "print(\"Increment search\")\n",
    "for f in fs:\n",
    "    i += 1\n",
    "    x, n = incrementSearch(f, a, b, dx)\n",
    "    print(\"Function {}\".format(i))\n",
    "    print(\"x = {0:.4f}\".format(x))\n",
    "    print(\"n = {}\".format(n))"
   ]
  },
  {
   "cell_type": "code",
   "execution_count": 76,
   "metadata": {
    "collapsed": false
   },
   "outputs": [
    {
     "name": "stdout",
     "output_type": "stream",
     "text": [
      "F1 bisectionSearch\n",
      "x = -0.6230\n",
      "n = 9\n",
      "F1 newtonSearch\n",
      "x = -0.6190\n",
      "n = 3\n"
     ]
    }
   ],
   "source": [
    "print(\"F1 bisectionSearch\")\n",
    "a = -2\n",
    "b = 1\n",
    "x, n = bisectionSearch(f1, a, b, 0.01, 200)\n",
    "print(\"x = {0:.4f}\".format(x))\n",
    "print(\"n = {}\".format(n))\n",
    "print(\"F1 newtonSearch\")\n",
    "x, n = newtonSearch(f1, a, 0.01, 200)\n",
    "print(\"x = {0:.4f}\".format(x))\n",
    "print(\"n = {}\".format(n))"
   ]
  },
  {
   "cell_type": "code",
   "execution_count": 62,
   "metadata": {
    "collapsed": false
   },
   "outputs": [
    {
     "name": "stdout",
     "output_type": "stream",
     "text": [
      "F2\n",
      "x = -1.4453\n",
      "n = 7\n"
     ]
    }
   ],
   "source": [
    "print(\"F2 bisectionSearch\")\n",
    "a = -2\n",
    "b = -1\n",
    "x, n = bisectionSearch(f2, a, b, 0.01, 200)\n",
    "print(\"x = {0:.4f}\".format(x))\n",
    "print(\"n = {}\".format(n))"
   ]
  },
  {
   "cell_type": "code",
   "execution_count": 69,
   "metadata": {
    "collapsed": false
   },
   "outputs": [
    {
     "name": "stdout",
     "output_type": "stream",
     "text": [
      "F3 bisectionSearch\n",
      "x = 0.6953\n",
      "n = 9\n"
     ]
    }
   ],
   "source": [
    "print(\"F3 bisectionSearch\")\n",
    "a = -2\n",
    "b = 2\n",
    "x, n = bisectionSearch(f3, a, b, 0.01, 200)\n",
    "print(\"x = {0:.4f}\".format(x))\n",
    "print(\"n = {}\".format(n))"
   ]
  },
  {
   "cell_type": "code",
   "execution_count": 70,
   "metadata": {
    "collapsed": false
   },
   "outputs": [
    {
     "name": "stdout",
     "output_type": "stream",
     "text": [
      "F4 bisectionSearch\n",
      "x = -0.9922\n",
      "n = 8\n"
     ]
    }
   ],
   "source": [
    "print(\"F4 bisectionSearch\")\n",
    "a = -2\n",
    "b = 0\n",
    "x, n = bisectionSearch(f4, a, b, 0.01, 200)\n",
    "print(\"x = {0:.4f}\".format(x))\n",
    "print(\"n = {}\".format(n))"
   ]
  },
  {
   "cell_type": "code",
   "execution_count": 19,
   "metadata": {
    "collapsed": false
   },
   "outputs": [
    {
     "data": {
      "image/png": "[encoded data removed]",
      "text/plain": [
       "<matplotlib.figure.Figure at 0x1a64f963d68>"
      ]
     },
     "metadata": {},
     "output_type": "display_data"
    }
   ],
   "source": [
    "x = linspace(-2, 2, 1000)\n",
    "f1 = lambda x: x**2 - x - 1\n",
    "f2 = lambda x: x**3 - 3 * sin(x)\n",
    "f3 = lambda x: exp(x) - 2\n",
    "f4 = lambda x: 1 - x**2 + sin(50 / (1 + x**2))\n",
    "\n",
    "fig, axes = subplots(1, 4, figsize=(12, 3), sharey=True)\n",
    "\n",
    "for n, f in enumerate([f1, f2, f3, f4]):\n",
    "    axes[n].plot(x, f(x), lw=1.5)\n",
    "    axes[n].axhline(0, color='r')\n",
    "    axes[n].grid()\n",
    "    axes[n].set_ylim(-5, 5)\n",
    "    axes[n].set_xticks([-2, -1, 0, 1, 2])\n",
    "    axes[n].set_xlabel(r'$x$', fontsize=18)\n",
    "axes[0].set_ylabel(r'$f(x)$', fontsize=18)\n",
    "titles = [r'$f(x)=x^2-x-1$', r'$f(x)=x^3-3\\sin(x)$', r'$f(x)=\\exp(x)-2$', r'$f(x)=\\sin\\left(50/(1+x^2)\\right)+1-x^2$']\n",
    "for n, title in enumerate(titles):\n",
    "    axes[n].set_title(title)"
   ]
  },
  {
   "cell_type": "code",
   "execution_count": 51,
   "metadata": {
    "collapsed": false
   },
   "outputs": [
    {
     "name": "stdout",
     "output_type": "stream",
     "text": [
      "f1\n",
      "Bisect\n",
      "x = -0.6230\n",
      "n = 9\n",
      "Newton\n",
      "x = -0.6180\n"
     ]
    }
   ],
   "source": [
    "# f1\n",
    "print(\"f1\")\n",
    "a = -2\n",
    "b = 1\n",
    "print(\"Bisect\")\n",
    "x,r = bisect(f1, a, b, xtol=0.01, full_output=True)\n",
    "print(\"x = {0:.4f}\".format(x))\n",
    "print(\"n = {}\".format(r.iterations))\n",
    "\n",
    "print(\"Newton\")\n",
    "x = newton(f1, a, tol=0.01)\n",
    "print(\"x = {0:.4f}\".format(x))"
   ]
  },
  {
   "cell_type": "code",
   "execution_count": 66,
   "metadata": {
    "collapsed": false
   },
   "outputs": [
    {
     "name": "stdout",
     "output_type": "stream",
     "text": [
      "f2\n",
      "Bisect\n",
      "x = -1.4453\n",
      "n = 7\n",
      "Newton\n",
      "x = -1.4384\n"
     ]
    }
   ],
   "source": [
    "# f2 \n",
    "print(\"f2\")\n",
    "a = -2\n",
    "b = -1\n",
    "print(\"Bisect\")\n",
    "x,r = bisect(f2, a, b, xtol=0.01, full_output=True)\n",
    "print(\"x = {0:.4f}\".format(x))\n",
    "print(\"n = {}\".format(r.iterations))\n",
    "\n",
    "print(\"Newton\")\n",
    "x = newton(f2, a, tol=0.01)\n",
    "print(\"x = {0:.4f}\".format(x))"
   ]
  },
  {
   "cell_type": "code",
   "execution_count": 67,
   "metadata": {
    "collapsed": false
   },
   "outputs": [
    {
     "name": "stdout",
     "output_type": "stream",
     "text": [
      "f3\n",
      "Bisect\n",
      "x = 0.6953\n",
      "n = 9\n",
      "Newton\n",
      "x = 0.6933\n"
     ]
    }
   ],
   "source": [
    "# f3\n",
    "print(\"f3\")\n",
    "a = -2\n",
    "b = 2\n",
    "print(\"Bisect\")\n",
    "x,r = bisect(f3, a, b, xtol=0.01, full_output=True)\n",
    "print(\"x = {0:.4f}\".format(x))\n",
    "print(\"n = {}\".format(r.iterations))\n",
    "\n",
    "print(\"Newton\")\n",
    "x = newton(f3, -1, tol=0.01)\n",
    "print(\"x = {0:.4f}\".format(x))"
   ]
  },
  {
   "cell_type": "code",
   "execution_count": 68,
   "metadata": {
    "collapsed": false
   },
   "outputs": [
    {
     "name": "stdout",
     "output_type": "stream",
     "text": [
      "f4\n",
      "Bisect\n",
      "x = -0.9922\n",
      "n = 8\n",
      "Newton\n",
      "x = -0.9951\n"
     ]
    }
   ],
   "source": [
    "# f4\n",
    "print(\"f4\")\n",
    "a = -2\n",
    "b = 0\n",
    "print(\"Bisect\")\n",
    "x,r = bisect(f4, a, b, xtol=0.01, full_output=True)\n",
    "print(\"x = {0:.4f}\".format(x))\n",
    "print(\"n = {}\".format(r.iterations))\n",
    "\n",
    "print(\"Newton\")\n",
    "x = newton(f4, -1, tol=0.01)\n",
    "print(\"x = {0:.4f}\".format(x))"
   ]
  }
 ],
 "metadata": {
  "kernelspec": {
   "display_name": "Python [Root]",
   "language": "python",
   "name": "Python [Root]"
  },
  "language_info": {
   "codemirror_mode": {
    "name": "ipython",
    "version": 3
   },
   "file_extension": ".py",
   "mimetype": "text/x-python",
   "name": "python",
   "nbconvert_exporter": "python",
   "pygments_lexer": "ipython3",
   "version": "3.5.2"
  }
 },
 "nbformat": 4,
 "nbformat_minor": 0
}
