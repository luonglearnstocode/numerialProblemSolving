{
 "cells": [
  {
   "cell_type": "markdown",
   "metadata": {},
   "source": [
    "# Week 14b - Review and Peer evaluation\n",
    "Introduction to Numerical Problem Solving, Spring 2017    \n",
    "CC BY-NC-SA, Sakari Lukkarinen\n",
    "Helsinki Metropolia University of Applied Sciences"
   ]
  },
  {
   "cell_type": "markdown",
   "metadata": {},
   "source": [
    "## Instructions\n",
    "\n",
    "The aim of this notebook is to help you to review for the final test and earn some last points for this course. The notebook contains links to to the lecture notes, problems and student's answers to the home assignments. All identities are cleared out from the answers and the order of them are randomized using Python's random generator functions. Only the instructor and author him/herself might recognize who has done them.\n",
    "\n",
    "The instructions are the following:\n",
    "\n",
    "1. First, run all cells. That generates random numbers for each week. Each random number corresponds to one of the answers in the OMA system.\n",
    "2. Review the lecture notes and the problems for each week by following the links.\n",
    "3. Open and read the given answers (random choices) one-by-one.\n",
    "4. After reading each answer, open the peer evaluation form and follow the instructions there.\n",
    "\n",
    "You need to use your Metropolia's Google account (account@metropolia.fi) in order to open the evaluation form. If you haven't use Metropolia's Google Documents before, please follow the instruction given in: [Cloud Services at Metropolia](https://wiki.metropolia.fi/display/itservices/Cloud+services).\n",
    "\n",
    "If have any difficulties or have questions concerning this bonus assignment, contact me by email as soon as possible.\n",
    "\n",
    "Best Regards,\n",
    "\n",
    "Sakari"
   ]
  },
  {
   "cell_type": "code",
   "execution_count": 1,
   "metadata": {
    "collapsed": false
   },
   "outputs": [
    {
     "name": "stdout",
     "output_type": "stream",
     "text": [
      "Populating the interactive namespace from numpy and matplotlib\n"
     ]
    }
   ],
   "source": [
    "%pylab inline\n",
    "from numpy.random import choice"
   ]
  },
  {
   "cell_type": "markdown",
   "metadata": {},
   "source": [
    "## Week 9 - Root Finding\n",
    "\n",
    "* [Lecture notes](https://oma.metropolia.fi/delegate/download_workspace_attachment/4814396/09%20Root%20finding.pdf)\n",
    "\n",
    "* [Problems](https://oma.metropolia.fi/tyotilat?p_p_id=WorkspacePortlet_WAR_workspaceportlet&p_p_lifecycle=0&p_p_state=normal&p_p_mode=view&p_p_col_id=column-1&p_p_col_count=1&_WorkspacePortlet_WAR_workspaceportlet_struts.portlet.action=%2Fworkspace%2Fassignments_teacher%2Ftask-view-teacher&_WorkspacePortlet_WAR_workspaceportlet_struts.portlet.mode=view&workspace.id=340002155&taskId=312149677&workspaceStudentCount=23)\n",
    "\n",
    "No peer evaluation answers for this week."
   ]
  },
  {
   "cell_type": "markdown",
   "metadata": {},
   "source": [
    "## Week 10 - Root Finding - Part 2\n",
    "\n",
    "* [Lecture notes](https://oma.metropolia.fi/delegate/download_workspace_attachment/4830162/10%20Root%20finding%20%E2%80%93%20Part%202.pdf)\n",
    "\n",
    "* [Problems](https://oma.metropolia.fi/tyotilat?p_p_id=WorkspacePortlet_WAR_workspaceportlet&p_p_lifecycle=0&p_p_state=normal&p_p_mode=view&p_p_col_id=column-1&p_p_col_count=1&_WorkspacePortlet_WAR_workspaceportlet_struts.portlet.action=%2Fworkspace%2Fassignments_teacher%2Ftask-view-teacher&_WorkspacePortlet_WAR_workspaceportlet_struts.portlet.mode=view&workspace.id=340002155&taskId=312150014&workspaceStudentCount=23)\n",
    "* [Answers](https://oma.metropolia.fi/tyotilat?p_p_id=WorkspacePortlet_WAR_workspaceportlet&p_p_lifecycle=0&p_p_state=normal&p_p_mode=view&p_p_col_id=column-1&p_p_col_count=1&_WorkspacePortlet_WAR_workspaceportlet_struts.portlet.action=%2Fworkspace%2Fdocuments%2Findex&_WorkspacePortlet_WAR_workspaceportlet_struts.portlet.mode=view&workspace.id=340002155&workspace.name=Introduction%20to%20Numerical%20Problem%20Solving%20TX00BY09-3007&currentFolder=4900072&orderBy=name&ascending=)\n",
    "\n",
    "\n",
    "Select the answers to peer evaluate and open the [peer evaluation form](https://goo.gl/forms/TWbLPqCjiADExVG93):"
   ]
  },
  {
   "cell_type": "code",
   "execution_count": 2,
   "metadata": {
    "collapsed": false,
    "scrolled": true
   },
   "outputs": [
    {
     "data": {
      "text/plain": [
       "array([ 4,  7, 10,  8])"
      ]
     },
     "execution_count": 2,
     "metadata": {},
     "output_type": "execute_result"
    }
   ],
   "source": [
    "choice(arange(1, 11), 4, replace = False)"
   ]
  },
  {
   "cell_type": "markdown",
   "metadata": {},
   "source": [
    "## Week 11 - Optimization\n",
    "\n",
    "* [Lecture notes](https://oma.metropolia.fi/delegate/download_workspace_attachment/4845004/11%20Optimization.pdf)\n",
    "\n",
    "* [Problems](https://oma.metropolia.fi/tyotilat?p_p_id=WorkspacePortlet_WAR_workspaceportlet&p_p_lifecycle=0&p_p_state=normal&p_p_mode=view&p_p_col_id=column-1&p_p_col_count=1&_WorkspacePortlet_WAR_workspaceportlet_struts.portlet.action=%2Fworkspace%2Fassignments_teacher%2Ftask-view-teacher&_WorkspacePortlet_WAR_workspaceportlet_struts.portlet.mode=view&workspace.id=340002155&taskId=312150721&workspaceStudentCount=23)\n",
    "\n",
    "* [Answers](https://oma.metropolia.fi/tyotilat?p_p_id=WorkspacePortlet_WAR_workspaceportlet&p_p_lifecycle=0&p_p_state=normal&p_p_mode=view&p_p_col_id=column-1&p_p_col_count=1&_WorkspacePortlet_WAR_workspaceportlet_struts.portlet.action=%2Fworkspace%2Fdocuments%2Findex&_WorkspacePortlet_WAR_workspaceportlet_struts.portlet.mode=view&workspace.id=340002155&workspace.name=Introduction%20to%20Numerical%20Problem%20Solving%20TX00BY09-3007&currentFolder=4900084&orderBy=name&ascending=)\n",
    "\n",
    "\n",
    "Select the answers to peer evaluate and open the [peer evaluation form](https://goo.gl/forms/TWbLPqCjiADExVG93):"
   ]
  },
  {
   "cell_type": "code",
   "execution_count": 3,
   "metadata": {
    "collapsed": false
   },
   "outputs": [
    {
     "data": {
      "text/plain": [
       "array([3, 1, 7, 8])"
      ]
     },
     "execution_count": 3,
     "metadata": {},
     "output_type": "execute_result"
    }
   ],
   "source": [
    "choice(arange(1, 9), 4, replace = False)"
   ]
  },
  {
   "cell_type": "markdown",
   "metadata": {},
   "source": [
    "## Week 12 - Curve fitting\n",
    "\n",
    "* [Lecture notes](https://oma.metropolia.fi/delegate/download_workspace_attachment/4866848/12%20Curve%20Fitting.pdf)\n",
    "\n",
    "* [Problems](https://oma.metropolia.fi/tyotilat?p_p_id=WorkspacePortlet_WAR_workspaceportlet&p_p_lifecycle=0&p_p_state=normal&p_p_mode=view&p_p_col_id=column-1&p_p_col_count=1&_WorkspacePortlet_WAR_workspaceportlet_struts.portlet.action=%2Fworkspace%2Fassignments_teacher%2Ftask-view-teacher&_WorkspacePortlet_WAR_workspaceportlet_struts.portlet.mode=view&workspace.id=340002155&taskId=312150809&workspaceStudentCount=23)\n",
    "\n",
    "* [Answers](https://oma.metropolia.fi/tyotilat?p_p_id=WorkspacePortlet_WAR_workspaceportlet&p_p_lifecycle=0&p_p_state=normal&p_p_mode=view&p_p_col_id=column-1&p_p_col_count=1&_WorkspacePortlet_WAR_workspaceportlet_struts.portlet.action=%2Fworkspace%2Fdocuments%2Findex&_WorkspacePortlet_WAR_workspaceportlet_struts.portlet.mode=view&workspace.id=340002155&workspace.name=Introduction%20to%20Numerical%20Problem%20Solving%20TX00BY09-3007&currentFolder=4900104&orderBy=name&ascending=)\n",
    "\n",
    "\n",
    "Select the answers to peer evaluate and open the [peer evaluation form](https://goo.gl/forms/TWbLPqCjiADExVG93):"
   ]
  },
  {
   "cell_type": "code",
   "execution_count": 4,
   "metadata": {
    "collapsed": false,
    "scrolled": true
   },
   "outputs": [
    {
     "data": {
      "text/plain": [
       "array([6, 4, 9, 3])"
      ]
     },
     "execution_count": 4,
     "metadata": {},
     "output_type": "execute_result"
    }
   ],
   "source": [
    "choice(arange(1, 12), 4, replace = False)"
   ]
  },
  {
   "cell_type": "markdown",
   "metadata": {},
   "source": [
    "## Week 13 - Integration\n",
    "\n",
    "* [Lecture notes](https://oma.metropolia.fi/delegate/download_workspace_attachment/4881964/13.%20Numerical%20Integration%20and%20Differentiation.pdf)\n",
    "\n",
    "* [Problems](https://oma.metropolia.fi/tyotilat?p_p_id=WorkspacePortlet_WAR_workspaceportlet&p_p_lifecycle=0&p_p_state=normal&p_p_mode=view&p_p_col_id=column-1&p_p_col_count=1&_WorkspacePortlet_WAR_workspaceportlet_struts.portlet.action=%2Fworkspace%2Fassignments_teacher%2Ftask-view-teacher&_WorkspacePortlet_WAR_workspaceportlet_struts.portlet.mode=view&workspace.id=340002155&taskId=312150810&workspaceStudentCount=23)\n",
    "\n",
    "* [Answers](https://oma.metropolia.fi/tyotilat?p_p_id=WorkspacePortlet_WAR_workspaceportlet&p_p_lifecycle=0&p_p_state=normal&p_p_mode=view&p_p_col_id=column-1&p_p_col_count=1&_WorkspacePortlet_WAR_workspaceportlet_struts.portlet.action=%2Fworkspace%2Fdocuments%2Findex&_WorkspacePortlet_WAR_workspaceportlet_struts.portlet.mode=view&workspace.id=340002155&workspace.name=Introduction%20to%20Numerical%20Problem%20Solving%20TX00BY09-3007&currentFolder=4900244&orderBy=name&ascending=)\n",
    "\n",
    "\n",
    "Select the answers to peer evaluate and open the [peer evaluation form](https://goo.gl/forms/TWbLPqCjiADExVG93):"
   ]
  },
  {
   "cell_type": "code",
   "execution_count": 5,
   "metadata": {
    "collapsed": false,
    "scrolled": true
   },
   "outputs": [
    {
     "data": {
      "text/plain": [
       "array([4, 8, 6, 7])"
      ]
     },
     "execution_count": 5,
     "metadata": {},
     "output_type": "execute_result"
    }
   ],
   "source": [
    "choice(arange(1, 12), 4, replace = False)"
   ]
  },
  {
   "cell_type": "markdown",
   "metadata": {},
   "source": [
    "## Week 14 - Review\n",
    "\n",
    "* [Problems](https://oma.metropolia.fi/tyotilat?p_p_id=WorkspacePortlet_WAR_workspaceportlet&p_p_lifecycle=0&p_p_state=normal&p_p_mode=view&p_p_col_id=column-1&p_p_col_count=1&_WorkspacePortlet_WAR_workspaceportlet_struts.portlet.action=%2Fworkspace%2Fassignments_teacher%2Ftask-view-teacher&_WorkspacePortlet_WAR_workspaceportlet_struts.portlet.mode=view&workspace.id=340002155&taskId=312151385&workspaceStudentCount=23)"
   ]
  },
  {
   "cell_type": "markdown",
   "metadata": {},
   "source": [
    "Nothing to peer evaluate."
   ]
  }
 ],
 "metadata": {
  "kernelspec": {
   "display_name": "Python [Root]",
   "language": "python",
   "name": "Python [Root]"
  },
  "language_info": {
   "codemirror_mode": {
    "name": "ipython",
    "version": 3
   },
   "file_extension": ".py",
   "mimetype": "text/x-python",
   "name": "python",
   "nbconvert_exporter": "python",
   "pygments_lexer": "ipython3",
   "version": "3.5.2"
  }
 },
 "nbformat": 4,
 "nbformat_minor": 0
}
