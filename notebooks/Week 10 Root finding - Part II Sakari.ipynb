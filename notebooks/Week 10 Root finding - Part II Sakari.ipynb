{
 "cells": [
  {
   "cell_type": "markdown",
   "metadata": {},
   "source": [
    "# Root finding - Part II\n",
    "Introduction to Numerical Problem Solving, Spring 2017   \n",
    "CC BY-NC-SA, Sakari Lukkarinen   \n",
    "Helsinki Metropolia University of Applied Sciences"
   ]
  },
  {
   "cell_type": "code",
   "execution_count": 19,
   "metadata": {
    "collapsed": false
   },
   "outputs": [
    {
     "name": "stdout",
     "output_type": "stream",
     "text": [
      "Populating the interactive namespace from numpy and matplotlib\n"
     ]
    },
    {
     "name": "stderr",
     "output_type": "stream",
     "text": [
      "WARNING: pylab import has clobbered these variables: ['polyval', 'f', 'colors']\n",
      "`%matplotlib` prevents importing * from pylab and numpy\n"
     ]
    }
   ],
   "source": [
    "%pylab inline\n",
    "import scipy.optimize as optimize\n",
    "from numpy.polynomial.polynomial import polyval, polyroots, polyfromroots"
   ]
  },
  {
   "cell_type": "markdown",
   "metadata": {},
   "source": [
    "## Evaluating polynomials"
   ]
  },
  {
   "cell_type": "code",
   "execution_count": 20,
   "metadata": {
    "collapsed": false
   },
   "outputs": [
    {
     "data": {
      "text/plain": [
       "6.0"
      ]
     },
     "execution_count": 20,
     "metadata": {},
     "output_type": "execute_result"
    }
   ],
   "source": [
    "x0 = 1.0\n",
    "c = [1, 2, 3]\n",
    "polyval(x0, c)"
   ]
  },
  {
   "cell_type": "code",
   "execution_count": 21,
   "metadata": {
    "collapsed": false
   },
   "outputs": [
    {
     "data": {
      "text/plain": [
       "6.0"
      ]
     },
     "execution_count": 21,
     "metadata": {},
     "output_type": "execute_result"
    }
   ],
   "source": [
    "def f(x):\n",
    "    return 1 + 2*x + 3*x**3\n",
    "f(x0)"
   ]
  },
  {
   "cell_type": "code",
   "execution_count": 22,
   "metadata": {
    "collapsed": false
   },
   "outputs": [
    {
     "data": {
      "text/plain": [
       "6.0"
      ]
     },
     "execution_count": 22,
     "metadata": {},
     "output_type": "execute_result"
    }
   ],
   "source": [
    "def f(x, c):\n",
    "    return c[0] + c[1]*x + c[2]*x**2\n",
    "f(x0, c)"
   ]
  },
  {
   "cell_type": "markdown",
   "metadata": {},
   "source": [
    "## Finding the roots of polynomials"
   ]
  },
  {
   "cell_type": "markdown",
   "metadata": {},
   "source": [
    "Find the roots of polynomial $f(x) = -6 + 11x -6x^2 + x^3$"
   ]
  },
  {
   "cell_type": "code",
   "execution_count": 23,
   "metadata": {
    "collapsed": false
   },
   "outputs": [
    {
     "data": {
      "text/plain": [
       "array([ 1.,  2.,  3.])"
      ]
     },
     "execution_count": 23,
     "metadata": {},
     "output_type": "execute_result"
    }
   ],
   "source": [
    "polyroots([-6, 11., -6, 1.])"
   ]
  },
  {
   "cell_type": "markdown",
   "metadata": {},
   "source": [
    "$f(x) = (x-1)(x-2)(x-3)$"
   ]
  },
  {
   "cell_type": "markdown",
   "metadata": {},
   "source": [
    "Convert back to polynomial coefficients"
   ]
  },
  {
   "cell_type": "code",
   "execution_count": 24,
   "metadata": {
    "collapsed": false
   },
   "outputs": [
    {
     "data": {
      "text/plain": [
       "array([ -6.,  11.,  -6.,   1.])"
      ]
     },
     "execution_count": 24,
     "metadata": {},
     "output_type": "execute_result"
    }
   ],
   "source": [
    "polyfromroots([1., 2., 3.])"
   ]
  },
  {
   "cell_type": "markdown",
   "metadata": {},
   "source": [
    "## Complex valued roots"
   ]
  },
  {
   "cell_type": "markdown",
   "metadata": {},
   "source": [
    "Draw a polynomial function $f(x) = 1 + 2x + 3x^2$ and check if it has any real roots."
   ]
  },
  {
   "cell_type": "code",
   "execution_count": 25,
   "metadata": {
    "collapsed": false
   },
   "outputs": [
    {
     "data": {
      "image/png": "[encoded data removed]",
      "text/plain": [
       "<matplotlib.figure.Figure at 0x27801560550>"
      ]
     },
     "metadata": {},
     "output_type": "display_data"
    }
   ],
   "source": [
    "x = linspace(-5, 5, 1000)\n",
    "y = polyval(x, [1, 2, 3])\n",
    "plot(x, y)\n",
    "grid()"
   ]
  },
  {
   "cell_type": "code",
   "execution_count": 26,
   "metadata": {
    "collapsed": false
   },
   "outputs": [
    {
     "data": {
      "text/plain": [
       "array([-0.33333333-0.47140452j, -0.33333333+0.47140452j])"
      ]
     },
     "execution_count": 26,
     "metadata": {},
     "output_type": "execute_result"
    }
   ],
   "source": [
    "r = polyroots([1., 2., 3.])\n",
    "r"
   ]
  },
  {
   "cell_type": "code",
   "execution_count": 27,
   "metadata": {
    "collapsed": false
   },
   "outputs": [
    {
     "data": {
      "image/png": "[encoded data removed]",
      "text/plain": [
       "<matplotlib.figure.Figure at 0x27806334048>"
      ]
     },
     "metadata": {},
     "output_type": "display_data"
    }
   ],
   "source": [
    "# Plotting the complex valued roots\n",
    "plot(real(r), imag(r), 'o')\n",
    "axhline(0, color = 'r')\n",
    "xlim((-1, 1))\n",
    "ylim((-1, 1))\n",
    "xlabel('Real part')\n",
    "ylabel('Imag part')\n",
    "title('Complex roots of $f(x) = 1 + 2x + 3x^2$');\n",
    "grid()"
   ]
  },
  {
   "cell_type": "markdown",
   "metadata": {},
   "source": [
    "## Signal processing example"
   ]
  },
  {
   "cell_type": "code",
   "execution_count": 28,
   "metadata": {
    "collapsed": false
   },
   "outputs": [
    {
     "data": {
      "image/png": "[encoded data removed]",
      "text/plain": [
       "<matplotlib.figure.Figure at 0x278063ada90>"
      ]
     },
     "metadata": {},
     "output_type": "display_data"
    }
   ],
   "source": [
    "import scipy.signal as signal\n",
    "\n",
    "# Create an IIR type filter\n",
    "b, a = signal.iirfilter(4, Wn=0.2, rp=5, rs=60, btype='lowpass', ftype='ellip')\n",
    "\n",
    "# Draw the frequency response\n",
    "w, h = signal.freqz(b, a)\n",
    "plt.title('Digital filter frequency response')\n",
    "plt.plot(w, 20*np.log10(np.abs(h)))\n",
    "plt.title('Digital filter frequency response')\n",
    "plt.ylabel('Amplitude Response [dB]')\n",
    "plt.xlabel('Frequency (rad/sample)')\n",
    "plt.grid()\n",
    "plt.show()"
   ]
  },
  {
   "cell_type": "code",
   "execution_count": 29,
   "metadata": {
    "collapsed": false
   },
   "outputs": [
    {
     "data": {
      "image/png": "[encoded data removed]",
      "text/plain": [
       "<matplotlib.figure.Figure at 0x278064c29e8>"
      ]
     },
     "metadata": {},
     "output_type": "display_data"
    }
   ],
   "source": [
    "# Find the poles and zeros\n",
    "z, p, k = signal.tf2zpk(b, a)\n",
    "\n",
    "# Draw the pole-zero diagram\n",
    "plt.plot(np.real(z), np.imag(z), 'xb')\n",
    "plt.plot(np.real(p), np.imag(p), 'or')\n",
    "plt.legend(['Zeros', 'Poles'], loc=2)\n",
    "\n",
    "# Add a unit cirle\n",
    "x = linspace(-1, 1, 1000)\n",
    "y1 = sqrt(1-x**2)\n",
    "y2 = -y1\n",
    "plot(x, y1, 'k')\n",
    "plot(x, y2, 'k')\n",
    "\n",
    "axis('equal')\n",
    "title('Pole / Zero Plot')\n",
    "ylabel('Real')\n",
    "xlabel('Imaginary')\n",
    "grid()\n",
    "show()"
   ]
  },
  {
   "cell_type": "markdown",
   "metadata": {},
   "source": [
    "## Solving systems of nonlinear equations"
   ]
  },
  {
   "cell_type": "markdown",
   "metadata": {},
   "source": [
    "### Problem\n",
    "Determine the points of intersection between the circle $x^2+y^2=3$ and the hyperbola $xy=1$.\n",
    "\n",
    "### Solution\n",
    "\n",
    "First we reformulate the equations so that we have zeros on the right sides:\n",
    "\n",
    "$$\\begin{array}{r l}\n",
    "x^2 + y^2 - 3 &= 0\\\\\n",
    "xy - 1 & = 0\n",
    "\\end{array}$$\n",
    "\n",
    "Next we rename the variables $x_0 = x$ and $x_1 = y$, and write a vector function\n"
   ]
  },
  {
   "cell_type": "code",
   "execution_count": 30,
   "metadata": {
    "collapsed": true
   },
   "outputs": [],
   "source": [
    "def f(x):\n",
    "    f1 = x[0]**2 + x[1]**2 - 3\n",
    "    f2 = x[0]*x[1] - 1\n",
    "    return [f1, f2]"
   ]
  },
  {
   "cell_type": "markdown",
   "metadata": {},
   "source": [
    "Now we can apply `root` function from `scipy.optimize` module and using initial guess $x = x[0] = 0.5$ and $y = x[1] = 1.5$."
   ]
  },
  {
   "cell_type": "code",
   "execution_count": 31,
   "metadata": {
    "collapsed": false
   },
   "outputs": [
    {
     "data": {
      "text/plain": [
       "    fjac: array([[-0.58381252, -0.8118885 ],\n",
       "       [ 0.8118885 , -0.58381252]])\n",
       "     fun: array([  0.00000000e+00,  -2.22044605e-16])\n",
       " message: 'The solution converged.'\n",
       "    nfev: 8\n",
       "     qtf: array([ -9.20708768e-10,   4.83706707e-10])\n",
       "       r: array([-1.9231426 , -2.50318187,  2.32543004])\n",
       "  status: 1\n",
       " success: True\n",
       "       x: array([ 0.61803399,  1.61803399])"
      ]
     },
     "execution_count": 31,
     "metadata": {},
     "output_type": "execute_result"
    }
   ],
   "source": [
    "from scipy.optimize import root\n",
    "x0 = [0.5, 1.5]\n",
    "r = root(f, x0)\n",
    "r"
   ]
  },
  {
   "cell_type": "code",
   "execution_count": 32,
   "metadata": {
    "collapsed": false
   },
   "outputs": [
    {
     "data": {
      "text/plain": [
       "array([ 0.61803399,  1.61803399])"
      ]
     },
     "execution_count": 32,
     "metadata": {},
     "output_type": "execute_result"
    }
   ],
   "source": [
    "# Get the solution\n",
    "r.x"
   ]
  },
  {
   "cell_type": "markdown",
   "metadata": {},
   "source": [
    "Visualize the solution. We draw the circle in two parts $y1 = \\sqrt{3 - x^2}$ and $y2 = -y2$. \n",
    "\n",
    "In addition the hyperbola is drawn in two parts, as $y = 1/x$ goes to infinity when $x\\approx 0$."
   ]
  },
  {
   "cell_type": "code",
   "execution_count": 33,
   "metadata": {
    "collapsed": false
   },
   "outputs": [
    {
     "data": {
      "text/plain": [
       "[<matplotlib.lines.Line2D at 0x278065289e8>]"
      ]
     },
     "execution_count": 33,
     "metadata": {},
     "output_type": "execute_result"
    },
    {
     "data": {
      "image/png": "[encoded data removed]",
      "text/plain": [
       "<matplotlib.figure.Figure at 0x27806564978>"
      ]
     },
     "metadata": {},
     "output_type": "display_data"
    }
   ],
   "source": [
    "x = linspace(-sqrt(3), sqrt(3), 1000)\n",
    "y1 = sqrt(3 - x**2)\n",
    "y2 = -y1\n",
    "plot(x, y1, 'b')\n",
    "plot(x, y2, 'b')\n",
    "x = linspace(-3, -0.1, 500)\n",
    "y3 = 1/x\n",
    "plot(x, y3, 'g')\n",
    "x = linspace(0.1, 3, 500)\n",
    "y3 = 1/x\n",
    "plot(x, y3, 'g')\n",
    "\n",
    "axis('equal')\n",
    "ylim((-3, 3))\n",
    "grid()\n",
    "\n",
    "plot(r.x[0], r.x[1], 'o')"
   ]
  },
  {
   "cell_type": "markdown",
   "metadata": {},
   "source": [
    "## Convergence visualization\n",
    "\n",
    "Lastly we try several intial values in domain $x \\in [-4, 4]$ and $y \\in[-4, 4]$ and check where they converge.\n",
    "\n",
    "- In the first part we draw the circle and hyperbola, once again. \n",
    "- In the second part we find all 4 roots using different initial guesses. \n",
    "- Lastly we loop values within the domain and check where those initial values converge. The results are illustrated as two dimensional plot."
   ]
  },
  {
   "cell_type": "code",
   "execution_count": 34,
   "metadata": {
    "collapsed": false
   },
   "outputs": [
    {
     "name": "stdout",
     "output_type": "stream",
     "text": [
      "solution 1: [ 0.61803399  1.61803399]\n",
      "solution 2: [ 1.61803399  0.61803399]\n",
      "solution 3: [-0.61803399 -1.61803399]\n",
      "solution 4: [-1.61803399 -0.61803399]\n"
     ]
    },
    {
     "data": {
      "image/png": "[encoded data removed]",
      "text/plain": [
       "<matplotlib.figure.Figure at 0x27806465e10>"
      ]
     },
     "metadata": {},
     "output_type": "display_data"
    }
   ],
   "source": [
    "# Part 1 - Draw the equations\n",
    "fig, ax = subplots(figsize=(8,4))\n",
    "x = linspace(-sqrt(3), sqrt(3), 1000)\n",
    "y1 = sqrt(3 - x**2)\n",
    "y2 = -y1\n",
    "ax.plot(x, y1, 'b', lw = 1.5)\n",
    "ax.plot(x, y2, 'b', lw = 1.5)\n",
    "x = linspace(-3, -0.1, 500)\n",
    "y3 = 1/x\n",
    "ax.plot(x, y3, 'g', lw = 1.5)\n",
    "x = linspace(0.1, 3, 500)\n",
    "y3 = 1/x\n",
    "ax.plot(x, y3, 'g', lw = 1.5)\n",
    "\n",
    "axis('equal')\n",
    "ylim((-3, 3))\n",
    "grid()\n",
    "\n",
    "# Part 2 - Find all 4 solutions\n",
    "sol1 = optimize.fsolve(f, [0, 2])\n",
    "sol2 = optimize.fsolve(f, [2, 0])\n",
    "sol3 = optimize.fsolve(f, [0, -2])\n",
    "sol4 = optimize.fsolve(f, [-2, 0])\n",
    "print(\"solution 1:\", sol1)\n",
    "print(\"solution 2:\", sol2)\n",
    "print(\"solution 3:\", sol3)\n",
    "print(\"solution 4:\", sol4)\n",
    "\n",
    "# Part 3 - illustrate the convergence\n",
    "colors = ['r', 'g', 'b', 'c']\n",
    "for m in linspace(-4, 4, 40):\n",
    "    for n in linspace(-4, 4, 40):\n",
    "        x_guess = [m, n]\n",
    "        sol = optimize.fsolve(f, x_guess)\n",
    "        \n",
    "        for idx, s in enumerate([sol1, sol2, sol3, sol4]):\n",
    "            if abs(s-sol).max() < 1e-8:\n",
    "                ax.plot(sol[0], sol[1], colors[idx]+'*', markersize = 15)\n",
    "                ax.plot(x_guess[0], x_guess[1], colors[idx]+'.')"
   ]
  }
 ],
 "metadata": {
  "kernelspec": {
   "display_name": "Python [Root]",
   "language": "python",
   "name": "Python [Root]"
  },
  "language_info": {
   "codemirror_mode": {
    "name": "ipython",
    "version": 3
   },
   "file_extension": ".py",
   "mimetype": "text/x-python",
   "name": "python",
   "nbconvert_exporter": "python",
   "pygments_lexer": "ipython3",
   "version": "3.5.2"
  }
 },
 "nbformat": 4,
 "nbformat_minor": 0
}
