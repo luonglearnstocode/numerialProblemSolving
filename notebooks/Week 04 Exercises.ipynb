{
 "cells": [
  {
   "cell_type": "markdown",
   "metadata": {},
   "source": [
    "# Week 4 Exercises\n",
    "Introduction to Numerical Problem Solving, Spring 2017   \n",
    "15.2.2017, Luong Nguyen  \n",
    "Helsinki Metropolia University of Applied Sciences"
   ]
  },
  {
   "cell_type": "code",
   "execution_count": 1,
   "metadata": {
    "collapsed": true
   },
   "outputs": [],
   "source": [
    "# Initial import statements\n",
    "from numpy import *\n",
    "from numpy.linalg import inv, det, solve"
   ]
  },
  {
   "cell_type": "markdown",
   "metadata": {},
   "source": [
    "## Problem 4\n",
    "Given equation system  \n",
    ">    $10.0x_{1} + 2.0x_{2}− x_{3} = 27.0$  \n",
    ">    $−3.0x_{1} - 6.0x_{2}+ 2.0x_{3} = −61.5$  \n",
    ">    $x_{1} + x_{2} + 5.0x_{3} = −21.5$  \n",
    "\n",
    "(a) Solve by Gaussian elimination  \n",
    "(b) Substitute your solutions into the original equations in order to check answers.\n",
    "\n",
    "### Solution\n",
    "(a) To solve this linear algebraic equation system, first we construct the function Gaussian which implement Gaussian elimination method. The function takes on a matrix, a vector and return the solution as a vector. This function also employs partial pivoting to avoid divisions by zeros.\n",
    "\n"
   ]
  },
  {
   "cell_type": "code",
   "execution_count": 36,
   "metadata": {
    "collapsed": false
   },
   "outputs": [
    {
     "name": "stdout",
     "output_type": "stream",
     "text": [
      "Solution: x =  [ 0.5  8.  -6. ]\n"
     ]
    }
   ],
   "source": [
    "# Helper function, switch 2 rows of a matrix\n",
    "def pivot(A, row1, row2):\n",
    "    temp = A[row2].copy()\n",
    "    A[row2] = A[row1]\n",
    "    A[row1] = temp\n",
    "    return A\n",
    "\n",
    "# implement Gaussian elimination method\n",
    "def gaussian(A, b):\n",
    "    RowsA, ColsA = shape(A)\n",
    "    Rowsb = shape(b)[0]\n",
    "    x = zeros(Rowsb)\n",
    "            \n",
    "    # elimination\n",
    "    for i in range(RowsA-1):\n",
    "        # partial pivot\n",
    "        r = argmax(abs(A[i:, i])) + i\n",
    "        if r != i:\n",
    "            # pivot\n",
    "            A = pivot(A, i, r)\n",
    "            b = pivot(b, i, r)\n",
    "        for j in range(i+1, RowsA):\n",
    "            if (A[j,i] != 0):\n",
    "                factor = A[i,i] / A[j,i]\n",
    "                A[j] = factor * A[j] - A[i]\n",
    "                b[j] = factor * b[j] - b[i]\n",
    "            \n",
    "    # back substitution\n",
    "    for i in range(Rowsb-1, -1, -1):\n",
    "        x[i] = (b[i] - dot(A[i, i+1:], x[i+1:])) / A[i,i]\n",
    "    return x \n",
    "\n",
    "A = array([[10.0, 2.0, -1.0], [-3.0, -6.0, 2.0], [1.0, 1.0, 5.0]])\n",
    "b = array([27.0, -61.5, -21.5])\n",
    "x = gaussian(A, b)\n",
    "print('Solution: x = ', x)"
   ]
  },
  {
   "cell_type": "markdown",
   "metadata": {},
   "source": [
    "(b) To check the solution, we multiply A with x and then subtract to b. If the answer is [0.0 0.0 0.0] we get the right solution"
   ]
  },
  {
   "cell_type": "code",
   "execution_count": 22,
   "metadata": {
    "collapsed": false
   },
   "outputs": [
    {
     "data": {
      "text/plain": [
       "array([ 0.,  0.,  0.])"
      ]
     },
     "execution_count": 22,
     "metadata": {},
     "output_type": "execute_result"
    }
   ],
   "source": [
    "A_original = array([[10.0, 2.0, -1.0], [-3.0, -6.0, 2.0], [1.0, 1.0, 5.0]])\n",
    "b_original = array([27.0, -61.5, -21.5])\n",
    "dot(A_original, x) - b_original"
   ]
  },
  {
   "cell_type": "markdown",
   "metadata": {},
   "source": [
    "## Problem 6\n",
    "Solve the equations $Ax = b$ by Gauss elimination, where\n",
    ">    $A = \n",
    " \\begin{pmatrix}\n",
    "    0.0 & 0.0 & 2.0 & 1.0 & 2.0 \\\\\n",
    "    0.0 & 1.0 & 0.0 & 2.0 & -1.0 \\\\\n",
    "    1.0 & 2.0 & 0.0 & -2.0 & 0.0\\\\\n",
    "    0.0 & 0.0 & 0.0 & -1.0 & 1.0 \\\\\n",
    "    0.0 & 1.0 & -1.0 & 1.0 & -1.0\n",
    " \\end{pmatrix}$\n",
    "\n",
    "and  \n",
    "> $b =\n",
    "    \\begin{pmatrix}\n",
    "        1.0\\\\\n",
    "        1.0\\\\\n",
    "        -4.0\\\\\n",
    "        -2.0\\\\\n",
    "        -1.0\n",
    "    \\end{pmatrix}$\n",
    "    \n",
    "\n",
    "### Solution\n",
    "We find x by using the Gaussian function from the previous exercise. Then we verify the solution by using the solve function.\n"
   ]
  },
  {
   "cell_type": "code",
   "execution_count": 32,
   "metadata": {
    "collapsed": false
   },
   "outputs": [
    {
     "name": "stdout",
     "output_type": "stream",
     "text": [
      "Solution: x =  [ 2. -2.  1.  1. -1.]\n"
     ]
    }
   ],
   "source": [
    "A = array([[0.0, 0.0, 2.0, 1.0, 2.0], [0.0, 1.0, 0.0, 2.0, -1.0], \n",
    "           [1.0, 2.0, 0.0, -2.0, 0.0], [0.0, 0.0, 0.0, -1.0, 1.0], [0.0, 1.0, -1.0, 1.0, -1.0]])\n",
    "b = array([1.0, 1.0, -4.0, -2.0, -1.0])\n",
    "x = gaussian(A, b)\n",
    "print('Solution: x = ', x)"
   ]
  },
  {
   "cell_type": "code",
   "execution_count": 33,
   "metadata": {
    "collapsed": false
   },
   "outputs": [
    {
     "data": {
      "text/plain": [
       "array([ 2., -2.,  1.,  1., -1.])"
      ]
     },
     "execution_count": 33,
     "metadata": {},
     "output_type": "execute_result"
    }
   ],
   "source": [
    "# A, b\n",
    "A = array([[0.0, 0.0, 2.0, 1.0, 2.0], [0.0, 1.0, 0.0, 2.0, -1.0], \n",
    "           [1.0, 2.0, 0.0, -2.0, 0.0], [0.0, 0.0, 0.0, -1.0, 1.0], [0.0, 1.0, -1.0, 1.0, -1.0]])\n",
    "b = array([1.0, 1.0, -4.0, -2.0, -1.0])\n",
    "solve(A, b)"
   ]
  },
  {
   "cell_type": "markdown",
   "metadata": {},
   "source": [
    "#### Since the solutions we get are the same, we did get the right solution."
   ]
  }
 ],
 "metadata": {
  "anaconda-cloud": {},
  "kernelspec": {
   "display_name": "Python [Root]",
   "language": "python",
   "name": "Python [Root]"
  },
  "language_info": {
   "codemirror_mode": {
    "name": "ipython",
    "version": 3
   },
   "file_extension": ".py",
   "mimetype": "text/x-python",
   "name": "python",
   "nbconvert_exporter": "python",
   "pygments_lexer": "ipython3",
   "version": "3.5.2"
  }
 },
 "nbformat": 4,
 "nbformat_minor": 0
}
