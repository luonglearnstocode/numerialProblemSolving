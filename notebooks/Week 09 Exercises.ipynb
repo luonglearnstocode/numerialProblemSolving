{
 "cells": [
  {
   "cell_type": "markdown",
   "metadata": {},
   "source": [
    "# Week 09 Root finding\n",
    "Introduction to Numerical Problem Solving, Spring 2017   \n",
    "Luong Nguyen, 28.3.2017  \n",
    "Helsinki Metropolia University of Applied Sciences"
   ]
  },
  {
   "cell_type": "code",
   "execution_count": 28,
   "metadata": {
    "collapsed": false
   },
   "outputs": [
    {
     "name": "stdout",
     "output_type": "stream",
     "text": [
      "Populating the interactive namespace from numpy and matplotlib\n"
     ]
    },
    {
     "name": "stderr",
     "output_type": "stream",
     "text": [
      "WARNING: pylab import has clobbered these variables: ['axes', 'f', 'title']\n",
      "`%matplotlib` prevents importing * from pylab and numpy\n"
     ]
    }
   ],
   "source": [
    "# Initial import statements\n",
    "%pylab inline\n",
    "from scipy.optimize import bisect, newton"
   ]
  },
  {
   "cell_type": "markdown",
   "metadata": {},
   "source": [
    "## Reference\n",
    "\n",
    "Johansson (2015). [Numerical Python: A Practical Techniques Approach for Industry](https://metropolia.finna.fi/Record/nelli15.3710000000486209) \n",
    "- [Ch. Plotting and Visualization](https://link-springer-com.ezproxy.metropolia.fi/content/pdf/10.1007%2F978-1-4842-0553-2_4.pdf)\n",
    "- [Ch. Equation Solving](https://link-springer-com.ezproxy.metropolia.fi/content/pdf/10.1007%2F978-1-4842-0553-2_5.pdf)"
   ]
  },
  {
   "cell_type": "markdown",
   "metadata": {},
   "source": [
    "## Exercise 1\n",
    "Draw a graphical presentation of the following functions within a domain $x \\in [−2; 2]$ and observe how many roots $(f(x) = 0)$ each function has and where they approximately locate  \n",
    "$\n",
    "(a)\\ f_1(x) = x^2 - x - 1 \\\\\n",
    "(b)\\ f_2(x) = x^3 - 3\\sin(x) \\\\  \n",
    "(c)\\ f_3(x) = e^x - 2 \\\\\n",
    "(d)\\ \\displaystyle  f_4(x) = 1 - x^2 + \\sin\\bigg(\\frac{50}{1+x^2}\\bigg) \n",
    "$"
   ]
  },
  {
   "cell_type": "markdown",
   "metadata": {},
   "source": [
    "## Solution\n",
    "For this problem, we have an elegant solution from Johansson (2015) p. 137. First we define 4 lambda functions, then plot the functions on the domain $x\\in [-2;2]$ in 4 subplots with the addition the grid and the horizontal line at $y = 0$."
   ]
  },
  {
   "cell_type": "code",
   "execution_count": 29,
   "metadata": {
    "collapsed": false
   },
   "outputs": [
    {
     "data": {
      "image/png": "[encoded data removed]",
      "text/plain": [
       "<matplotlib.figure.Figure at 0x245186cedd8>"
      ]
     },
     "metadata": {},
     "output_type": "display_data"
    }
   ],
   "source": [
    "f1 = lambda x: x**2 - x - 1\n",
    "f2 = lambda x: x**3 - 3 * sin(x)\n",
    "f3 = lambda x: exp(x) - 2\n",
    "f4 = lambda x: 1 - x**2 + sin(50 / (1 + x**2))\n",
    "\n",
    "x = linspace(-2, 2, 1000)\n",
    "fig, axes = subplots(1, 4, figsize=(12, 3), sharey=True)\n",
    "\n",
    "for n, f in enumerate([f1, f2, f3, f4]):\n",
    "    axes[n].plot(x, f(x), lw=1.5)\n",
    "    axes[n].axhline(0, color='r')\n",
    "    axes[n].grid()\n",
    "    axes[n].set_ylim(-5, 5)\n",
    "    axes[n].set_xticks([-2, -1, 0, 1, 2])\n",
    "    axes[n].set_xlabel(r'$x$', fontsize=18)\n",
    "axes[0].set_ylabel(r'$f(x)$', fontsize=18)\n",
    "titles = [r'$f(x)=x^2-x-1$', r'$f(x)=x^3-3\\sin(x)$', r'$f(x)=e^x-2$', r'$f(x)=\\sin\\left(50/(1+x^2)\\right)+1-x^2$']\n",
    "for n, title in enumerate(titles):\n",
    "    axes[n].set_title(title)"
   ]
  },
  {
   "cell_type": "markdown",
   "metadata": {},
   "source": [
    "## Exercise 2\n",
    "Write a function that incrementally search the root of a function. It should use 4 arguments, $f$ the function, $a$ the lower and $b$ the upper limits of the search domain, and $dx$ the step of the increment. The function returns the estimate for the root, $x_0$, and the number of steps, $n$, needed to find the root.  \n",
    "Test your incremental search function with the example functions given in problem 1. How many incremental steps are needed to find the first root with the step size of 0.01?"
   ]
  },
  {
   "cell_type": "markdown",
   "metadata": {},
   "source": [
    "## Solution\n",
    "Using `incrementSearch` to find the first root of a function on the given domain, we start with $x$ at the lower limit $a$ and keep on adding $dx$ into $x$ and increasing the number of steps until the sign of the function changes, which means the function has crossed the x axis and we detected a root. Finally we return the root and the number of steps as required. If the value of $x$ surpasses the upper limit $b$, no root was detected."
   ]
  },
  {
   "cell_type": "code",
   "execution_count": 30,
   "metadata": {
    "collapsed": true
   },
   "outputs": [],
   "source": [
    "def incrementSearch(f, a, b, dx):\n",
    "    \"\"\"\n",
    "    Inputs:\n",
    "       f = the function \n",
    "       a = lower limit of the domain\n",
    "       b = upper limit of the domain\n",
    "       dx = step of the increment\n",
    "    Outputs:\n",
    "       x0 = estimate for the root\n",
    "       n = number of iterations\n",
    "    \"\"\"\n",
    "    x = a\n",
    "    n = 0\n",
    "    while (x < b):\n",
    "        if sign(f(x)) != sign(f(x + dx)):\n",
    "            return x + dx, n + 1\n",
    "        x += dx    \n",
    "        n += 1\n",
    "\n",
    "    return None, n"
   ]
  },
  {
   "cell_type": "code",
   "execution_count": 31,
   "metadata": {
    "collapsed": false
   },
   "outputs": [
    {
     "name": "stdout",
     "output_type": "stream",
     "text": [
      "Increment search:\n",
      "\tFunction f1:\n",
      "\t\tRoot x0 = -0.6100\n",
      "\t\tNumber of steps n = 139\n",
      "\tFunction f2:\n",
      "\t\tRoot x0 = -1.4300\n",
      "\t\tNumber of steps n = 57\n",
      "\tFunction f3:\n",
      "\t\tRoot x0 = 0.7000\n",
      "\t\tNumber of steps n = 270\n",
      "\tFunction f4:\n",
      "\t\tRoot x0 = -1.2500\n",
      "\t\tNumber of steps n = 75\n"
     ]
    }
   ],
   "source": [
    "fs = [f1, f2, f3, f4]\n",
    "i = 0\n",
    "\n",
    "print(\"Increment search:\")\n",
    "for f in fs:\n",
    "    i += 1\n",
    "    x, n = incrementSearch(f, a = -2, b = 2, dx = 0.01)\n",
    "    print(\"\\tFunction f{}:\".format(i))\n",
    "    print(\"\\t\\tRoot x0 = {0:.4f}\".format(x))\n",
    "    print(\"\\t\\tNumber of steps n = {}\".format(n))"
   ]
  },
  {
   "cell_type": "markdown",
   "metadata": {},
   "source": [
    "## Exercise 3\n",
    "Study the `bisect()` function found in module `scipy.optimize`. Use that function to find the roots of the problem 1. Use tolerance value of 0.01. How do these results differ from the results obtained in previous problem?"
   ]
  },
  {
   "cell_type": "markdown",
   "metadata": {},
   "source": [
    "## Solution\n",
    "`bisect()` finds a root of a function $f$ within the arguments $a$ and $b$. It will certainly find the root with a condition that $f(a)$ and $f(b)$ cannot have the same signs.\n",
    "Which each function, we have to adjust the value of $a$ and $b$ to get the first root in the domain [-2, 2] so that we can compare the solution with the roots we found in exercise 2.  "
   ]
  },
  {
   "cell_type": "code",
   "execution_count": 32,
   "metadata": {
    "collapsed": false
   },
   "outputs": [
    {
     "name": "stdout",
     "output_type": "stream",
     "text": [
      "Root found by scipy.optimize.bisect:\n",
      "\tFunction f1:\n",
      "\t\tRoot x0 = -0.6230\n",
      "\t\tNumber of steps n = 9\n",
      "\tFunction f2:\n",
      "\t\tRoot x0 = -1.4453\n",
      "\t\tNumber of steps n = 7\n",
      "\tFunction f3:\n",
      "\t\tRoot x0 = 0.6953\n",
      "\t\tNumber of steps n = 9\n",
      "\tFunction f4:\n",
      "\t\tRoot x0 = -1.2563\n",
      "\t\tNumber of steps n = 7\n"
     ]
    }
   ],
   "source": [
    "# array of values of b for bisect() to find the first root of each function\n",
    "b_s = [1, -1, 2, -1.2]\n",
    "i = 0\n",
    "print(\"Root found by scipy.optimize.bisect:\")\n",
    "for f in fs:\n",
    "    i += 1\n",
    "    x,r = bisect(f, a = -2, b = b_s[i-1], xtol=0.01, full_output=True)\n",
    "    print(\"\\tFunction f{}:\".format(i))\n",
    "    print(\"\\t\\tRoot x0 = {0:.4f}\".format(x))\n",
    "    print(\"\\t\\tNumber of steps n = {}\".format(r.iterations))"
   ]
  },
  {
   "cell_type": "markdown",
   "metadata": {
    "collapsed": false
   },
   "source": [
    "We could see that the roots found by `bisect` is similar to the ones from exercise 2. However the number of needed steps reduces significantly. "
   ]
  },
  {
   "cell_type": "markdown",
   "metadata": {
    "collapsed": true
   },
   "source": [
    "## Exercise 4\n",
    "Write your own function that implements the bisectional search method.  \n",
    "Test your code with the mathematical functions given in problem 1 and compare the results with those obtained in problem 3. Are they similar?"
   ]
  },
  {
   "cell_type": "markdown",
   "metadata": {},
   "source": [
    "## Solution\n",
    "Within an interval $[a, b]$ that $f(a)$ and $f(b)$ have different signs, our `bisectSearch` method will certainly find a root.\n",
    "In each iteration, the new value of $x_0$ is the middle point of the interval. Next, we get the value of the function at $x_0$, compare its sign with $f(a)$ and then change the value of $a$ or $b$ to get a new interval with half the size of the previous one so the function will converge toward a root. "
   ]
  },
  {
   "cell_type": "code",
   "execution_count": 33,
   "metadata": {
    "collapsed": true
   },
   "outputs": [],
   "source": [
    "def bisectSearch(f, a, b, tol, maxiter):\n",
    "    \"\"\" bisectSearch(f, a, b, tol, maxiter)\n",
    "    My version of the bisectional root searching algorithm.\n",
    "    Inputs:\n",
    "       f = the function \n",
    "       a = lower limit of the domain\n",
    "       b = upper limit of the domain\n",
    "       tol = tolerance for the root value\n",
    "       maxiter = maximum numbers of iterations\n",
    "    Outputs:\n",
    "       x0 = estimate for the root\n",
    "       n = number of iterations\n",
    "    \"\"\"\n",
    "    x0, n = None, 0\n",
    "    while (b - a > tol and n < maxiter):\n",
    "        x0 = a + (b - a) / 2\n",
    "        if sign(f(a)) == sign(f(x0)):\n",
    "            a = x0\n",
    "        else:\n",
    "            b = x0   \n",
    "        n += 1\n",
    "    return x0, n  "
   ]
  },
  {
   "cell_type": "code",
   "execution_count": 34,
   "metadata": {
    "collapsed": false
   },
   "outputs": [
    {
     "name": "stdout",
     "output_type": "stream",
     "text": [
      "Root found by bisectSearch:\n",
      "\tFunction f1:\n",
      "\t\tRoot x0 = -0.6230\n",
      "\t\tNumber of steps n = 9\n",
      "\tFunction f2:\n",
      "\t\tRoot x0 = -1.4453\n",
      "\t\tNumber of steps n = 7\n",
      "\tFunction f3:\n",
      "\t\tRoot x0 = 0.6953\n",
      "\t\tNumber of steps n = 9\n",
      "\tFunction f4:\n",
      "\t\tRoot x0 = -1.2563\n",
      "\t\tNumber of steps n = 7\n"
     ]
    }
   ],
   "source": [
    "i = 0\n",
    "print(\"Root found by bisectSearch:\")\n",
    "for f in fs:\n",
    "    i += 1\n",
    "    x, n = bisectSearch(f, a = -2, b = b_s[i-1], tol = 0.01, maxiter = 200)\n",
    "    print(\"\\tFunction f{}:\".format(i))\n",
    "    print(\"\\t\\tRoot x0 = {0:.4f}\".format(x))\n",
    "    print(\"\\t\\tNumber of steps n = {}\".format(n))"
   ]
  },
  {
   "cell_type": "markdown",
   "metadata": {
    "collapsed": true
   },
   "source": [
    "We could see that the roots found by our `bisectSearch` and the number of steps are exactly the same as what we obtained in exercise 3."
   ]
  }
 ],
 "metadata": {
  "anaconda-cloud": {},
  "kernelspec": {
   "display_name": "Python [Root]",
   "language": "python",
   "name": "Python [Root]"
  },
  "language_info": {
   "codemirror_mode": {
    "name": "ipython",
    "version": 3
   },
   "file_extension": ".py",
   "mimetype": "text/x-python",
   "name": "python",
   "nbconvert_exporter": "python",
   "pygments_lexer": "ipython3",
   "version": "3.5.2"
  }
 },
 "nbformat": 4,
 "nbformat_minor": 0
}
