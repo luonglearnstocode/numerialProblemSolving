{
 "cells": [
  {
   "cell_type": "code",
   "execution_count": 14,
   "metadata": {
    "collapsed": true
   },
   "outputs": [],
   "source": [
    "import numpy as np\n",
    "import pprint\n",
    "import random"
   ]
  },
  {
   "cell_type": "code",
   "execution_count": 19,
   "metadata": {
    "collapsed": false
   },
   "outputs": [
    {
     "name": "stdout",
     "output_type": "stream",
     "text": [
      "[[ 0.   0.5  0.   0.   0.   0. ]\n",
      " [ 1.   0.   0.5  0.   0.   0. ]\n",
      " [ 0.   0.5  0.   0.5  0.   0. ]\n",
      " [ 0.   0.   0.5  0.   0.5  0. ]\n",
      " [ 0.   0.   0.   0.5  0.   1. ]\n",
      " [ 0.   0.   0.   0.   0.5  0. ]]\n",
      "[0 0 0 1 0 0]\n",
      "[  0.00000000e+00   0.00000000e+00   7.88860905e-31   0.00000000e+00\n",
      "   7.88860905e-31   0.00000000e+00]\n"
     ]
    }
   ],
   "source": [
    "A = np.array([[0, 1/2, 0, 0, 0, 0],\n",
    "           [1, 0, 1/2, 0, 0, 0],\n",
    "           [0, 1/2, 0, 1/2, 0, 0],\n",
    "           [0, 0, 1/2, 0, 1/2, 0],\n",
    "           [0, 0 , 0, 1/2, 0, 1],\n",
    "          [0, 0, 0, 0, 1/2, 0]])\n",
    "b = np.array([0, 0, 0, 1, 0, 0])\n",
    "print(A)\n",
    "print(b)\n",
    "print(np.dot(A**100, b))"
   ]
  },
  {
   "cell_type": "code",
   "execution_count": 20,
   "metadata": {
    "collapsed": false
   },
   "outputs": [
    {
     "name": "stdout",
     "output_type": "stream",
     "text": [
      "0.59818\n"
     ]
    }
   ],
   "source": [
    "mouse = 3\n",
    "p = 0.5\n",
    "N = 100000\n",
    "food = 0\n",
    "shock = 0\n",
    "for i in range(N):\n",
    "    mouse = 3\n",
    "    while (True):\n",
    "        if (random.random() < p):\n",
    "            mouse += 1\n",
    "        else:\n",
    "            mouse -= 1\n",
    "        if mouse == 5:\n",
    "            food += 1\n",
    "            break\n",
    "        if mouse == 0:\n",
    "            shock += 1\n",
    "            break\n",
    "foodRatio = food / N\n",
    "print(foodRatio)"
   ]
  }
 ],
 "metadata": {
  "kernelspec": {
   "display_name": "Python [Root]",
   "language": "python",
   "name": "Python [Root]"
  },
  "language_info": {
   "codemirror_mode": {
    "name": "ipython",
    "version": 3
   },
   "file_extension": ".py",
   "mimetype": "text/x-python",
   "name": "python",
   "nbconvert_exporter": "python",
   "pygments_lexer": "ipython3",
   "version": "3.5.2"
  }
 },
 "nbformat": 4,
 "nbformat_minor": 0
}
